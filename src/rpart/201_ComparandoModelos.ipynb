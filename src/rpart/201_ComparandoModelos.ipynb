{
  "nbformat": 4,
  "nbformat_minor": 0,
  "metadata": {
    "colab": {
      "provenance": [],
      "include_colab_link": true
    },
    "kernelspec": {
      "name": "ir",
      "display_name": "R"
    },
    "language_info": {
      "name": "R"
    }
  },
  "cells": [
    {
      "cell_type": "markdown",
      "metadata": {
        "id": "view-in-github",
        "colab_type": "text"
      },
      "source": [
        "<a href=\"https://colab.research.google.com/github/luciaphmaestria/labo2025v/blob/main/src/rpart/201_ComparandoModelos.ipynb\" target=\"_parent\"><img src=\"https://colab.research.google.com/assets/colab-badge.svg\" alt=\"Open In Colab\"/></a>"
      ]
    },
    {
      "cell_type": "markdown",
      "source": [
        "# Comparando Modelos"
      ],
      "metadata": {
        "id": "5DrvzQ9BsXmX"
      }
    },
    {
      "cell_type": "markdown",
      "source": [
        "Estamos en la  Clase 02\n",
        "<br> El objetivo de la materia es lograr la mejor predicción para nuestro probleama, para lo que se probarán pipelines con decenas de alternativas, será indispensable comparar varios modelos predictivos entre sí y decidir cual es el mejor\n",
        "<br> La tarea no es tan sencilla"
      ],
      "metadata": {
        "id": "Y2U9lu16sgta"
      }
    },
    {
      "cell_type": "markdown",
      "source": [
        "## Seteo del ambiente en Google Colab"
      ],
      "metadata": {
        "id": "kmLygy1TYPfg"
      }
    },
    {
      "cell_type": "markdown",
      "source": [
        "Esta parte se debe correr con el runtime en Python3\n",
        "<br>Ir al menu, Runtime -> Change Runtime Tipe -> Runtime type ->  **Python 3**"
      ],
      "metadata": {
        "id": "OikOm5K2YU3X"
      }
    },
    {
      "cell_type": "markdown",
      "source": [
        "Conectar la virtual machine donde esta corriendo Google Colab con el  Google Drive, para poder tener persistencia de archivos"
      ],
      "metadata": {
        "id": "4fmV5LyZdFyI"
      }
    },
    {
      "cell_type": "code",
      "source": [
        "# primero establecer el Runtime de Python 3\n",
        "from google.colab import drive\n",
        "drive.mount('/content/.drive')"
      ],
      "metadata": {
        "id": "ilEZ-bE2VybW",
        "colab": {
          "base_uri": "https://localhost:8080/"
        },
        "outputId": "9490502b-657e-4219-aae2-bd01ca4c543a"
      },
      "execution_count": 1,
      "outputs": [
        {
          "output_type": "stream",
          "name": "stdout",
          "text": [
            "Mounted at /content/.drive\n"
          ]
        }
      ]
    },
    {
      "cell_type": "markdown",
      "source": [
        "Para correr la siguiente celda es fundamental en Arranque en Frio haber copiado el archivo kaggle.json al Google Drive, en la carpeta indicada en el instructivo\n",
        "\n",
        "<br>los siguientes comando estan en shell script de Linux\n",
        "*   Crear las carpetas en el Google Drive\n",
        "*   \"instalar\" el archivo kaggle.json desde el Google Drive a la virtual machine para que pueda ser utilizado por la libreria  kaggle de Python\n",
        "*   Bajar el  **dataset_pequeno**  al  Google Drive  y tambien al disco local de la virtual machine que esta corriendo Google Colab\n",
        "\n"
      ],
      "metadata": {
        "id": "ilaKtqWldeWg"
      }
    },
    {
      "cell_type": "code",
      "source": [
        "%%shell\n",
        "\n",
        "mkdir -p \"/content/.drive/My Drive/labo1\"\n",
        "mkdir -p \"/content/buckets\"\n",
        "ln -s \"/content/.drive/My Drive/labo1\" /content/buckets/b1\n",
        "\n",
        "mkdir -p ~/.kaggle\n",
        "cp /content/buckets/b1/kaggle/kaggle.json  ~/.kaggle\n",
        "chmod 600 ~/.kaggle/kaggle.json\n",
        "\n",
        "\n",
        "mkdir -p /content/buckets/b1/exp\n",
        "mkdir -p /content/buckets/b1/datasets\n",
        "mkdir -p /content/datasets\n",
        "\n",
        "\n",
        "\n",
        "archivo_origen=\"https://storage.googleapis.com/open-courses/austral2025-af91/dataset_pequeno.csv\"\n",
        "archivo_destino=\"/content/datasets/dataset_pequeno.csv\"\n",
        "archivo_destino_bucket=\"/content/buckets/b1/datasets/dataset_pequeno.csv\"\n",
        "\n",
        "if ! test -f $archivo_destino_bucket; then\n",
        "  wget  $archivo_origen  -O $archivo_destino_bucket\n",
        "fi\n",
        "\n",
        "\n",
        "if ! test -f $archivo_destino; then\n",
        "  cp  $archivo_destino_bucket  $archivo_destino\n",
        "fi\n"
      ],
      "metadata": {
        "id": "W8dQFI5QYCFa",
        "colab": {
          "base_uri": "https://localhost:8080/"
        },
        "outputId": "69129e8f-f33b-4e9e-82fd-b8136c210f69"
      },
      "execution_count": 2,
      "outputs": [
        {
          "output_type": "execute_result",
          "data": {
            "text/plain": []
          },
          "metadata": {},
          "execution_count": 2
        }
      ]
    },
    {
      "cell_type": "markdown",
      "source": [
        "# 1  Particion Training/Testing\n",
        "## Clase 02  Experimento 1"
      ],
      "metadata": {
        "id": "iV32-NeesVp6"
      }
    },
    {
      "cell_type": "markdown",
      "source": [
        "## 1.1  Objetivos\n",
        "Dado que es el primer experimento de la asignatura, acercar a l@s estudiantes las mejores prácticas de operación del ambiente de Google Cloud, realizando una minuciosa demostración en vivo narrando todas las consideraciones pertinentes para evitar accidentes, daños a terceros y a equipos.\n",
        "Dar soporte en el acto a  l@s estudiantes que necesitan ayuda para terminar de configurar el ambiente Google Cloud .\n",
        "<br>Repaso del concepto de  partición de un dataset al azar, estratificada en la clase\n",
        "<br>Dado que es el primer script que se mostrará en vivo a l@s estudiantes,  realizar una visita guiada del  mismo, su estructura y detalles.\n",
        "<br>Repaso del algoritmo Arbol de Decisión sus hiperparámetros, y la implementación con la librería  rpart.  Funciones  rpart::rpart  y rpart::predict\n",
        "<br>Concepto de replicabilidad de los experimentos mediante las semillas de los generadores de secuencias de números pseudoaleatorios.\n",
        "<br>Finalmente, el principal objetivo de este experimento es lograr que l@s estudiantes dimensionen la enorme variabilidad del error de medición de la ganancia de un árbol de decisión al realizar una partición <training, testing>,  contener la sorpresa de los estudiantes, descartar a la simple particion <training, testing> como método,  y construir en conjunto una solucion natural al problema."
      ],
      "metadata": {
        "id": "84Pnj9gVwpXB"
      }
    },
    {
      "cell_type": "markdown",
      "source": [
        "## 1.2 Introduccion"
      ],
      "metadata": {
        "id": "L9Cn0WThw37Y"
      }
    },
    {
      "cell_type": "markdown",
      "source": [
        "![Particiohn Training/Testing](https://storage.googleapis.com/open-courses/austral2025-af91/labo1r/C2_E1_particion.jpg)"
      ],
      "metadata": {
        "id": "ZELZ0R4itUVG"
      }
    },
    {
      "cell_type": "markdown",
      "source": [
        "![Dos tipos de error](https://storage.googleapis.com/open-courses/austral2025-af91/labo1r/C2_E1_target.jpg)"
      ],
      "metadata": {
        "id": "Wtc1ho58xLk-"
      }
    },
    {
      "cell_type": "markdown",
      "source": [
        "## 1.3  Bibliografía\n",
        "\n",
        "Demšar, J. [Statistical comparisons of classifiers over multiple data sets](https://www.jmlr.org/papers/volume7/demsar06a/demsar06a.pdf) J. Mach. Learn. Res. 7, 1–30 (2006).   \n",
        "Starmer, J. [Machine Learning Fundamentals: Cross Validation](https://www.youtube.com/watch?v=fSytzGwwBVw)Machine Learning Fundamentals: Cross Validation, StatQuest with Josh Starmer youtube channel, (2018)\n",
        "Hastie, T.[The elements of statistical learning: data mining, inference, and prediction](https://hastie.su.domains/Papers/ESLII.pdf) , volume 2. Springer, 2009  ( Chapter 7 Model Assessment and Selection )"
      ],
      "metadata": {
        "id": "oRWtRV34xZRT"
      }
    },
    {
      "cell_type": "markdown",
      "source": [
        "## 1.4 Codigo"
      ],
      "metadata": {
        "id": "VcgTQ2-Pyb8q"
      }
    },
    {
      "cell_type": "markdown",
      "source": [
        "Esta parte se debe correr con el runtime en lenguaje **R** Ir al menu, Runtime -> Change Runtime Tipe -> Runtime type -> R"
      ],
      "metadata": {
        "id": "SBXPU-_tabMb"
      }
    },
    {
      "cell_type": "markdown",
      "source": [
        "limpio el ambiente de R"
      ],
      "metadata": {
        "id": "SE94XRhWsxkX"
      }
    },
    {
      "cell_type": "code",
      "source": [
        "# limpio la memoria\n",
        "rm(list=ls(all.names=TRUE)) # remove all objects\n",
        "gc(full=TRUE, verbose=FALSE) # garbage collection"
      ],
      "metadata": {
        "id": "oZG_4br6szlT",
        "colab": {
          "base_uri": "https://localhost:8080/",
          "height": 129
        },
        "outputId": "c805a22d-184d-4202-f75a-f37d5f0e1041"
      },
      "execution_count": 1,
      "outputs": [
        {
          "output_type": "display_data",
          "data": {
            "text/html": [
              "<table class=\"dataframe\">\n",
              "<caption>A matrix: 2 × 6 of type dbl</caption>\n",
              "<thead>\n",
              "\t<tr><th></th><th scope=col>used</th><th scope=col>(Mb)</th><th scope=col>gc trigger</th><th scope=col>(Mb)</th><th scope=col>max used</th><th scope=col>(Mb)</th></tr>\n",
              "</thead>\n",
              "<tbody>\n",
              "\t<tr><th scope=row>Ncells</th><td> 657244</td><td>35.2</td><td>1454477</td><td>77.7</td><td>1326136</td><td>70.9</td></tr>\n",
              "\t<tr><th scope=row>Vcells</th><td>1220271</td><td> 9.4</td><td>8388608</td><td>64.0</td><td>1975128</td><td>15.1</td></tr>\n",
              "</tbody>\n",
              "</table>\n"
            ],
            "text/markdown": "\nA matrix: 2 × 6 of type dbl\n\n| <!--/--> | used | (Mb) | gc trigger | (Mb) | max used | (Mb) |\n|---|---|---|---|---|---|---|\n| Ncells |  657244 | 35.2 | 1454477 | 77.7 | 1326136 | 70.9 |\n| Vcells | 1220271 |  9.4 | 8388608 | 64.0 | 1975128 | 15.1 |\n\n",
            "text/latex": "A matrix: 2 × 6 of type dbl\n\\begin{tabular}{r|llllll}\n  & used & (Mb) & gc trigger & (Mb) & max used & (Mb)\\\\\n\\hline\n\tNcells &  657244 & 35.2 & 1454477 & 77.7 & 1326136 & 70.9\\\\\n\tVcells & 1220271 &  9.4 & 8388608 & 64.0 & 1975128 & 15.1\\\\\n\\end{tabular}\n",
            "text/plain": [
              "       used    (Mb) gc trigger (Mb) max used (Mb)\n",
              "Ncells  657244 35.2 1454477    77.7 1326136  70.9\n",
              "Vcells 1220271  9.4 8388608    64.0 1975128  15.1"
            ]
          },
          "metadata": {}
        }
      ]
    },
    {
      "cell_type": "code",
      "source": [
        "Sys.time()"
      ],
      "metadata": {
        "id": "pJ8SsVA5ssnf",
        "colab": {
          "base_uri": "https://localhost:8080/",
          "height": 34
        },
        "outputId": "ef979d03-6658-4966-bfaf-79ee94a6791c"
      },
      "execution_count": 2,
      "outputs": [
        {
          "output_type": "display_data",
          "data": {
            "text/plain": [
              "[1] \"2025-10-25 16:29:49 UTC\""
            ]
          },
          "metadata": {}
        }
      ]
    },
    {
      "cell_type": "markdown",
      "source": [
        "* Instalacion de la libreria  rpart.plot  para dibujar el arbol\n",
        "* invocacion de las librerias  **data.table** y  **rpart**"
      ],
      "metadata": {
        "id": "3BrrQ47PeEb2"
      }
    },
    {
      "cell_type": "code",
      "source": [
        "# cargo las librerias que necesito\n",
        "require(\"data.table\")\n",
        "require(\"rpart\")\n"
      ],
      "metadata": {
        "id": "SxO-0Ql0khn6",
        "outputId": "518ff33a-cb48-49fe-e4b2-98f8f08b5eb6",
        "colab": {
          "base_uri": "https://localhost:8080/"
        }
      },
      "execution_count": 3,
      "outputs": [
        {
          "output_type": "stream",
          "name": "stderr",
          "text": [
            "Loading required package: data.table\n",
            "\n",
            "Loading required package: rpart\n",
            "\n"
          ]
        }
      ]
    },
    {
      "cell_type": "markdown",
      "source": [
        "###  Accion a Realizar\n",
        "PARAM$semilla  debe tener su primer semilla aleatoria"
      ],
      "metadata": {
        "id": "ZG9fCnZh3bWV"
      }
    },
    {
      "cell_type": "code",
      "source": [
        "PARAM <- list()\n",
        "PARAM$semilla <- 120539  # aqui debe ir su primer semilla\n",
        "PARAM$training_pct <- 70L  # entre  1L y 99L\n",
        "\n",
        "PARAM$rpart <- list (\n",
        "  \"cp\" = -1, # complejidad minima\n",
        "  \"minsplit\" = 170, # minima cantidad de regs en un nodo para hacer el split\n",
        "  \"minbucket\" = 70, # minima cantidad de regs en una hoja\n",
        "  \"maxdepth\" = 7 # profundidad máxima del arbol\n",
        ")\n"
      ],
      "metadata": {
        "id": "0nx5_OcE3Y9c"
      },
      "execution_count": 4,
      "outputs": []
    },
    {
      "cell_type": "code",
      "source": [
        "# particionar agrega una columna llamada fold a un dataset\n",
        "#  que consiste en una particion estratificada segun agrupa\n",
        "\n",
        "# particionar( data=dataset, division=c(70,30),\n",
        "#  agrupa=clase_ternaria, seed=semilla)   crea una particion 70, 30\n",
        "\n",
        "particionar <- function(\n",
        "    data, division, agrupa = \"\",\n",
        "    campo = \"fold\", start = 1, seed = NA) {\n",
        "  if (!is.na(seed)) set.seed(seed)\n",
        "\n",
        "  bloque <- unlist(mapply(function(x, y) {\n",
        "    rep(y, x)\n",
        "  }, division, seq(from = start, length.out = length(division))))\n",
        "\n",
        "  data[, (campo) := sample(rep(bloque, ceiling(.N / length(bloque))))[1:.N],\n",
        "    by = agrupa\n",
        "  ]\n",
        "}\n"
      ],
      "metadata": {
        "id": "8HLE9Dx80gjH"
      },
      "execution_count": 5,
      "outputs": []
    },
    {
      "cell_type": "code",
      "source": [
        "# carpeta de trabajo\n",
        "setwd(\"/content/buckets/b1/exp\")\n",
        "experimento <- \"exp201\"\n",
        "dir.create(experimento, showWarnings=FALSE)\n",
        "setwd( paste0(\"/content/buckets/b1/exp/\", experimento ))"
      ],
      "metadata": {
        "id": "sC4_nqcm0nUs"
      },
      "execution_count": 6,
      "outputs": []
    },
    {
      "cell_type": "code",
      "source": [
        "# lectura del dataset\n",
        "dataset <- fread(\"/content/datasets/dataset_pequeno.csv\")\n",
        "\n",
        "# trabajo solo con los datos con clase, es decir 202107\n",
        "dataset <- dataset[clase_ternaria != \"\"]"
      ],
      "metadata": {
        "id": "6yIEsZOw07q8"
      },
      "execution_count": 7,
      "outputs": []
    },
    {
      "cell_type": "code",
      "source": [
        "# particiono estratificadamente el dataset 70%, 30%\n",
        "particionar(dataset,\n",
        "  division = c(PARAM$training_pct, 100L -PARAM$training_pct),\n",
        "  agrupa = \"clase_ternaria\",\n",
        "  seed = PARAM$semilla # aqui se usa SU semilla\n",
        ")\n",
        "\n"
      ],
      "metadata": {
        "id": "FAO1Hhd52b5d"
      },
      "execution_count": 8,
      "outputs": []
    },
    {
      "cell_type": "code",
      "source": [
        "# genero el modelo\n",
        "# quiero predecir clase_ternaria a partir del resto\n",
        "# fold==1  es training,  el 70% de los datos\n",
        "modelo <- rpart(\"clase_ternaria ~ .\",\n",
        "  data = dataset[fold == 1],  # fold==1  es training, el 70% de los datos\n",
        "  xval = 0,\n",
        "  control = PARAM$rpart # aqui van los parametros\n",
        ")\n"
      ],
      "metadata": {
        "id": "s3UnHSLP2gN6"
      },
      "execution_count": 9,
      "outputs": []
    },
    {
      "cell_type": "code",
      "source": [
        "# aplico el modelo a los datos de testing\n",
        "prediccion <- predict(modelo, # el modelo que genere recien\n",
        "  dataset[fold == 2], # fold==2  es testing, el 30% de los datos\n",
        "  type = \"prob\"\n",
        ") # type= \"prob\"  es que devuelva la probabilidad\n"
      ],
      "metadata": {
        "id": "paQphV4A2jGz"
      },
      "execution_count": 10,
      "outputs": []
    },
    {
      "cell_type": "code",
      "source": [
        "tb_prediccion <- as.data.table(list(\n",
        "  \"clase_ternaria\"=dataset[fold == 2, clase_ternaria],\n",
        "  \"prob\"=prediccion[, \"BAJA+2\"]\n",
        "))"
      ],
      "metadata": {
        "id": "fuLZ75pA29dT"
      },
      "execution_count": 11,
      "outputs": []
    },
    {
      "cell_type": "code",
      "source": [
        "# calculo la ganancia de cada registro\n",
        "tb_prediccion[, ganancia := ifelse(clase_ternaria == \"BAJA+2\", 117000, -3000)]"
      ],
      "metadata": {
        "id": "LuG6ql_t3kOI"
      },
      "execution_count": 12,
      "outputs": []
    },
    {
      "cell_type": "code",
      "source": [
        "# calculo la clase\n",
        "tb_prediccion[, Predicted := prob > (1/40) ]"
      ],
      "metadata": {
        "id": "xJ3WTMez3leO"
      },
      "execution_count": 13,
      "outputs": []
    },
    {
      "cell_type": "code",
      "source": [
        "ganancia_test <-  tb_prediccion[ Predicted==TRUE,  sum(ganancia)]"
      ],
      "metadata": {
        "id": "cFQPacen4Wq6"
      },
      "execution_count": 14,
      "outputs": []
    },
    {
      "cell_type": "code",
      "source": [
        "# normalizo la ganancia\n",
        "ganancia_test_normalizada <- ganancia_test / (( 100 - PARAM$training_pct ) / 100 )"
      ],
      "metadata": {
        "id": "dHjz0zhN4-nZ"
      },
      "execution_count": 15,
      "outputs": []
    },
    {
      "cell_type": "code",
      "source": [
        "estimulos <- tb_prediccion[ Predicted==TRUE, .N]\n",
        "aciertos <- tb_prediccion[ Predicted & clase_ternaria == \"BAJA+2\", .N]\n"
      ],
      "metadata": {
        "id": "D7RUdTb95F6B"
      },
      "execution_count": 16,
      "outputs": []
    },
    {
      "cell_type": "code",
      "source": [
        "# Resultado Final\n",
        "cat(\"Testing total: \", dataset[fold == 2, .N], \"\\n\")\n",
        "cat(\"Testing BAJA+2: \", dataset[fold == 2 & clase_ternaria == \"BAJA+2\", .N], \"\\n\")\n",
        "\n",
        "cat(\"Estimulos: \", estimulos, \"\\n\")\n",
        "cat(\"Aciertos (BAJA+2): \", aciertos, \"\\n\")\n",
        "\n",
        "cat(\"Ganancia en testing (normalizada): \", ganancia_test_normalizada, \"\\n\")\n"
      ],
      "metadata": {
        "id": "Lu1KM6fy5U7h",
        "colab": {
          "base_uri": "https://localhost:8080/"
        },
        "outputId": "743dcc0a-68f1-4bc6-d001-40ff89fedf89"
      },
      "execution_count": 17,
      "outputs": [
        {
          "output_type": "stream",
          "name": "stdout",
          "text": [
            "Testing total:  49389 \n",
            "Testing BAJA+2:  376 \n",
            "Estimulos:  3123 \n",
            "Aciertos (BAJA+2):  214 \n",
            "Ganancia en testing (normalizada):  54370000 \n"
          ]
        }
      ]
    },
    {
      "cell_type": "markdown",
      "source": [
        "### Acciones a realizar\n",
        "* Reportar la  *Ganancia en testing (normalizada)* <br> en la planilla colaborativa hoja  **C2-1sem**\n",
        "* Se discutirá en clase la variabilidad de las ganancias obtenidas de distintos alumnos"
      ],
      "metadata": {
        "id": "kHs-YoFB5rUa"
      }
    },
    {
      "cell_type": "markdown",
      "source": [
        "\n",
        "\n",
        "---\n",
        "\n"
      ],
      "metadata": {
        "id": "LBl_eIeO7WuM"
      }
    },
    {
      "cell_type": "markdown",
      "source": [
        "# 2  Medición Monte Carlo Cross Validation\n",
        "## Clase 02  Experimento 2"
      ],
      "metadata": {
        "id": "h43UCq9y7UlT"
      }
    },
    {
      "cell_type": "markdown",
      "source": [
        "## 2.1  Objetivos\n",
        "Mostrar el funcionamiento de la Montecarlo Cross Validation y que l@s estudiantes aprecien la disminución de la varianza de dicha metodología.\n",
        "Relación con el Teorema Central del Límite"
      ],
      "metadata": {
        "id": "wHPchGXK80VU"
      }
    },
    {
      "cell_type": "markdown",
      "source": [
        "## 2.2 Introduccion\n",
        "\n",
        "![Montecarlo](https://storage.googleapis.com/open-courses/austral2025-af91/labo1r/C2_E2_montecarlo.jpg)\n",
        "\n",
        "![Curva normal](https://storage.googleapis.com/open-courses/austral2025-af91/labo1r/C2_E2_normal.jpg)\n",
        "\n",
        "![Teorema Central del Limite](https://storage.googleapis.com/open-courses/austral2025-af91/labo1r/C2_E2_teoremacentralLimite.jpg)\n",
        "\n"
      ],
      "metadata": {
        "id": "g6YzACxl9DzS"
      }
    },
    {
      "cell_type": "markdown",
      "source": [],
      "metadata": {
        "id": "7laod2t4ArsH"
      }
    },
    {
      "cell_type": "markdown",
      "source": [
        "## 2.3  Bibliografía\n",
        "\n",
        "Demšar, J. [Statistical comparisons of classifiers over multiple data sets](https://www.jmlr.org/papers/volume7/demsar06a/demsar06a.pdf) J. Mach. Learn. Res. 7, 1–30 (2006).   \n",
        "Starmer, J. [Machine Learning Fundamentals: Cross Validation](https://www.youtube.com/watch?v=fSytzGwwBVw)Machine Learning Fundamentals: Cross Validation, StatQuest with Josh Starmer youtube channel, (2018)\n",
        "Hastie, T.[The elements of statistical learning: data mining, inference, and prediction](https://hastie.su.domains/Papers/ESLII.pdf) , volume 2. Springer, 2009  ( Chapter 7 Model Assessment and Selection )"
      ],
      "metadata": {
        "id": "lFcJeRAkAr-q"
      }
    },
    {
      "cell_type": "code",
      "source": [],
      "metadata": {
        "id": "KXSuYXQ26cLV"
      },
      "execution_count": null,
      "outputs": []
    },
    {
      "cell_type": "markdown",
      "source": [
        "## 2.4 Codigo  Montecarlo"
      ],
      "metadata": {
        "id": "0ztZzYolA2WK"
      }
    },
    {
      "cell_type": "markdown",
      "source": [
        "El código de la Montecarlo Cross Validation es notablemente más complejo que el anterior de una simple partición training/testing\n",
        "<br> Se crea la funcion ArbolEstimarGanancia()  que dada una semilla realiza la partición  training/testing, entrena en training, aplica el modelo a testing, y se calculan las ganancias\n",
        "<br> Se utiliza la funcion **mcmapply**  de R para aplicar ArbolEstimarGanancia a todos los elementos del vector de semillas"
      ],
      "metadata": {
        "id": "KLa06ZsiC-Oz"
      }
    },
    {
      "cell_type": "markdown",
      "source": [
        "Esta parte se debe correr con el runtime en lenguaje **R** Ir al menu, Runtime -> Change Runtime Tipe -> Runtime type -> R"
      ],
      "metadata": {
        "id": "ivFiBBOQA2Ws"
      }
    },
    {
      "cell_type": "markdown",
      "source": [
        "limpio el ambiente de R"
      ],
      "metadata": {
        "id": "TMSAQDXuA2Ws"
      }
    },
    {
      "cell_type": "code",
      "source": [
        "# limpio la memoria\n",
        "rm(list=ls(all.names=TRUE)) # remove all objects\n",
        "gc(full=TRUE, verbose=FALSE) # garbage collection"
      ],
      "metadata": {
        "id": "eakzb8y2A2Wt",
        "colab": {
          "base_uri": "https://localhost:8080/",
          "height": 129
        },
        "outputId": "92c23e83-78c5-4c38-f159-8d35c3ab1058"
      },
      "execution_count": 18,
      "outputs": [
        {
          "output_type": "display_data",
          "data": {
            "text/html": [
              "<table class=\"dataframe\">\n",
              "<caption>A matrix: 2 × 6 of type dbl</caption>\n",
              "<thead>\n",
              "\t<tr><th></th><th scope=col>used</th><th scope=col>(Mb)</th><th scope=col>gc trigger</th><th scope=col>(Mb)</th><th scope=col>max used</th><th scope=col>(Mb)</th></tr>\n",
              "</thead>\n",
              "<tbody>\n",
              "\t<tr><th scope=row>Ncells</th><td> 745004</td><td>39.8</td><td> 1454477</td><td> 77.7</td><td>  1454477</td><td> 77.7</td></tr>\n",
              "\t<tr><th scope=row>Vcells</th><td>1433466</td><td>11.0</td><td>84907200</td><td>647.8</td><td>104059392</td><td>794.0</td></tr>\n",
              "</tbody>\n",
              "</table>\n"
            ],
            "text/markdown": "\nA matrix: 2 × 6 of type dbl\n\n| <!--/--> | used | (Mb) | gc trigger | (Mb) | max used | (Mb) |\n|---|---|---|---|---|---|---|\n| Ncells |  745004 | 39.8 |  1454477 |  77.7 |   1454477 |  77.7 |\n| Vcells | 1433466 | 11.0 | 84907200 | 647.8 | 104059392 | 794.0 |\n\n",
            "text/latex": "A matrix: 2 × 6 of type dbl\n\\begin{tabular}{r|llllll}\n  & used & (Mb) & gc trigger & (Mb) & max used & (Mb)\\\\\n\\hline\n\tNcells &  745004 & 39.8 &  1454477 &  77.7 &   1454477 &  77.7\\\\\n\tVcells & 1433466 & 11.0 & 84907200 & 647.8 & 104059392 & 794.0\\\\\n\\end{tabular}\n",
            "text/plain": [
              "       used    (Mb) gc trigger (Mb)  max used  (Mb) \n",
              "Ncells  745004 39.8  1454477    77.7   1454477  77.7\n",
              "Vcells 1433466 11.0 84907200   647.8 104059392 794.0"
            ]
          },
          "metadata": {}
        }
      ]
    },
    {
      "cell_type": "markdown",
      "source": [
        "* Instalacion de la libreria  rpart.plot  para dibujar el arbol\n",
        "* invocacion de las librerias  **data.table** y  **rpart**"
      ],
      "metadata": {
        "id": "559RkeYZA2Wv"
      }
    },
    {
      "cell_type": "code",
      "source": [
        "# cargo las librerias que necesito\n",
        "require(\"data.table\")\n",
        "require(\"rpart\")\n",
        "require(\"parallel\")"
      ],
      "metadata": {
        "id": "yf_S_HlsA2Wv",
        "colab": {
          "base_uri": "https://localhost:8080/"
        },
        "outputId": "7b3f8624-63f2-48ed-b3f0-c8217a54a976"
      },
      "execution_count": 19,
      "outputs": [
        {
          "output_type": "stream",
          "name": "stderr",
          "text": [
            "Loading required package: parallel\n",
            "\n"
          ]
        }
      ]
    },
    {
      "cell_type": "markdown",
      "source": [
        "###  Accion a Realizar\n",
        "PARAM$semillas  debe tener sus cinco semillas aleatorias"
      ],
      "metadata": {
        "id": "a4oz2ulCA2Ww"
      }
    },
    {
      "cell_type": "code",
      "source": [
        "PARAM <- list()\n",
        "PARAM$semillas <- c(120539, 230431  , 501317 , 761227 , 960737)  # aqui debe ir sus CINCO\n",
        "PARAM$training_pct <- 70L  # entre  1L y 99L\n",
        "\n",
        "PARAM$rpart <- list (\n",
        "  \"cp\" = -1, # complejidad minima\n",
        "  \"minsplit\" = 170, # minima cantidad de regs en un nodo para hacer el split\n",
        "  \"minbucket\" = 70, # minima cantidad de regs en una hoja\n",
        "  \"maxdepth\" = 7 # profundidad máxima del arbol\n",
        ")\n"
      ],
      "metadata": {
        "id": "yQ2OAP5AA2Wx"
      },
      "execution_count": 20,
      "outputs": []
    },
    {
      "cell_type": "code",
      "source": [
        "# particionar agrega una columna llamada fold a un dataset\n",
        "#  que consiste en una particion estratificada segun agrupa\n",
        "\n",
        "# particionar( data=dataset, division=c(70,30),\n",
        "#  agrupa=clase_ternaria, seed=semilla)   crea una particion 70, 30\n",
        "\n",
        "particionar <- function(\n",
        "    data, division, agrupa = \"\",\n",
        "    campo = \"fold\", start = 1, seed = NA) {\n",
        "  if (!is.na(seed)) set.seed(seed)\n",
        "\n",
        "  bloque <- unlist(mapply(function(x, y) {\n",
        "    rep(y, x)\n",
        "  }, division, seq(from = start, length.out = length(division))))\n",
        "\n",
        "  data[, (campo) := sample(rep(bloque, ceiling(.N / length(bloque))))[1:.N],\n",
        "    by = agrupa\n",
        "  ]\n",
        "}\n"
      ],
      "metadata": {
        "id": "97dMCVJWA2Wy"
      },
      "execution_count": 21,
      "outputs": []
    },
    {
      "cell_type": "code",
      "source": [
        "\n",
        "ArbolEstimarGanancia <- function(semilla, param_basicos) {\n",
        "  # particiono estratificadamente el dataset\n",
        "  particionar(dataset,\n",
        "    division = c(param_basicos$training_pct, 100L -param_basicos$training_pct),\n",
        "    agrupa = \"clase_ternaria\",\n",
        "    seed = semilla # aqui se usa SU semilla\n",
        "  )\n",
        "\n",
        "  # genero el modelo\n",
        "  # predecir clase_ternaria a partir del resto\n",
        "  modelo <- rpart(\"clase_ternaria ~ .\",\n",
        "    data = dataset[fold == 1], # fold==1  es training,  el 70% de los datos\n",
        "    xval = 0,\n",
        "    control = param_basicos$rpart\n",
        "  ) # aqui van los parametros del arbol\n",
        "\n",
        "  # aplico el modelo a los datos de testing\n",
        "  prediccion <- predict(modelo, # el modelo que genere recien\n",
        "    dataset[fold == 2], # fold==2  es testing, el 30% de los datos\n",
        "    type = \"prob\"\n",
        "  ) # type= \"prob\"  es que devuelva la probabilidad\n",
        "\n",
        "  # prediccion es una matriz con TRES columnas,\n",
        "  #  llamadas \"BAJA+1\", \"BAJA+2\"  y \"CONTINUA\"\n",
        "  # cada columna es el vector de probabilidades\n",
        "\n",
        "\n",
        "  # calculo la ganancia en testing  qu es fold==2\n",
        "  ganancia_test <- dataset[\n",
        "    fold == 2,\n",
        "    sum(ifelse(prediccion[, \"BAJA+2\"] > 0.025,\n",
        "      ifelse(clase_ternaria == \"BAJA+2\", 117000, -3000),\n",
        "      0\n",
        "    ))\n",
        "  ]\n",
        "\n",
        "  # escalo la ganancia como si fuera todo el dataset\n",
        "  ganancia_test_normalizada <- ganancia_test / (( 100 - PARAM$training_pct ) / 100 )\n",
        "\n",
        "  return(list(\n",
        "    \"semilla\" = semilla,\n",
        "    \"testing\" = dataset[fold == 2, .N],\n",
        "    \"testing_pos\" = dataset[fold == 2 & clase_ternaria == \"BAJA+2\", .N],\n",
        "    \"envios\" = dataset[fold == 2, sum(prediccion[, \"BAJA+2\"] > 0.025)],\n",
        "    \"aciertos\" = dataset[\n",
        "        fold == 2,\n",
        "        sum(prediccion[, \"BAJA+2\"] > 0.025 & clase_ternaria == \"BAJA+2\")\n",
        "    ],\n",
        "    \"ganancia_test\" = ganancia_test_normalizada\n",
        "  ))\n",
        "}\n"
      ],
      "metadata": {
        "id": "GroZSZoVBuZ5"
      },
      "execution_count": 22,
      "outputs": []
    },
    {
      "cell_type": "code",
      "source": [
        "# carpeta de trabajo\n",
        "setwd(\"/content/buckets/b1/exp\")\n",
        "experimento <- \"exp202\"\n",
        "dir.create(experimento, showWarnings=FALSE)\n",
        "setwd( paste0(\"/content/buckets/b1/exp/\", experimento ))"
      ],
      "metadata": {
        "id": "dJIBIX6kA2Wy"
      },
      "execution_count": 23,
      "outputs": []
    },
    {
      "cell_type": "code",
      "source": [
        "# lectura del dataset\n",
        "dataset <- fread(\"/content/datasets/dataset_pequeno.csv\")\n",
        "\n",
        "# trabajo solo con los datos con clase, es decir 202107\n",
        "dataset <- dataset[clase_ternaria != \"\"]"
      ],
      "metadata": {
        "id": "tKiACdU2A2Wz"
      },
      "execution_count": 24,
      "outputs": []
    },
    {
      "cell_type": "code",
      "source": [
        "\n",
        "# la funcion mcmapply  llama a la funcion ArbolEstimarGanancia\n",
        "#  tantas veces como valores tenga el vector  PARAM$semillas\n",
        "salidas <- mcmapply(ArbolEstimarGanancia,\n",
        "  PARAM$semillas, # paso el vector de semillas\n",
        "  MoreArgs = list(PARAM), # aqui paso el segundo parametro\n",
        "  SIMPLIFY = FALSE,\n",
        "  mc.cores = detectCores()\n",
        ")\n",
        "\n",
        "# muestro la lista de las salidas en testing\n",
        "#  para la particion realizada con cada semilla\n",
        "salidas\n"
      ],
      "metadata": {
        "id": "64OdfeyxCMDF",
        "colab": {
          "base_uri": "https://localhost:8080/",
          "height": 1000
        },
        "outputId": "316df5e9-b04f-46cb-f618-08fb323e61a3"
      },
      "execution_count": 25,
      "outputs": [
        {
          "output_type": "display_data",
          "data": {
            "text/html": [
              "<ol>\n",
              "\t<li><dl>\n",
              "\t<dt>$semilla</dt>\n",
              "\t\t<dd>120539</dd>\n",
              "\t<dt>$testing</dt>\n",
              "\t\t<dd>49389</dd>\n",
              "\t<dt>$testing_pos</dt>\n",
              "\t\t<dd>376</dd>\n",
              "\t<dt>$envios</dt>\n",
              "\t\t<dd>3123</dd>\n",
              "\t<dt>$aciertos</dt>\n",
              "\t\t<dd>214</dd>\n",
              "\t<dt>$ganancia_test</dt>\n",
              "\t\t<dd>54370000</dd>\n",
              "</dl>\n",
              "</li>\n",
              "\t<li><dl>\n",
              "\t<dt>$semilla</dt>\n",
              "\t\t<dd>230431</dd>\n",
              "\t<dt>$testing</dt>\n",
              "\t\t<dd>49374</dd>\n",
              "\t<dt>$testing_pos</dt>\n",
              "\t\t<dd>379</dd>\n",
              "\t<dt>$envios</dt>\n",
              "\t\t<dd>2589</dd>\n",
              "\t<dt>$aciertos</dt>\n",
              "\t\t<dd>174</dd>\n",
              "\t<dt>$ganancia_test</dt>\n",
              "\t\t<dd>43710000</dd>\n",
              "</dl>\n",
              "</li>\n",
              "\t<li><dl>\n",
              "\t<dt>$semilla</dt>\n",
              "\t\t<dd>501317</dd>\n",
              "\t<dt>$testing</dt>\n",
              "\t\t<dd>49378</dd>\n",
              "\t<dt>$testing_pos</dt>\n",
              "\t\t<dd>374</dd>\n",
              "\t<dt>$envios</dt>\n",
              "\t\t<dd>3881</dd>\n",
              "\t<dt>$aciertos</dt>\n",
              "\t\t<dd>237</dd>\n",
              "\t<dt>$ganancia_test</dt>\n",
              "\t\t<dd>55990000</dd>\n",
              "</dl>\n",
              "</li>\n",
              "\t<li><dl>\n",
              "\t<dt>$semilla</dt>\n",
              "\t\t<dd>761227</dd>\n",
              "\t<dt>$testing</dt>\n",
              "\t\t<dd>49371</dd>\n",
              "\t<dt>$testing_pos</dt>\n",
              "\t\t<dd>376</dd>\n",
              "\t<dt>$envios</dt>\n",
              "\t\t<dd>3469</dd>\n",
              "\t<dt>$aciertos</dt>\n",
              "\t\t<dd>208</dd>\n",
              "\t<dt>$ganancia_test</dt>\n",
              "\t\t<dd>48510000</dd>\n",
              "</dl>\n",
              "</li>\n",
              "\t<li><dl>\n",
              "\t<dt>$semilla</dt>\n",
              "\t\t<dd>960737</dd>\n",
              "\t<dt>$testing</dt>\n",
              "\t\t<dd>49385</dd>\n",
              "\t<dt>$testing_pos</dt>\n",
              "\t\t<dd>369</dd>\n",
              "\t<dt>$envios</dt>\n",
              "\t\t<dd>3356</dd>\n",
              "\t<dt>$aciertos</dt>\n",
              "\t\t<dd>189</dd>\n",
              "\t<dt>$ganancia_test</dt>\n",
              "\t\t<dd>42040000</dd>\n",
              "</dl>\n",
              "</li>\n",
              "</ol>\n"
            ],
            "text/markdown": "1. $semilla\n:   120539\n$testing\n:   49389\n$testing_pos\n:   376\n$envios\n:   3123\n$aciertos\n:   214\n$ganancia_test\n:   54370000\n\n\n\n2. $semilla\n:   230431\n$testing\n:   49374\n$testing_pos\n:   379\n$envios\n:   2589\n$aciertos\n:   174\n$ganancia_test\n:   43710000\n\n\n\n3. $semilla\n:   501317\n$testing\n:   49378\n$testing_pos\n:   374\n$envios\n:   3881\n$aciertos\n:   237\n$ganancia_test\n:   55990000\n\n\n\n4. $semilla\n:   761227\n$testing\n:   49371\n$testing_pos\n:   376\n$envios\n:   3469\n$aciertos\n:   208\n$ganancia_test\n:   48510000\n\n\n\n5. $semilla\n:   960737\n$testing\n:   49385\n$testing_pos\n:   369\n$envios\n:   3356\n$aciertos\n:   189\n$ganancia_test\n:   42040000\n\n\n\n\n\n",
            "text/latex": "\\begin{enumerate}\n\\item \\begin{description}\n\\item[\\$semilla] 120539\n\\item[\\$testing] 49389\n\\item[\\$testing\\_pos] 376\n\\item[\\$envios] 3123\n\\item[\\$aciertos] 214\n\\item[\\$ganancia\\_test] 54370000\n\\end{description}\n\n\\item \\begin{description}\n\\item[\\$semilla] 230431\n\\item[\\$testing] 49374\n\\item[\\$testing\\_pos] 379\n\\item[\\$envios] 2589\n\\item[\\$aciertos] 174\n\\item[\\$ganancia\\_test] 43710000\n\\end{description}\n\n\\item \\begin{description}\n\\item[\\$semilla] 501317\n\\item[\\$testing] 49378\n\\item[\\$testing\\_pos] 374\n\\item[\\$envios] 3881\n\\item[\\$aciertos] 237\n\\item[\\$ganancia\\_test] 55990000\n\\end{description}\n\n\\item \\begin{description}\n\\item[\\$semilla] 761227\n\\item[\\$testing] 49371\n\\item[\\$testing\\_pos] 376\n\\item[\\$envios] 3469\n\\item[\\$aciertos] 208\n\\item[\\$ganancia\\_test] 48510000\n\\end{description}\n\n\\item \\begin{description}\n\\item[\\$semilla] 960737\n\\item[\\$testing] 49385\n\\item[\\$testing\\_pos] 369\n\\item[\\$envios] 3356\n\\item[\\$aciertos] 189\n\\item[\\$ganancia\\_test] 42040000\n\\end{description}\n\n\\end{enumerate}\n",
            "text/plain": [
              "[[1]]\n",
              "[[1]]$semilla\n",
              "[1] 120539\n",
              "\n",
              "[[1]]$testing\n",
              "[1] 49389\n",
              "\n",
              "[[1]]$testing_pos\n",
              "[1] 376\n",
              "\n",
              "[[1]]$envios\n",
              "[1] 3123\n",
              "\n",
              "[[1]]$aciertos\n",
              "[1] 214\n",
              "\n",
              "[[1]]$ganancia_test\n",
              "[1] 54370000\n",
              "\n",
              "\n",
              "[[2]]\n",
              "[[2]]$semilla\n",
              "[1] 230431\n",
              "\n",
              "[[2]]$testing\n",
              "[1] 49374\n",
              "\n",
              "[[2]]$testing_pos\n",
              "[1] 379\n",
              "\n",
              "[[2]]$envios\n",
              "[1] 2589\n",
              "\n",
              "[[2]]$aciertos\n",
              "[1] 174\n",
              "\n",
              "[[2]]$ganancia_test\n",
              "[1] 43710000\n",
              "\n",
              "\n",
              "[[3]]\n",
              "[[3]]$semilla\n",
              "[1] 501317\n",
              "\n",
              "[[3]]$testing\n",
              "[1] 49378\n",
              "\n",
              "[[3]]$testing_pos\n",
              "[1] 374\n",
              "\n",
              "[[3]]$envios\n",
              "[1] 3881\n",
              "\n",
              "[[3]]$aciertos\n",
              "[1] 237\n",
              "\n",
              "[[3]]$ganancia_test\n",
              "[1] 55990000\n",
              "\n",
              "\n",
              "[[4]]\n",
              "[[4]]$semilla\n",
              "[1] 761227\n",
              "\n",
              "[[4]]$testing\n",
              "[1] 49371\n",
              "\n",
              "[[4]]$testing_pos\n",
              "[1] 376\n",
              "\n",
              "[[4]]$envios\n",
              "[1] 3469\n",
              "\n",
              "[[4]]$aciertos\n",
              "[1] 208\n",
              "\n",
              "[[4]]$ganancia_test\n",
              "[1] 48510000\n",
              "\n",
              "\n",
              "[[5]]\n",
              "[[5]]$semilla\n",
              "[1] 960737\n",
              "\n",
              "[[5]]$testing\n",
              "[1] 49385\n",
              "\n",
              "[[5]]$testing_pos\n",
              "[1] 369\n",
              "\n",
              "[[5]]$envios\n",
              "[1] 3356\n",
              "\n",
              "[[5]]$aciertos\n",
              "[1] 189\n",
              "\n",
              "[[5]]$ganancia_test\n",
              "[1] 42040000\n",
              "\n"
            ]
          },
          "metadata": {}
        }
      ]
    },
    {
      "cell_type": "code",
      "source": [
        "# paso la lista a vector\n",
        "tb_salida <- rbindlist(salidas)\n",
        "print( tb_salida)"
      ],
      "metadata": {
        "id": "tML9VmH2ECFK",
        "colab": {
          "base_uri": "https://localhost:8080/"
        },
        "outputId": "59ec4e7d-e56c-424a-b268-fc9072d0aa55"
      },
      "execution_count": 26,
      "outputs": [
        {
          "output_type": "stream",
          "name": "stdout",
          "text": [
            "   semilla testing testing_pos envios aciertos ganancia_test\n",
            "     <num>   <int>       <int>  <int>    <int>         <num>\n",
            "1:  120539   49389         376   3123      214      54370000\n",
            "2:  230431   49374         379   2589      174      43710000\n",
            "3:  501317   49378         374   3881      237      55990000\n",
            "4:  761227   49371         376   3469      208      48510000\n",
            "5:  960737   49385         369   3356      189      42040000\n"
          ]
        }
      ]
    },
    {
      "cell_type": "code",
      "source": [
        "# finalmente calculo la media (promedio)  de las ganancias\n",
        "cat( \"ganancia promedio: \", tb_salida[, mean(ganancia_test)], \"\\n\" )"
      ],
      "metadata": {
        "id": "rbHXPfoVENQB",
        "colab": {
          "base_uri": "https://localhost:8080/"
        },
        "outputId": "557f2794-c7ee-4939-9502-0c1a1f59c601"
      },
      "execution_count": 27,
      "outputs": [
        {
          "output_type": "stream",
          "name": "stdout",
          "text": [
            "ganancia promedio:  48924000 \n"
          ]
        }
      ]
    },
    {
      "cell_type": "markdown",
      "source": [
        "### Acciones a realizar\n",
        "* Reportar la  *Ganancia Promedio* <br> en la planilla colaborativa hoja  **C2-5sem**\n",
        "* Se discutirá en clase la variabilidad de estos \"ganancia promedio de cinco semillas\""
      ],
      "metadata": {
        "id": "_3xVH6UKA2W6"
      }
    },
    {
      "cell_type": "markdown",
      "source": [
        "\n",
        "\n",
        "---\n",
        "\n"
      ],
      "metadata": {
        "id": "N29m1XGpA2W7"
      }
    },
    {
      "cell_type": "markdown",
      "source": [
        "# 3  Generando n semillas en forma automatica\n",
        "## Clase 02  Experimento 3"
      ],
      "metadata": {
        "id": "zS7WIJciFGc6"
      }
    },
    {
      "cell_type": "markdown",
      "source": [
        "## 3.1  Objetivos\n",
        "Mostrar la creación de nuevas semillas a partir de la librería Primes"
      ],
      "metadata": {
        "id": "VmiFDDDJFUEo"
      }
    },
    {
      "cell_type": "markdown",
      "source": [
        "3.2  Código\n",
        "\n",
        "Como generar muchas semillas a partir de una"
      ],
      "metadata": {
        "id": "Ehe3VfdfFbvg"
      }
    },
    {
      "cell_type": "code",
      "source": [
        "# instalo y cargo la libreria  primes\n",
        "if (!require(\"primes\")) install.packages(\"primes\")\n",
        "require(\"primes\")"
      ],
      "metadata": {
        "id": "X6_dE42yF2-t",
        "colab": {
          "base_uri": "https://localhost:8080/"
        },
        "outputId": "1694b50a-00b3-490a-d2b1-7ddce54805ef"
      },
      "execution_count": 28,
      "outputs": [
        {
          "output_type": "stream",
          "name": "stderr",
          "text": [
            "Loading required package: primes\n",
            "\n",
            "Warning message in library(package, lib.loc = lib.loc, character.only = TRUE, logical.return = TRUE, :\n",
            "“there is no package called ‘primes’”\n",
            "Installing package into ‘/usr/local/lib/R/site-library’\n",
            "(as ‘lib’ is unspecified)\n",
            "\n",
            "Loading required package: primes\n",
            "\n"
          ]
        }
      ]
    },
    {
      "cell_type": "code",
      "source": [
        "# genero numeros primos\n",
        "primos <- generate_primes(min = 100000, max = 1000000)\n",
        "\n",
        "\n",
        "set.seed(102191) # inicializo con mi primer semilla\n",
        "\n",
        "# me quedo con por ejemplo 20 primos al azar\n",
        "semillas <- sample(primos, 20 )\n",
        "\n",
        "print( semillas )"
      ],
      "metadata": {
        "id": "yDU9RyV4FNhZ",
        "colab": {
          "base_uri": "https://localhost:8080/"
        },
        "outputId": "d34ecf8a-6d73-46da-97bb-9593921fe08c"
      },
      "execution_count": 29,
      "outputs": [
        {
          "output_type": "stream",
          "name": "stdout",
          "text": [
            " [1] 378821 964333 187049 205151 813697 344719 127217 464371 645137 480803\n",
            "[11] 723319 314641 791599 937577 685649 619363 390539 465887 619657 195737\n"
          ]
        }
      ]
    },
    {
      "cell_type": "markdown",
      "source": [
        "\n",
        "\n",
        "---\n",
        "\n"
      ],
      "metadata": {
        "id": "eD_cO5VTGGea"
      }
    },
    {
      "cell_type": "code",
      "source": [],
      "metadata": {
        "id": "k-rgoA2ZFll4"
      },
      "execution_count": null,
      "outputs": []
    },
    {
      "cell_type": "markdown",
      "source": [
        "# 4  Medición  50-Monte Carlo Cross Validation\n",
        "## Clase 02  Experimento 4"
      ],
      "metadata": {
        "id": "cZi29THsGil_"
      }
    },
    {
      "cell_type": "markdown",
      "source": [
        "## 4.1  Objetivos\n",
        "Calcular la ganancia del modelo utilizando 50 semillas nuevas generadas a partir de mi semilla primigenia."
      ],
      "metadata": {
        "id": "qFNq6ntVGimN"
      }
    },
    {
      "cell_type": "markdown",
      "source": [
        "## 4.4 Codigo  50 Montecarlo"
      ],
      "metadata": {
        "id": "B6KtuhQCGimP"
      }
    },
    {
      "cell_type": "markdown",
      "source": [
        "Esta parte se debe correr con el runtime en lenguaje **R** Ir al menu, Runtime -> Change Runtime Tipe -> Runtime type -> R"
      ],
      "metadata": {
        "id": "LgGgjPQuGimP"
      }
    },
    {
      "cell_type": "markdown",
      "source": [
        "Este punto demora en correr 60 minutos en Google Colab, con lo cual para continuar con el punto siguiente deberá abrir un nuevo Colab"
      ],
      "metadata": {
        "id": "E82ChuO25OYx"
      }
    },
    {
      "cell_type": "markdown",
      "source": [
        "limpio el ambiente de R"
      ],
      "metadata": {
        "id": "a6AxqLwOGimQ"
      }
    },
    {
      "cell_type": "code",
      "source": [
        "# limpio la memoria\n",
        "rm(list=ls(all.names=TRUE)) # remove all objects\n",
        "gc(full=TRUE, verbose=FALSE) # garbage collection"
      ],
      "metadata": {
        "id": "797Ad0_QGimQ",
        "colab": {
          "base_uri": "https://localhost:8080/",
          "height": 129
        },
        "outputId": "31859764-299e-4393-895c-b1cd883d9fd5"
      },
      "execution_count": 30,
      "outputs": [
        {
          "output_type": "display_data",
          "data": {
            "text/html": [
              "<table class=\"dataframe\">\n",
              "<caption>A matrix: 2 × 6 of type dbl</caption>\n",
              "<thead>\n",
              "\t<tr><th></th><th scope=col>used</th><th scope=col>(Mb)</th><th scope=col>gc trigger</th><th scope=col>(Mb)</th><th scope=col>max used</th><th scope=col>(Mb)</th></tr>\n",
              "</thead>\n",
              "<tbody>\n",
              "\t<tr><th scope=row>Ncells</th><td> 832816</td><td>44.5</td><td> 1454477</td><td> 77.7</td><td>  1454477</td><td> 77.7</td></tr>\n",
              "\t<tr><th scope=row>Vcells</th><td>1569543</td><td>12.0</td><td>67925760</td><td>518.3</td><td>104059392</td><td>794.0</td></tr>\n",
              "</tbody>\n",
              "</table>\n"
            ],
            "text/markdown": "\nA matrix: 2 × 6 of type dbl\n\n| <!--/--> | used | (Mb) | gc trigger | (Mb) | max used | (Mb) |\n|---|---|---|---|---|---|---|\n| Ncells |  832816 | 44.5 |  1454477 |  77.7 |   1454477 |  77.7 |\n| Vcells | 1569543 | 12.0 | 67925760 | 518.3 | 104059392 | 794.0 |\n\n",
            "text/latex": "A matrix: 2 × 6 of type dbl\n\\begin{tabular}{r|llllll}\n  & used & (Mb) & gc trigger & (Mb) & max used & (Mb)\\\\\n\\hline\n\tNcells &  832816 & 44.5 &  1454477 &  77.7 &   1454477 &  77.7\\\\\n\tVcells & 1569543 & 12.0 & 67925760 & 518.3 & 104059392 & 794.0\\\\\n\\end{tabular}\n",
            "text/plain": [
              "       used    (Mb) gc trigger (Mb)  max used  (Mb) \n",
              "Ncells  832816 44.5  1454477    77.7   1454477  77.7\n",
              "Vcells 1569543 12.0 67925760   518.3 104059392 794.0"
            ]
          },
          "metadata": {}
        }
      ]
    },
    {
      "cell_type": "markdown",
      "source": [
        "* Instalacion de la libreria  rpart.plot  para dibujar el arbol\n",
        "* invocacion de las librerias  **data.table** y  **rpart**"
      ],
      "metadata": {
        "id": "v0CepvbjGimQ"
      }
    },
    {
      "cell_type": "code",
      "source": [
        "# cargo las librerias que necesito\n",
        "require(\"data.table\")\n",
        "require(\"rpart\")\n",
        "require(\"parallel\")\n",
        "\n",
        "if (!require(\"primes\")) install.packages(\"primes\")\n",
        "require(\"primes\")"
      ],
      "metadata": {
        "id": "CRkZ1V2_GimR"
      },
      "execution_count": 31,
      "outputs": []
    },
    {
      "cell_type": "markdown",
      "source": [
        "###  Accion a Realizar\n",
        "PARAM$semilla_primigenia  debe reemplazarse por SU primer semilla"
      ],
      "metadata": {
        "id": "PZKJG-nSGimR"
      }
    },
    {
      "cell_type": "code",
      "source": [
        "PARAM <- list()\n",
        "PARAM$semilla_primigenia <- 120539\n",
        "PARAM$qsemillas <- 100                            # Lu. Antes decia 50, lo cambié a 100 para hacer la actividad completa (25/10)\n",
        "PARAM$training_pct <- 70L  # entre  1L y 99L\n",
        "\n",
        "PARAM$rpart <- list (\n",
        "  \"cp\" = -1, # complejidad minima\n",
        "  \"minsplit\" = 170, # minima cantidad de regs en un nodo para hacer el split\n",
        "  \"minbucket\" = 70, # minima cantidad de regs en una hoja\n",
        "  \"maxdepth\" = 7 # profundidad máxima del arbol\n",
        ")\n"
      ],
      "metadata": {
        "id": "4kbkA-2HGimR"
      },
      "execution_count": 38,
      "outputs": []
    },
    {
      "cell_type": "code",
      "source": [
        "# particionar agrega una columna llamada fold a un dataset\n",
        "#  que consiste en una particion estratificada segun agrupa\n",
        "\n",
        "# particionar( data=dataset, division=c(70,30),\n",
        "#  agrupa=clase_ternaria, seed=semilla)   crea una particion 70, 30\n",
        "\n",
        "particionar <- function(\n",
        "    data, division, agrupa = \"\",\n",
        "    campo = \"fold\", start = 1, seed = NA) {\n",
        "  if (!is.na(seed)) set.seed(seed)\n",
        "\n",
        "  bloque <- unlist(mapply(function(x, y) {\n",
        "    rep(y, x)\n",
        "  }, division, seq(from = start, length.out = length(division))))\n",
        "\n",
        "  data[, (campo) := sample(rep(bloque, ceiling(.N / length(bloque))))[1:.N],\n",
        "    by = agrupa\n",
        "  ]\n",
        "}\n"
      ],
      "metadata": {
        "id": "HME0qUeOGimS"
      },
      "execution_count": 39,
      "outputs": []
    },
    {
      "cell_type": "code",
      "source": [
        "\n",
        "ArbolEstimarGanancia <- function(semilla, param_basicos) {\n",
        "  # particiono estratificadamente el dataset\n",
        "  particionar(dataset,\n",
        "    division = c(param_basicos$training_pct, 100L -param_basicos$training_pct),\n",
        "    agrupa = \"clase_ternaria\",\n",
        "    seed = semilla # aqui se usa SU semilla\n",
        "  )\n",
        "\n",
        "  # genero el modelo\n",
        "  # predecir clase_ternaria a partir del resto\n",
        "  modelo <- rpart(\"clase_ternaria ~ .\",\n",
        "    data = dataset[fold == 1], # fold==1  es training,  el 70% de los datos\n",
        "    xval = 0,\n",
        "    control = param_basicos$rpart\n",
        "  ) # aqui van los parametros del arbol\n",
        "\n",
        "  # aplico el modelo a los datos de testing\n",
        "  prediccion <- predict(modelo, # el modelo que genere recien\n",
        "    dataset[fold == 2], # fold==2  es testing, el 30% de los datos\n",
        "    type = \"prob\"\n",
        "  ) # type= \"prob\"  es que devuelva la probabilidad\n",
        "\n",
        "  # prediccion es una matriz con TRES columnas,\n",
        "  #  llamadas \"BAJA+1\", \"BAJA+2\"  y \"CONTINUA\"\n",
        "  # cada columna es el vector de probabilidades\n",
        "\n",
        "\n",
        "  # calculo la ganancia en testing  qu es fold==2\n",
        "  ganancia_test <- dataset[\n",
        "    fold == 2,\n",
        "    sum(ifelse(prediccion[, \"BAJA+2\"] > 0.025,\n",
        "      ifelse(clase_ternaria == \"BAJA+2\", 117000, -3000),\n",
        "      0\n",
        "    ))\n",
        "  ]\n",
        "\n",
        "  # escalo la ganancia como si fuera todo el dataset\n",
        "  ganancia_test_normalizada <- ganancia_test / (( 100 - PARAM$training_pct ) / 100 )\n",
        "\n",
        "  return(list(\n",
        "    \"semilla\" = semilla,\n",
        "    \"testing\" = dataset[fold == 2, .N],\n",
        "    \"testing_pos\" = dataset[fold == 2 & clase_ternaria == \"BAJA+2\", .N],\n",
        "    \"envios\" = dataset[fold == 2, sum(prediccion[, \"BAJA+2\"] > 0.025)],\n",
        "    \"aciertos\" = dataset[\n",
        "        fold == 2,\n",
        "        sum(prediccion[, \"BAJA+2\"] > 0.025 & clase_ternaria == \"BAJA+2\")\n",
        "    ],\n",
        "    \"ganancia_test\" = ganancia_test_normalizada\n",
        "  ))\n",
        "}\n"
      ],
      "metadata": {
        "id": "ro9Ufoi-GimS"
      },
      "execution_count": 40,
      "outputs": []
    },
    {
      "cell_type": "code",
      "source": [
        "# carpeta de trabajo\n",
        "setwd(\"/content/buckets/b1/exp\")\n",
        "experimento <- \"exp204\"\n",
        "dir.create(experimento, showWarnings=FALSE)\n",
        "setwd( paste0(\"/content/buckets/b1/exp/\", experimento ))"
      ],
      "metadata": {
        "id": "gz7LgltwGimT"
      },
      "execution_count": 41,
      "outputs": []
    },
    {
      "cell_type": "code",
      "source": [
        "# lectura del dataset\n",
        "dataset <- fread(\"/content/datasets/dataset_pequeno.csv\")\n",
        "\n",
        "# trabajo solo con los datos con clase, es decir 202107\n",
        "dataset <- dataset[clase_ternaria != \"\"]"
      ],
      "metadata": {
        "id": "xRXKHeLeGimT"
      },
      "execution_count": 42,
      "outputs": []
    },
    {
      "cell_type": "code",
      "source": [
        "# genero numeros primos\n",
        "primos <- generate_primes(min = 100000, max = 1000000)\n",
        "set.seed(PARAM$semilla_primigenia) # inicializo\n",
        "\n",
        "# me quedo con PARAM$qsemillas   semillas\n",
        "PARAM$semillas <- sample(primos, PARAM$qsemillas )"
      ],
      "metadata": {
        "id": "MdpZ10qiHSZy"
      },
      "execution_count": 43,
      "outputs": []
    },
    {
      "cell_type": "code",
      "source": [
        "\n",
        "# la funcion mcmapply  llama a la funcion ArbolEstimarGanancia\n",
        "#  tantas veces como valores tenga el vector  PARAM$semillas\n",
        "salidas <- mcmapply(ArbolEstimarGanancia,\n",
        "  PARAM$semillas, # paso el vector de semillas\n",
        "  MoreArgs = list(PARAM), # aqui paso el segundo parametro\n",
        "  SIMPLIFY = FALSE,\n",
        "  mc.cores = detectCores()\n",
        ")\n",
        "\n",
        "# muestro la lista de las salidas en testing\n",
        "#  para la particion realizada con cada semilla\n",
        "salidas\n"
      ],
      "metadata": {
        "id": "r-YaawpgGimU",
        "colab": {
          "base_uri": "https://localhost:8080/",
          "height": 1000
        },
        "outputId": "d8ca7efa-4a34-4085-b5c6-f2550815d1dd"
      },
      "execution_count": 44,
      "outputs": [
        {
          "output_type": "display_data",
          "data": {
            "text/html": [
              "<ol>\n",
              "\t<li><dl>\n",
              "\t<dt>$semilla</dt>\n",
              "\t\t<dd>915223</dd>\n",
              "\t<dt>$testing</dt>\n",
              "\t\t<dd>49385</dd>\n",
              "\t<dt>$testing_pos</dt>\n",
              "\t\t<dd>378</dd>\n",
              "\t<dt>$envios</dt>\n",
              "\t\t<dd>4630</dd>\n",
              "\t<dt>$aciertos</dt>\n",
              "\t\t<dd>239</dd>\n",
              "\t<dt>$ganancia_test</dt>\n",
              "\t\t<dd>49300000</dd>\n",
              "</dl>\n",
              "</li>\n",
              "\t<li><dl>\n",
              "\t<dt>$semilla</dt>\n",
              "\t\t<dd>369119</dd>\n",
              "\t<dt>$testing</dt>\n",
              "\t\t<dd>49382</dd>\n",
              "\t<dt>$testing_pos</dt>\n",
              "\t\t<dd>377</dd>\n",
              "\t<dt>$envios</dt>\n",
              "\t\t<dd>3496</dd>\n",
              "\t<dt>$aciertos</dt>\n",
              "\t\t<dd>203</dd>\n",
              "\t<dt>$ganancia_test</dt>\n",
              "\t\t<dd>46240000</dd>\n",
              "</dl>\n",
              "</li>\n",
              "\t<li><dl>\n",
              "\t<dt>$semilla</dt>\n",
              "\t\t<dd>263821</dd>\n",
              "\t<dt>$testing</dt>\n",
              "\t\t<dd>49377</dd>\n",
              "\t<dt>$testing_pos</dt>\n",
              "\t\t<dd>372</dd>\n",
              "\t<dt>$envios</dt>\n",
              "\t\t<dd>3466</dd>\n",
              "\t<dt>$aciertos</dt>\n",
              "\t\t<dd>207</dd>\n",
              "\t<dt>$ganancia_test</dt>\n",
              "\t\t<dd>48140000</dd>\n",
              "</dl>\n",
              "</li>\n",
              "\t<li><dl>\n",
              "\t<dt>$semilla</dt>\n",
              "\t\t<dd>635423</dd>\n",
              "\t<dt>$testing</dt>\n",
              "\t\t<dd>49384</dd>\n",
              "\t<dt>$testing_pos</dt>\n",
              "\t\t<dd>378</dd>\n",
              "\t<dt>$envios</dt>\n",
              "\t\t<dd>3494</dd>\n",
              "\t<dt>$aciertos</dt>\n",
              "\t\t<dd>217</dd>\n",
              "\t<dt>$ganancia_test</dt>\n",
              "\t\t<dd>51860000</dd>\n",
              "</dl>\n",
              "</li>\n",
              "\t<li><dl>\n",
              "\t<dt>$semilla</dt>\n",
              "\t\t<dd>892579</dd>\n",
              "\t<dt>$testing</dt>\n",
              "\t\t<dd>49379</dd>\n",
              "\t<dt>$testing_pos</dt>\n",
              "\t\t<dd>376</dd>\n",
              "\t<dt>$envios</dt>\n",
              "\t\t<dd>4525</dd>\n",
              "\t<dt>$aciertos</dt>\n",
              "\t\t<dd>245</dd>\n",
              "\t<dt>$ganancia_test</dt>\n",
              "\t\t<dd>52750000</dd>\n",
              "</dl>\n",
              "</li>\n",
              "\t<li><dl>\n",
              "\t<dt>$semilla</dt>\n",
              "\t\t<dd>933601</dd>\n",
              "\t<dt>$testing</dt>\n",
              "\t\t<dd>49385</dd>\n",
              "\t<dt>$testing_pos</dt>\n",
              "\t\t<dd>377</dd>\n",
              "\t<dt>$envios</dt>\n",
              "\t\t<dd>3171</dd>\n",
              "\t<dt>$aciertos</dt>\n",
              "\t\t<dd>201</dd>\n",
              "\t<dt>$ganancia_test</dt>\n",
              "\t\t<dd>48690000</dd>\n",
              "</dl>\n",
              "</li>\n",
              "\t<li><dl>\n",
              "\t<dt>$semilla</dt>\n",
              "\t\t<dd>344857</dd>\n",
              "\t<dt>$testing</dt>\n",
              "\t\t<dd>49363</dd>\n",
              "\t<dt>$testing_pos</dt>\n",
              "\t\t<dd>369</dd>\n",
              "\t<dt>$envios</dt>\n",
              "\t\t<dd>3596</dd>\n",
              "\t<dt>$aciertos</dt>\n",
              "\t\t<dd>200</dd>\n",
              "\t<dt>$ganancia_test</dt>\n",
              "\t\t<dd>44040000</dd>\n",
              "</dl>\n",
              "</li>\n",
              "\t<li><dl>\n",
              "\t<dt>$semilla</dt>\n",
              "\t\t<dd>865409</dd>\n",
              "\t<dt>$testing</dt>\n",
              "\t\t<dd>49385</dd>\n",
              "\t<dt>$testing_pos</dt>\n",
              "\t\t<dd>373</dd>\n",
              "\t<dt>$envios</dt>\n",
              "\t\t<dd>3626</dd>\n",
              "\t<dt>$aciertos</dt>\n",
              "\t\t<dd>197</dd>\n",
              "\t<dt>$ganancia_test</dt>\n",
              "\t\t<dd>42540000</dd>\n",
              "</dl>\n",
              "</li>\n",
              "\t<li><dl>\n",
              "\t<dt>$semilla</dt>\n",
              "\t\t<dd>285287</dd>\n",
              "\t<dt>$testing</dt>\n",
              "\t\t<dd>49378</dd>\n",
              "\t<dt>$testing_pos</dt>\n",
              "\t\t<dd>374</dd>\n",
              "\t<dt>$envios</dt>\n",
              "\t\t<dd>3096</dd>\n",
              "\t<dt>$aciertos</dt>\n",
              "\t\t<dd>202</dd>\n",
              "\t<dt>$ganancia_test</dt>\n",
              "\t\t<dd>49840000</dd>\n",
              "</dl>\n",
              "</li>\n",
              "\t<li><dl>\n",
              "\t<dt>$semilla</dt>\n",
              "\t\t<dd>829537</dd>\n",
              "\t<dt>$testing</dt>\n",
              "\t\t<dd>49382</dd>\n",
              "\t<dt>$testing_pos</dt>\n",
              "\t\t<dd>378</dd>\n",
              "\t<dt>$envios</dt>\n",
              "\t\t<dd>3441</dd>\n",
              "\t<dt>$aciertos</dt>\n",
              "\t\t<dd>201</dd>\n",
              "\t<dt>$ganancia_test</dt>\n",
              "\t\t<dd>45990000</dd>\n",
              "</dl>\n",
              "</li>\n",
              "\t<li><dl>\n",
              "\t<dt>$semilla</dt>\n",
              "\t\t<dd>907663</dd>\n",
              "\t<dt>$testing</dt>\n",
              "\t\t<dd>49376</dd>\n",
              "\t<dt>$testing_pos</dt>\n",
              "\t\t<dd>377</dd>\n",
              "\t<dt>$envios</dt>\n",
              "\t\t<dd>3286</dd>\n",
              "\t<dt>$aciertos</dt>\n",
              "\t\t<dd>208</dd>\n",
              "\t<dt>$ganancia_test</dt>\n",
              "\t\t<dd>50340000</dd>\n",
              "</dl>\n",
              "</li>\n",
              "\t<li><dl>\n",
              "\t<dt>$semilla</dt>\n",
              "\t\t<dd>581729</dd>\n",
              "\t<dt>$testing</dt>\n",
              "\t\t<dd>49374</dd>\n",
              "\t<dt>$testing_pos</dt>\n",
              "\t\t<dd>374</dd>\n",
              "\t<dt>$envios</dt>\n",
              "\t\t<dd>3803</dd>\n",
              "\t<dt>$aciertos</dt>\n",
              "\t\t<dd>218</dd>\n",
              "\t<dt>$ganancia_test</dt>\n",
              "\t\t<dd>49170000</dd>\n",
              "</dl>\n",
              "</li>\n",
              "\t<li><dl>\n",
              "\t<dt>$semilla</dt>\n",
              "\t\t<dd>130021</dd>\n",
              "\t<dt>$testing</dt>\n",
              "\t\t<dd>49380</dd>\n",
              "\t<dt>$testing_pos</dt>\n",
              "\t\t<dd>378</dd>\n",
              "\t<dt>$envios</dt>\n",
              "\t\t<dd>3085</dd>\n",
              "\t<dt>$aciertos</dt>\n",
              "\t\t<dd>195</dd>\n",
              "\t<dt>$ganancia_test</dt>\n",
              "\t\t<dd>47150000</dd>\n",
              "</dl>\n",
              "</li>\n",
              "\t<li><dl>\n",
              "\t<dt>$semilla</dt>\n",
              "\t\t<dd>327517</dd>\n",
              "\t<dt>$testing</dt>\n",
              "\t\t<dd>49383</dd>\n",
              "\t<dt>$testing_pos</dt>\n",
              "\t\t<dd>381</dd>\n",
              "\t<dt>$envios</dt>\n",
              "\t\t<dd>3597</dd>\n",
              "\t<dt>$aciertos</dt>\n",
              "\t\t<dd>224</dd>\n",
              "\t<dt>$ganancia_test</dt>\n",
              "\t\t<dd>53630000</dd>\n",
              "</dl>\n",
              "</li>\n",
              "\t<li><dl>\n",
              "\t<dt>$semilla</dt>\n",
              "\t\t<dd>512167</dd>\n",
              "\t<dt>$testing</dt>\n",
              "\t\t<dd>49379</dd>\n",
              "\t<dt>$testing_pos</dt>\n",
              "\t\t<dd>373</dd>\n",
              "\t<dt>$envios</dt>\n",
              "\t\t<dd>3256</dd>\n",
              "\t<dt>$aciertos</dt>\n",
              "\t\t<dd>193</dd>\n",
              "\t<dt>$ganancia_test</dt>\n",
              "\t\t<dd>44640000</dd>\n",
              "</dl>\n",
              "</li>\n",
              "\t<li><dl>\n",
              "\t<dt>$semilla</dt>\n",
              "\t\t<dd>524509</dd>\n",
              "\t<dt>$testing</dt>\n",
              "\t\t<dd>49371</dd>\n",
              "\t<dt>$testing_pos</dt>\n",
              "\t\t<dd>369</dd>\n",
              "\t<dt>$envios</dt>\n",
              "\t\t<dd>3353</dd>\n",
              "\t<dt>$aciertos</dt>\n",
              "\t\t<dd>206</dd>\n",
              "\t<dt>$ganancia_test</dt>\n",
              "\t\t<dd>48870000</dd>\n",
              "</dl>\n",
              "</li>\n",
              "\t<li><dl>\n",
              "\t<dt>$semilla</dt>\n",
              "\t\t<dd>394619</dd>\n",
              "\t<dt>$testing</dt>\n",
              "\t\t<dd>49371</dd>\n",
              "\t<dt>$testing_pos</dt>\n",
              "\t\t<dd>368</dd>\n",
              "\t<dt>$envios</dt>\n",
              "\t\t<dd>3521</dd>\n",
              "\t<dt>$aciertos</dt>\n",
              "\t\t<dd>196</dd>\n",
              "\t<dt>$ganancia_test</dt>\n",
              "\t\t<dd>43190000</dd>\n",
              "</dl>\n",
              "</li>\n",
              "\t<li><dl>\n",
              "\t<dt>$semilla</dt>\n",
              "\t\t<dd>746209</dd>\n",
              "\t<dt>$testing</dt>\n",
              "\t\t<dd>49376</dd>\n",
              "\t<dt>$testing_pos</dt>\n",
              "\t\t<dd>373</dd>\n",
              "\t<dt>$envios</dt>\n",
              "\t\t<dd>3679</dd>\n",
              "\t<dt>$aciertos</dt>\n",
              "\t\t<dd>209</dd>\n",
              "\t<dt>$ganancia_test</dt>\n",
              "\t\t<dd>46810000</dd>\n",
              "</dl>\n",
              "</li>\n",
              "\t<li><dl>\n",
              "\t<dt>$semilla</dt>\n",
              "\t\t<dd>587051</dd>\n",
              "\t<dt>$testing</dt>\n",
              "\t\t<dd>49380</dd>\n",
              "\t<dt>$testing_pos</dt>\n",
              "\t\t<dd>377</dd>\n",
              "\t<dt>$envios</dt>\n",
              "\t\t<dd>1924</dd>\n",
              "\t<dt>$aciertos</dt>\n",
              "\t\t<dd>164</dd>\n",
              "\t<dt>$ganancia_test</dt>\n",
              "\t\t<dd>46360000</dd>\n",
              "</dl>\n",
              "</li>\n",
              "\t<li><dl>\n",
              "\t<dt>$semilla</dt>\n",
              "\t\t<dd>302227</dd>\n",
              "\t<dt>$testing</dt>\n",
              "\t\t<dd>49379</dd>\n",
              "\t<dt>$testing_pos</dt>\n",
              "\t\t<dd>375</dd>\n",
              "\t<dt>$envios</dt>\n",
              "\t\t<dd>3519</dd>\n",
              "\t<dt>$aciertos</dt>\n",
              "\t\t<dd>216</dd>\n",
              "\t<dt>$ganancia_test</dt>\n",
              "\t\t<dd>51210000</dd>\n",
              "</dl>\n",
              "</li>\n",
              "\t<li><dl>\n",
              "\t<dt>$semilla</dt>\n",
              "\t\t<dd>476351</dd>\n",
              "\t<dt>$testing</dt>\n",
              "\t\t<dd>49374</dd>\n",
              "\t<dt>$testing_pos</dt>\n",
              "\t\t<dd>368</dd>\n",
              "\t<dt>$envios</dt>\n",
              "\t\t<dd>3168</dd>\n",
              "\t<dt>$aciertos</dt>\n",
              "\t\t<dd>184</dd>\n",
              "\t<dt>$ganancia_test</dt>\n",
              "\t\t<dd>41920000</dd>\n",
              "</dl>\n",
              "</li>\n",
              "\t<li><dl>\n",
              "\t<dt>$semilla</dt>\n",
              "\t\t<dd>524507</dd>\n",
              "\t<dt>$testing</dt>\n",
              "\t\t<dd>49381</dd>\n",
              "\t<dt>$testing_pos</dt>\n",
              "\t\t<dd>376</dd>\n",
              "\t<dt>$envios</dt>\n",
              "\t\t<dd>3256</dd>\n",
              "\t<dt>$aciertos</dt>\n",
              "\t\t<dd>208</dd>\n",
              "\t<dt>$ganancia_test</dt>\n",
              "\t\t<dd>50640000</dd>\n",
              "</dl>\n",
              "</li>\n",
              "\t<li><dl>\n",
              "\t<dt>$semilla</dt>\n",
              "\t\t<dd>712739</dd>\n",
              "\t<dt>$testing</dt>\n",
              "\t\t<dd>49375</dd>\n",
              "\t<dt>$testing_pos</dt>\n",
              "\t\t<dd>370</dd>\n",
              "\t<dt>$envios</dt>\n",
              "\t\t<dd>3234</dd>\n",
              "\t<dt>$aciertos</dt>\n",
              "\t\t<dd>205</dd>\n",
              "\t<dt>$ganancia_test</dt>\n",
              "\t\t<dd>49660000</dd>\n",
              "</dl>\n",
              "</li>\n",
              "\t<li><dl>\n",
              "\t<dt>$semilla</dt>\n",
              "\t\t<dd>152767</dd>\n",
              "\t<dt>$testing</dt>\n",
              "\t\t<dd>49380</dd>\n",
              "\t<dt>$testing_pos</dt>\n",
              "\t\t<dd>382</dd>\n",
              "\t<dt>$envios</dt>\n",
              "\t\t<dd>3266</dd>\n",
              "\t<dt>$aciertos</dt>\n",
              "\t\t<dd>220</dd>\n",
              "\t<dt>$ganancia_test</dt>\n",
              "\t\t<dd>55340000</dd>\n",
              "</dl>\n",
              "</li>\n",
              "\t<li><dl>\n",
              "\t<dt>$semilla</dt>\n",
              "\t\t<dd>955127</dd>\n",
              "\t<dt>$testing</dt>\n",
              "\t\t<dd>49383</dd>\n",
              "\t<dt>$testing_pos</dt>\n",
              "\t\t<dd>375</dd>\n",
              "\t<dt>$envios</dt>\n",
              "\t\t<dd>3495</dd>\n",
              "\t<dt>$aciertos</dt>\n",
              "\t\t<dd>210</dd>\n",
              "\t<dt>$ganancia_test</dt>\n",
              "\t\t<dd>49050000</dd>\n",
              "</dl>\n",
              "</li>\n",
              "\t<li><dl>\n",
              "\t<dt>$semilla</dt>\n",
              "\t\t<dd>133213</dd>\n",
              "\t<dt>$testing</dt>\n",
              "\t\t<dd>49376</dd>\n",
              "\t<dt>$testing_pos</dt>\n",
              "\t\t<dd>373</dd>\n",
              "\t<dt>$envios</dt>\n",
              "\t\t<dd>3378</dd>\n",
              "\t<dt>$aciertos</dt>\n",
              "\t\t<dd>193</dd>\n",
              "\t<dt>$ganancia_test</dt>\n",
              "\t\t<dd>43420000</dd>\n",
              "</dl>\n",
              "</li>\n",
              "\t<li><dl>\n",
              "\t<dt>$semilla</dt>\n",
              "\t\t<dd>505097</dd>\n",
              "\t<dt>$testing</dt>\n",
              "\t\t<dd>49370</dd>\n",
              "\t<dt>$testing_pos</dt>\n",
              "\t\t<dd>371</dd>\n",
              "\t<dt>$envios</dt>\n",
              "\t\t<dd>2993</dd>\n",
              "\t<dt>$aciertos</dt>\n",
              "\t\t<dd>202</dd>\n",
              "\t<dt>$ganancia_test</dt>\n",
              "\t\t<dd>50870000</dd>\n",
              "</dl>\n",
              "</li>\n",
              "\t<li><dl>\n",
              "\t<dt>$semilla</dt>\n",
              "\t\t<dd>185063</dd>\n",
              "\t<dt>$testing</dt>\n",
              "\t\t<dd>49362</dd>\n",
              "\t<dt>$testing_pos</dt>\n",
              "\t\t<dd>375</dd>\n",
              "\t<dt>$envios</dt>\n",
              "\t\t<dd>3568</dd>\n",
              "\t<dt>$aciertos</dt>\n",
              "\t\t<dd>206</dd>\n",
              "\t<dt>$ganancia_test</dt>\n",
              "\t\t<dd>46720000</dd>\n",
              "</dl>\n",
              "</li>\n",
              "\t<li><dl>\n",
              "\t<dt>$semilla</dt>\n",
              "\t\t<dd>519989</dd>\n",
              "\t<dt>$testing</dt>\n",
              "\t\t<dd>49372</dd>\n",
              "\t<dt>$testing_pos</dt>\n",
              "\t\t<dd>370</dd>\n",
              "\t<dt>$envios</dt>\n",
              "\t\t<dd>3673</dd>\n",
              "\t<dt>$aciertos</dt>\n",
              "\t\t<dd>217</dd>\n",
              "\t<dt>$ganancia_test</dt>\n",
              "\t\t<dd>50070000</dd>\n",
              "</dl>\n",
              "</li>\n",
              "\t<li><dl>\n",
              "\t<dt>$semilla</dt>\n",
              "\t\t<dd>647161</dd>\n",
              "\t<dt>$testing</dt>\n",
              "\t\t<dd>49376</dd>\n",
              "\t<dt>$testing_pos</dt>\n",
              "\t\t<dd>378</dd>\n",
              "\t<dt>$envios</dt>\n",
              "\t\t<dd>3152</dd>\n",
              "\t<dt>$aciertos</dt>\n",
              "\t\t<dd>202</dd>\n",
              "\t<dt>$ganancia_test</dt>\n",
              "\t\t<dd>49280000</dd>\n",
              "</dl>\n",
              "</li>\n",
              "\t<li><dl>\n",
              "\t<dt>$semilla</dt>\n",
              "\t\t<dd>118373</dd>\n",
              "\t<dt>$testing</dt>\n",
              "\t\t<dd>49385</dd>\n",
              "\t<dt>$testing_pos</dt>\n",
              "\t\t<dd>382</dd>\n",
              "\t<dt>$envios</dt>\n",
              "\t\t<dd>3934</dd>\n",
              "\t<dt>$aciertos</dt>\n",
              "\t\t<dd>219</dd>\n",
              "\t<dt>$ganancia_test</dt>\n",
              "\t\t<dd>48260000</dd>\n",
              "</dl>\n",
              "</li>\n",
              "\t<li><dl>\n",
              "\t<dt>$semilla</dt>\n",
              "\t\t<dd>687163</dd>\n",
              "\t<dt>$testing</dt>\n",
              "\t\t<dd>49376</dd>\n",
              "\t<dt>$testing_pos</dt>\n",
              "\t\t<dd>371</dd>\n",
              "\t<dt>$envios</dt>\n",
              "\t\t<dd>3440</dd>\n",
              "\t<dt>$aciertos</dt>\n",
              "\t\t<dd>216</dd>\n",
              "\t<dt>$ganancia_test</dt>\n",
              "\t\t<dd>5.2e+07</dd>\n",
              "</dl>\n",
              "</li>\n",
              "\t<li><dl>\n",
              "\t<dt>$semilla</dt>\n",
              "\t\t<dd>683899</dd>\n",
              "\t<dt>$testing</dt>\n",
              "\t\t<dd>49379</dd>\n",
              "\t<dt>$testing_pos</dt>\n",
              "\t\t<dd>373</dd>\n",
              "\t<dt>$envios</dt>\n",
              "\t\t<dd>3718</dd>\n",
              "\t<dt>$aciertos</dt>\n",
              "\t\t<dd>207</dd>\n",
              "\t<dt>$ganancia_test</dt>\n",
              "\t\t<dd>45620000</dd>\n",
              "</dl>\n",
              "</li>\n",
              "\t<li><dl>\n",
              "\t<dt>$semilla</dt>\n",
              "\t\t<dd>895309</dd>\n",
              "\t<dt>$testing</dt>\n",
              "\t\t<dd>49374</dd>\n",
              "\t<dt>$testing_pos</dt>\n",
              "\t\t<dd>373</dd>\n",
              "\t<dt>$envios</dt>\n",
              "\t\t<dd>3691</dd>\n",
              "\t<dt>$aciertos</dt>\n",
              "\t\t<dd>213</dd>\n",
              "\t<dt>$ganancia_test</dt>\n",
              "\t\t<dd>48290000</dd>\n",
              "</dl>\n",
              "</li>\n",
              "\t<li><dl>\n",
              "\t<dt>$semilla</dt>\n",
              "\t\t<dd>186671</dd>\n",
              "\t<dt>$testing</dt>\n",
              "\t\t<dd>49378</dd>\n",
              "\t<dt>$testing_pos</dt>\n",
              "\t\t<dd>368</dd>\n",
              "\t<dt>$envios</dt>\n",
              "\t\t<dd>3432</dd>\n",
              "\t<dt>$aciertos</dt>\n",
              "\t\t<dd>201</dd>\n",
              "\t<dt>$ganancia_test</dt>\n",
              "\t\t<dd>46080000</dd>\n",
              "</dl>\n",
              "</li>\n",
              "\t<li><dl>\n",
              "\t<dt>$semilla</dt>\n",
              "\t\t<dd>712427</dd>\n",
              "\t<dt>$testing</dt>\n",
              "\t\t<dd>49380</dd>\n",
              "\t<dt>$testing_pos</dt>\n",
              "\t\t<dd>377</dd>\n",
              "\t<dt>$envios</dt>\n",
              "\t\t<dd>4270</dd>\n",
              "\t<dt>$aciertos</dt>\n",
              "\t\t<dd>222</dd>\n",
              "\t<dt>$ganancia_test</dt>\n",
              "\t\t<dd>46100000</dd>\n",
              "</dl>\n",
              "</li>\n",
              "\t<li><dl>\n",
              "\t<dt>$semilla</dt>\n",
              "\t\t<dd>346601</dd>\n",
              "\t<dt>$testing</dt>\n",
              "\t\t<dd>49373</dd>\n",
              "\t<dt>$testing_pos</dt>\n",
              "\t\t<dd>375</dd>\n",
              "\t<dt>$envios</dt>\n",
              "\t\t<dd>2885</dd>\n",
              "\t<dt>$aciertos</dt>\n",
              "\t\t<dd>183</dd>\n",
              "\t<dt>$ganancia_test</dt>\n",
              "\t\t<dd>44350000</dd>\n",
              "</dl>\n",
              "</li>\n",
              "\t<li><dl>\n",
              "\t<dt>$semilla</dt>\n",
              "\t\t<dd>357593</dd>\n",
              "\t<dt>$testing</dt>\n",
              "\t\t<dd>49385</dd>\n",
              "\t<dt>$testing_pos</dt>\n",
              "\t\t<dd>376</dd>\n",
              "\t<dt>$envios</dt>\n",
              "\t\t<dd>3217</dd>\n",
              "\t<dt>$aciertos</dt>\n",
              "\t\t<dd>210</dd>\n",
              "\t<dt>$ganancia_test</dt>\n",
              "\t\t<dd>51830000</dd>\n",
              "</dl>\n",
              "</li>\n",
              "\t<li><dl>\n",
              "\t<dt>$semilla</dt>\n",
              "\t\t<dd>364027</dd>\n",
              "\t<dt>$testing</dt>\n",
              "\t\t<dd>49385</dd>\n",
              "\t<dt>$testing_pos</dt>\n",
              "\t\t<dd>377</dd>\n",
              "\t<dt>$envios</dt>\n",
              "\t\t<dd>2866</dd>\n",
              "\t<dt>$aciertos</dt>\n",
              "\t\t<dd>181</dd>\n",
              "\t<dt>$ganancia_test</dt>\n",
              "\t\t<dd>43740000</dd>\n",
              "</dl>\n",
              "</li>\n",
              "\t<li><dl>\n",
              "\t<dt>$semilla</dt>\n",
              "\t\t<dd>480569</dd>\n",
              "\t<dt>$testing</dt>\n",
              "\t\t<dd>49385</dd>\n",
              "\t<dt>$testing_pos</dt>\n",
              "\t\t<dd>382</dd>\n",
              "\t<dt>$envios</dt>\n",
              "\t\t<dd>3598</dd>\n",
              "\t<dt>$aciertos</dt>\n",
              "\t\t<dd>195</dd>\n",
              "\t<dt>$ganancia_test</dt>\n",
              "\t\t<dd>42020000</dd>\n",
              "</dl>\n",
              "</li>\n",
              "\t<li><dl>\n",
              "\t<dt>$semilla</dt>\n",
              "\t\t<dd>713467</dd>\n",
              "\t<dt>$testing</dt>\n",
              "\t\t<dd>49370</dd>\n",
              "\t<dt>$testing_pos</dt>\n",
              "\t\t<dd>368</dd>\n",
              "\t<dt>$envios</dt>\n",
              "\t\t<dd>3819</dd>\n",
              "\t<dt>$aciertos</dt>\n",
              "\t\t<dd>221</dd>\n",
              "\t<dt>$ganancia_test</dt>\n",
              "\t\t<dd>50210000</dd>\n",
              "</dl>\n",
              "</li>\n",
              "\t<li><dl>\n",
              "\t<dt>$semilla</dt>\n",
              "\t\t<dd>204563</dd>\n",
              "\t<dt>$testing</dt>\n",
              "\t\t<dd>49385</dd>\n",
              "\t<dt>$testing_pos</dt>\n",
              "\t\t<dd>374</dd>\n",
              "\t<dt>$envios</dt>\n",
              "\t\t<dd>3739</dd>\n",
              "\t<dt>$aciertos</dt>\n",
              "\t\t<dd>208</dd>\n",
              "\t<dt>$ganancia_test</dt>\n",
              "\t\t<dd>45810000</dd>\n",
              "</dl>\n",
              "</li>\n",
              "\t<li><dl>\n",
              "\t<dt>$semilla</dt>\n",
              "\t\t<dd>301669</dd>\n",
              "\t<dt>$testing</dt>\n",
              "\t\t<dd>49372</dd>\n",
              "\t<dt>$testing_pos</dt>\n",
              "\t\t<dd>375</dd>\n",
              "\t<dt>$envios</dt>\n",
              "\t\t<dd>3048</dd>\n",
              "\t<dt>$aciertos</dt>\n",
              "\t\t<dd>213</dd>\n",
              "\t<dt>$ganancia_test</dt>\n",
              "\t\t<dd>54720000</dd>\n",
              "</dl>\n",
              "</li>\n",
              "\t<li><dl>\n",
              "\t<dt>$semilla</dt>\n",
              "\t\t<dd>615151</dd>\n",
              "\t<dt>$testing</dt>\n",
              "\t\t<dd>49371</dd>\n",
              "\t<dt>$testing_pos</dt>\n",
              "\t\t<dd>375</dd>\n",
              "\t<dt>$envios</dt>\n",
              "\t\t<dd>3375</dd>\n",
              "\t<dt>$aciertos</dt>\n",
              "\t\t<dd>176</dd>\n",
              "\t<dt>$ganancia_test</dt>\n",
              "\t\t<dd>36650000</dd>\n",
              "</dl>\n",
              "</li>\n",
              "\t<li><dl>\n",
              "\t<dt>$semilla</dt>\n",
              "\t\t<dd>844523</dd>\n",
              "\t<dt>$testing</dt>\n",
              "\t\t<dd>49375</dd>\n",
              "\t<dt>$testing_pos</dt>\n",
              "\t\t<dd>371</dd>\n",
              "\t<dt>$envios</dt>\n",
              "\t\t<dd>3544</dd>\n",
              "\t<dt>$aciertos</dt>\n",
              "\t\t<dd>206</dd>\n",
              "\t<dt>$ganancia_test</dt>\n",
              "\t\t<dd>46960000</dd>\n",
              "</dl>\n",
              "</li>\n",
              "\t<li><dl>\n",
              "\t<dt>$semilla</dt>\n",
              "\t\t<dd>936769</dd>\n",
              "\t<dt>$testing</dt>\n",
              "\t\t<dd>49377</dd>\n",
              "\t<dt>$testing_pos</dt>\n",
              "\t\t<dd>372</dd>\n",
              "\t<dt>$envios</dt>\n",
              "\t\t<dd>3178</dd>\n",
              "\t<dt>$aciertos</dt>\n",
              "\t\t<dd>194</dd>\n",
              "\t<dt>$ganancia_test</dt>\n",
              "\t\t<dd>45820000</dd>\n",
              "</dl>\n",
              "</li>\n",
              "\t<li><dl>\n",
              "\t<dt>$semilla</dt>\n",
              "\t\t<dd>579587</dd>\n",
              "\t<dt>$testing</dt>\n",
              "\t\t<dd>49384</dd>\n",
              "\t<dt>$testing_pos</dt>\n",
              "\t\t<dd>370</dd>\n",
              "\t<dt>$envios</dt>\n",
              "\t\t<dd>3679</dd>\n",
              "\t<dt>$aciertos</dt>\n",
              "\t\t<dd>211</dd>\n",
              "\t<dt>$ganancia_test</dt>\n",
              "\t\t<dd>47610000</dd>\n",
              "</dl>\n",
              "</li>\n",
              "\t<li><dl>\n",
              "\t<dt>$semilla</dt>\n",
              "\t\t<dd>182473</dd>\n",
              "\t<dt>$testing</dt>\n",
              "\t\t<dd>49370</dd>\n",
              "\t<dt>$testing_pos</dt>\n",
              "\t\t<dd>372</dd>\n",
              "\t<dt>$envios</dt>\n",
              "\t\t<dd>3252</dd>\n",
              "\t<dt>$aciertos</dt>\n",
              "\t\t<dd>198</dd>\n",
              "\t<dt>$ganancia_test</dt>\n",
              "\t\t<dd>46680000</dd>\n",
              "</dl>\n",
              "</li>\n",
              "\t<li><dl>\n",
              "\t<dt>$semilla</dt>\n",
              "\t\t<dd>681727</dd>\n",
              "\t<dt>$testing</dt>\n",
              "\t\t<dd>49391</dd>\n",
              "\t<dt>$testing_pos</dt>\n",
              "\t\t<dd>380</dd>\n",
              "\t<dt>$envios</dt>\n",
              "\t\t<dd>3678</dd>\n",
              "\t<dt>$aciertos</dt>\n",
              "\t\t<dd>210</dd>\n",
              "\t<dt>$ganancia_test</dt>\n",
              "\t\t<dd>47220000</dd>\n",
              "</dl>\n",
              "</li>\n",
              "\t<li><dl>\n",
              "\t<dt>$semilla</dt>\n",
              "\t\t<dd>400927</dd>\n",
              "\t<dt>$testing</dt>\n",
              "\t\t<dd>49380</dd>\n",
              "\t<dt>$testing_pos</dt>\n",
              "\t\t<dd>374</dd>\n",
              "\t<dt>$envios</dt>\n",
              "\t\t<dd>3434</dd>\n",
              "\t<dt>$aciertos</dt>\n",
              "\t\t<dd>217</dd>\n",
              "\t<dt>$ganancia_test</dt>\n",
              "\t\t<dd>52460000</dd>\n",
              "</dl>\n",
              "</li>\n",
              "\t<li><dl>\n",
              "\t<dt>$semilla</dt>\n",
              "\t\t<dd>873469</dd>\n",
              "\t<dt>$testing</dt>\n",
              "\t\t<dd>49370</dd>\n",
              "\t<dt>$testing_pos</dt>\n",
              "\t\t<dd>372</dd>\n",
              "\t<dt>$envios</dt>\n",
              "\t\t<dd>3226</dd>\n",
              "\t<dt>$aciertos</dt>\n",
              "\t\t<dd>201</dd>\n",
              "\t<dt>$ganancia_test</dt>\n",
              "\t\t<dd>48140000</dd>\n",
              "</dl>\n",
              "</li>\n",
              "\t<li><dl>\n",
              "\t<dt>$semilla</dt>\n",
              "\t\t<dd>799993</dd>\n",
              "\t<dt>$testing</dt>\n",
              "\t\t<dd>49375</dd>\n",
              "\t<dt>$testing_pos</dt>\n",
              "\t\t<dd>374</dd>\n",
              "\t<dt>$envios</dt>\n",
              "\t\t<dd>3244</dd>\n",
              "\t<dt>$aciertos</dt>\n",
              "\t\t<dd>200</dd>\n",
              "\t<dt>$ganancia_test</dt>\n",
              "\t\t<dd>47560000</dd>\n",
              "</dl>\n",
              "</li>\n",
              "\t<li><dl>\n",
              "\t<dt>$semilla</dt>\n",
              "\t\t<dd>644563</dd>\n",
              "\t<dt>$testing</dt>\n",
              "\t\t<dd>49366</dd>\n",
              "\t<dt>$testing_pos</dt>\n",
              "\t\t<dd>371</dd>\n",
              "\t<dt>$envios</dt>\n",
              "\t\t<dd>3182</dd>\n",
              "\t<dt>$aciertos</dt>\n",
              "\t\t<dd>209</dd>\n",
              "\t<dt>$ganancia_test</dt>\n",
              "\t\t<dd>51780000</dd>\n",
              "</dl>\n",
              "</li>\n",
              "\t<li><dl>\n",
              "\t<dt>$semilla</dt>\n",
              "\t\t<dd>964693</dd>\n",
              "\t<dt>$testing</dt>\n",
              "\t\t<dd>49381</dd>\n",
              "\t<dt>$testing_pos</dt>\n",
              "\t\t<dd>376</dd>\n",
              "\t<dt>$envios</dt>\n",
              "\t\t<dd>3713</dd>\n",
              "\t<dt>$aciertos</dt>\n",
              "\t\t<dd>210</dd>\n",
              "\t<dt>$ganancia_test</dt>\n",
              "\t\t<dd>46870000</dd>\n",
              "</dl>\n",
              "</li>\n",
              "\t<li><dl>\n",
              "\t<dt>$semilla</dt>\n",
              "\t\t<dd>744559</dd>\n",
              "\t<dt>$testing</dt>\n",
              "\t\t<dd>49369</dd>\n",
              "\t<dt>$testing_pos</dt>\n",
              "\t\t<dd>368</dd>\n",
              "\t<dt>$envios</dt>\n",
              "\t\t<dd>4155</dd>\n",
              "\t<dt>$aciertos</dt>\n",
              "\t\t<dd>222</dd>\n",
              "\t<dt>$ganancia_test</dt>\n",
              "\t\t<dd>47250000</dd>\n",
              "</dl>\n",
              "</li>\n",
              "\t<li><dl>\n",
              "\t<dt>$semilla</dt>\n",
              "\t\t<dd>747259</dd>\n",
              "\t<dt>$testing</dt>\n",
              "\t\t<dd>49380</dd>\n",
              "\t<dt>$testing_pos</dt>\n",
              "\t\t<dd>376</dd>\n",
              "\t<dt>$envios</dt>\n",
              "\t\t<dd>3951</dd>\n",
              "\t<dt>$aciertos</dt>\n",
              "\t\t<dd>223</dd>\n",
              "\t<dt>$ganancia_test</dt>\n",
              "\t\t<dd>49690000</dd>\n",
              "</dl>\n",
              "</li>\n",
              "\t<li><dl>\n",
              "\t<dt>$semilla</dt>\n",
              "\t\t<dd>165883</dd>\n",
              "\t<dt>$testing</dt>\n",
              "\t\t<dd>49376</dd>\n",
              "\t<dt>$testing_pos</dt>\n",
              "\t\t<dd>376</dd>\n",
              "\t<dt>$envios</dt>\n",
              "\t\t<dd>3304</dd>\n",
              "\t<dt>$aciertos</dt>\n",
              "\t\t<dd>194</dd>\n",
              "\t<dt>$ganancia_test</dt>\n",
              "\t\t<dd>44560000</dd>\n",
              "</dl>\n",
              "</li>\n",
              "\t<li><dl>\n",
              "\t<dt>$semilla</dt>\n",
              "\t\t<dd>353653</dd>\n",
              "\t<dt>$testing</dt>\n",
              "\t\t<dd>49376</dd>\n",
              "\t<dt>$testing_pos</dt>\n",
              "\t\t<dd>374</dd>\n",
              "\t<dt>$envios</dt>\n",
              "\t\t<dd>3393</dd>\n",
              "\t<dt>$aciertos</dt>\n",
              "\t\t<dd>208</dd>\n",
              "\t<dt>$ganancia_test</dt>\n",
              "\t\t<dd>49270000</dd>\n",
              "</dl>\n",
              "</li>\n",
              "\t<li><dl>\n",
              "\t<dt>$semilla</dt>\n",
              "\t\t<dd>919063</dd>\n",
              "\t<dt>$testing</dt>\n",
              "\t\t<dd>49364</dd>\n",
              "\t<dt>$testing_pos</dt>\n",
              "\t\t<dd>375</dd>\n",
              "\t<dt>$envios</dt>\n",
              "\t\t<dd>3335</dd>\n",
              "\t<dt>$aciertos</dt>\n",
              "\t\t<dd>206</dd>\n",
              "\t<dt>$ganancia_test</dt>\n",
              "\t\t<dd>49050000</dd>\n",
              "</dl>\n",
              "</li>\n",
              "\t<li><dl>\n",
              "\t<dt>$semilla</dt>\n",
              "\t\t<dd>310901</dd>\n",
              "\t<dt>$testing</dt>\n",
              "\t\t<dd>49380</dd>\n",
              "\t<dt>$testing_pos</dt>\n",
              "\t\t<dd>373</dd>\n",
              "\t<dt>$envios</dt>\n",
              "\t\t<dd>3477</dd>\n",
              "\t<dt>$aciertos</dt>\n",
              "\t\t<dd>215</dd>\n",
              "\t<dt>$ganancia_test</dt>\n",
              "\t\t<dd>51230000</dd>\n",
              "</dl>\n",
              "</li>\n",
              "\t<li><dl>\n",
              "\t<dt>$semilla</dt>\n",
              "\t\t<dd>417217</dd>\n",
              "\t<dt>$testing</dt>\n",
              "\t\t<dd>49376</dd>\n",
              "\t<dt>$testing_pos</dt>\n",
              "\t\t<dd>375</dd>\n",
              "\t<dt>$envios</dt>\n",
              "\t\t<dd>4817</dd>\n",
              "\t<dt>$aciertos</dt>\n",
              "\t\t<dd>246</dd>\n",
              "\t<dt>$ganancia_test</dt>\n",
              "\t\t<dd>50230000</dd>\n",
              "</dl>\n",
              "</li>\n",
              "\t<li><dl>\n",
              "\t<dt>$semilla</dt>\n",
              "\t\t<dd>259159</dd>\n",
              "\t<dt>$testing</dt>\n",
              "\t\t<dd>49384</dd>\n",
              "\t<dt>$testing_pos</dt>\n",
              "\t\t<dd>370</dd>\n",
              "\t<dt>$envios</dt>\n",
              "\t\t<dd>3903</dd>\n",
              "\t<dt>$aciertos</dt>\n",
              "\t\t<dd>206</dd>\n",
              "\t<dt>$ganancia_test</dt>\n",
              "\t\t<dd>43370000</dd>\n",
              "</dl>\n",
              "</li>\n",
              "\t<li><dl>\n",
              "\t<dt>$semilla</dt>\n",
              "\t\t<dd>767309</dd>\n",
              "\t<dt>$testing</dt>\n",
              "\t\t<dd>49369</dd>\n",
              "\t<dt>$testing_pos</dt>\n",
              "\t\t<dd>372</dd>\n",
              "\t<dt>$envios</dt>\n",
              "\t\t<dd>3198</dd>\n",
              "\t<dt>$aciertos</dt>\n",
              "\t\t<dd>196</dd>\n",
              "\t<dt>$ganancia_test</dt>\n",
              "\t\t<dd>46420000</dd>\n",
              "</dl>\n",
              "</li>\n",
              "\t<li><dl>\n",
              "\t<dt>$semilla</dt>\n",
              "\t\t<dd>327347</dd>\n",
              "\t<dt>$testing</dt>\n",
              "\t\t<dd>49376</dd>\n",
              "\t<dt>$testing_pos</dt>\n",
              "\t\t<dd>375</dd>\n",
              "\t<dt>$envios</dt>\n",
              "\t\t<dd>2764</dd>\n",
              "\t<dt>$aciertos</dt>\n",
              "\t\t<dd>204</dd>\n",
              "\t<dt>$ganancia_test</dt>\n",
              "\t\t<dd>53960000</dd>\n",
              "</dl>\n",
              "</li>\n",
              "\t<li><dl>\n",
              "\t<dt>$semilla</dt>\n",
              "\t\t<dd>634703</dd>\n",
              "\t<dt>$testing</dt>\n",
              "\t\t<dd>49377</dd>\n",
              "\t<dt>$testing_pos</dt>\n",
              "\t\t<dd>373</dd>\n",
              "\t<dt>$envios</dt>\n",
              "\t\t<dd>3551</dd>\n",
              "\t<dt>$aciertos</dt>\n",
              "\t\t<dd>201</dd>\n",
              "\t<dt>$ganancia_test</dt>\n",
              "\t\t<dd>44890000</dd>\n",
              "</dl>\n",
              "</li>\n",
              "\t<li><dl>\n",
              "\t<dt>$semilla</dt>\n",
              "\t\t<dd>445567</dd>\n",
              "\t<dt>$testing</dt>\n",
              "\t\t<dd>49375</dd>\n",
              "\t<dt>$testing_pos</dt>\n",
              "\t\t<dd>378</dd>\n",
              "\t<dt>$envios</dt>\n",
              "\t\t<dd>3624</dd>\n",
              "\t<dt>$aciertos</dt>\n",
              "\t\t<dd>217</dd>\n",
              "\t<dt>$ganancia_test</dt>\n",
              "\t\t<dd>50560000</dd>\n",
              "</dl>\n",
              "</li>\n",
              "\t<li><dl>\n",
              "\t<dt>$semilla</dt>\n",
              "\t\t<dd>280589</dd>\n",
              "\t<dt>$testing</dt>\n",
              "\t\t<dd>49384</dd>\n",
              "\t<dt>$testing_pos</dt>\n",
              "\t\t<dd>378</dd>\n",
              "\t<dt>$envios</dt>\n",
              "\t\t<dd>2968</dd>\n",
              "\t<dt>$aciertos</dt>\n",
              "\t\t<dd>197</dd>\n",
              "\t<dt>$ganancia_test</dt>\n",
              "\t\t<dd>49120000</dd>\n",
              "</dl>\n",
              "</li>\n",
              "\t<li><dl>\n",
              "\t<dt>$semilla</dt>\n",
              "\t\t<dd>560237</dd>\n",
              "\t<dt>$testing</dt>\n",
              "\t\t<dd>49374</dd>\n",
              "\t<dt>$testing_pos</dt>\n",
              "\t\t<dd>369</dd>\n",
              "\t<dt>$envios</dt>\n",
              "\t\t<dd>3530</dd>\n",
              "\t<dt>$aciertos</dt>\n",
              "\t\t<dd>209</dd>\n",
              "\t<dt>$ganancia_test</dt>\n",
              "\t\t<dd>48300000</dd>\n",
              "</dl>\n",
              "</li>\n",
              "\t<li><dl>\n",
              "\t<dt>$semilla</dt>\n",
              "\t\t<dd>144751</dd>\n",
              "\t<dt>$testing</dt>\n",
              "\t\t<dd>49373</dd>\n",
              "\t<dt>$testing_pos</dt>\n",
              "\t\t<dd>369</dd>\n",
              "\t<dt>$envios</dt>\n",
              "\t\t<dd>3836</dd>\n",
              "\t<dt>$aciertos</dt>\n",
              "\t\t<dd>205</dd>\n",
              "\t<dt>$ganancia_test</dt>\n",
              "\t\t<dd>43640000</dd>\n",
              "</dl>\n",
              "</li>\n",
              "\t<li><dl>\n",
              "\t<dt>$semilla</dt>\n",
              "\t\t<dd>906007</dd>\n",
              "\t<dt>$testing</dt>\n",
              "\t\t<dd>49381</dd>\n",
              "\t<dt>$testing_pos</dt>\n",
              "\t\t<dd>383</dd>\n",
              "\t<dt>$envios</dt>\n",
              "\t\t<dd>4011</dd>\n",
              "\t<dt>$aciertos</dt>\n",
              "\t\t<dd>235</dd>\n",
              "\t<dt>$ganancia_test</dt>\n",
              "\t\t<dd>53890000</dd>\n",
              "</dl>\n",
              "</li>\n",
              "\t<li><dl>\n",
              "\t<dt>$semilla</dt>\n",
              "\t\t<dd>192817</dd>\n",
              "\t<dt>$testing</dt>\n",
              "\t\t<dd>49376</dd>\n",
              "\t<dt>$testing_pos</dt>\n",
              "\t\t<dd>379</dd>\n",
              "\t<dt>$envios</dt>\n",
              "\t\t<dd>2598</dd>\n",
              "\t<dt>$aciertos</dt>\n",
              "\t\t<dd>190</dd>\n",
              "\t<dt>$ganancia_test</dt>\n",
              "\t\t<dd>50020000</dd>\n",
              "</dl>\n",
              "</li>\n",
              "\t<li><dl>\n",
              "\t<dt>$semilla</dt>\n",
              "\t\t<dd>529939</dd>\n",
              "\t<dt>$testing</dt>\n",
              "\t\t<dd>49383</dd>\n",
              "\t<dt>$testing_pos</dt>\n",
              "\t\t<dd>371</dd>\n",
              "\t<dt>$envios</dt>\n",
              "\t\t<dd>3852</dd>\n",
              "\t<dt>$aciertos</dt>\n",
              "\t\t<dd>218</dd>\n",
              "\t<dt>$ganancia_test</dt>\n",
              "\t\t<dd>48680000</dd>\n",
              "</dl>\n",
              "</li>\n",
              "\t<li><dl>\n",
              "\t<dt>$semilla</dt>\n",
              "\t\t<dd>239357</dd>\n",
              "\t<dt>$testing</dt>\n",
              "\t\t<dd>49381</dd>\n",
              "\t<dt>$testing_pos</dt>\n",
              "\t\t<dd>375</dd>\n",
              "\t<dt>$envios</dt>\n",
              "\t\t<dd>3227</dd>\n",
              "\t<dt>$aciertos</dt>\n",
              "\t\t<dd>191</dd>\n",
              "\t<dt>$ganancia_test</dt>\n",
              "\t\t<dd>44130000</dd>\n",
              "</dl>\n",
              "</li>\n",
              "\t<li><dl>\n",
              "\t<dt>$semilla</dt>\n",
              "\t\t<dd>473987</dd>\n",
              "\t<dt>$testing</dt>\n",
              "\t\t<dd>49378</dd>\n",
              "\t<dt>$testing_pos</dt>\n",
              "\t\t<dd>377</dd>\n",
              "\t<dt>$envios</dt>\n",
              "\t\t<dd>2686</dd>\n",
              "\t<dt>$aciertos</dt>\n",
              "\t\t<dd>196</dd>\n",
              "\t<dt>$ganancia_test</dt>\n",
              "\t\t<dd>51540000</dd>\n",
              "</dl>\n",
              "</li>\n",
              "\t<li><dl>\n",
              "\t<dt>$semilla</dt>\n",
              "\t\t<dd>268921</dd>\n",
              "\t<dt>$testing</dt>\n",
              "\t\t<dd>49389</dd>\n",
              "\t<dt>$testing_pos</dt>\n",
              "\t\t<dd>374</dd>\n",
              "\t<dt>$envios</dt>\n",
              "\t\t<dd>3905</dd>\n",
              "\t<dt>$aciertos</dt>\n",
              "\t\t<dd>224</dd>\n",
              "\t<dt>$ganancia_test</dt>\n",
              "\t\t<dd>50550000</dd>\n",
              "</dl>\n",
              "</li>\n",
              "\t<li><dl>\n",
              "\t<dt>$semilla</dt>\n",
              "\t\t<dd>616003</dd>\n",
              "\t<dt>$testing</dt>\n",
              "\t\t<dd>49373</dd>\n",
              "\t<dt>$testing_pos</dt>\n",
              "\t\t<dd>368</dd>\n",
              "\t<dt>$envios</dt>\n",
              "\t\t<dd>4023</dd>\n",
              "\t<dt>$aciertos</dt>\n",
              "\t\t<dd>211</dd>\n",
              "\t<dt>$ganancia_test</dt>\n",
              "\t\t<dd>44170000</dd>\n",
              "</dl>\n",
              "</li>\n",
              "\t<li><dl>\n",
              "\t<dt>$semilla</dt>\n",
              "\t\t<dd>272423</dd>\n",
              "\t<dt>$testing</dt>\n",
              "\t\t<dd>49379</dd>\n",
              "\t<dt>$testing_pos</dt>\n",
              "\t\t<dd>373</dd>\n",
              "\t<dt>$envios</dt>\n",
              "\t\t<dd>2803</dd>\n",
              "\t<dt>$aciertos</dt>\n",
              "\t\t<dd>196</dd>\n",
              "\t<dt>$ganancia_test</dt>\n",
              "\t\t<dd>50370000</dd>\n",
              "</dl>\n",
              "</li>\n",
              "\t<li><dl>\n",
              "\t<dt>$semilla</dt>\n",
              "\t\t<dd>830789</dd>\n",
              "\t<dt>$testing</dt>\n",
              "\t\t<dd>49383</dd>\n",
              "\t<dt>$testing_pos</dt>\n",
              "\t\t<dd>375</dd>\n",
              "\t<dt>$envios</dt>\n",
              "\t\t<dd>3654</dd>\n",
              "\t<dt>$aciertos</dt>\n",
              "\t\t<dd>211</dd>\n",
              "\t<dt>$ganancia_test</dt>\n",
              "\t\t<dd>47860000</dd>\n",
              "</dl>\n",
              "</li>\n",
              "\t<li><dl>\n",
              "\t<dt>$semilla</dt>\n",
              "\t\t<dd>460903</dd>\n",
              "\t<dt>$testing</dt>\n",
              "\t\t<dd>49388</dd>\n",
              "\t<dt>$testing_pos</dt>\n",
              "\t\t<dd>379</dd>\n",
              "\t<dt>$envios</dt>\n",
              "\t\t<dd>4554</dd>\n",
              "\t<dt>$aciertos</dt>\n",
              "\t\t<dd>243</dd>\n",
              "\t<dt>$ganancia_test</dt>\n",
              "\t\t<dd>51660000</dd>\n",
              "</dl>\n",
              "</li>\n",
              "\t<li><dl>\n",
              "\t<dt>$semilla</dt>\n",
              "\t\t<dd>122741</dd>\n",
              "\t<dt>$testing</dt>\n",
              "\t\t<dd>49376</dd>\n",
              "\t<dt>$testing_pos</dt>\n",
              "\t\t<dd>374</dd>\n",
              "\t<dt>$envios</dt>\n",
              "\t\t<dd>3798</dd>\n",
              "\t<dt>$aciertos</dt>\n",
              "\t\t<dd>204</dd>\n",
              "\t<dt>$ganancia_test</dt>\n",
              "\t\t<dd>43620000</dd>\n",
              "</dl>\n",
              "</li>\n",
              "\t<li><dl>\n",
              "\t<dt>$semilla</dt>\n",
              "\t\t<dd>557093</dd>\n",
              "\t<dt>$testing</dt>\n",
              "\t\t<dd>49369</dd>\n",
              "\t<dt>$testing_pos</dt>\n",
              "\t\t<dd>378</dd>\n",
              "\t<dt>$envios</dt>\n",
              "\t\t<dd>2999</dd>\n",
              "\t<dt>$aciertos</dt>\n",
              "\t\t<dd>180</dd>\n",
              "\t<dt>$ganancia_test</dt>\n",
              "\t\t<dd>42010000</dd>\n",
              "</dl>\n",
              "</li>\n",
              "\t<li><dl>\n",
              "\t<dt>$semilla</dt>\n",
              "\t\t<dd>171761</dd>\n",
              "\t<dt>$testing</dt>\n",
              "\t\t<dd>49377</dd>\n",
              "\t<dt>$testing_pos</dt>\n",
              "\t\t<dd>375</dd>\n",
              "\t<dt>$envios</dt>\n",
              "\t\t<dd>3214</dd>\n",
              "\t<dt>$aciertos</dt>\n",
              "\t\t<dd>200</dd>\n",
              "\t<dt>$ganancia_test</dt>\n",
              "\t\t<dd>47860000</dd>\n",
              "</dl>\n",
              "</li>\n",
              "\t<li><dl>\n",
              "\t<dt>$semilla</dt>\n",
              "\t\t<dd>104149</dd>\n",
              "\t<dt>$testing</dt>\n",
              "\t\t<dd>49380</dd>\n",
              "\t<dt>$testing_pos</dt>\n",
              "\t\t<dd>374</dd>\n",
              "\t<dt>$envios</dt>\n",
              "\t\t<dd>4223</dd>\n",
              "\t<dt>$aciertos</dt>\n",
              "\t\t<dd>218</dd>\n",
              "\t<dt>$ganancia_test</dt>\n",
              "\t\t<dd>44970000</dd>\n",
              "</dl>\n",
              "</li>\n",
              "\t<li><dl>\n",
              "\t<dt>$semilla</dt>\n",
              "\t\t<dd>968959</dd>\n",
              "\t<dt>$testing</dt>\n",
              "\t\t<dd>49382</dd>\n",
              "\t<dt>$testing_pos</dt>\n",
              "\t\t<dd>379</dd>\n",
              "\t<dt>$envios</dt>\n",
              "\t\t<dd>3884</dd>\n",
              "\t<dt>$aciertos</dt>\n",
              "\t\t<dd>223</dd>\n",
              "\t<dt>$ganancia_test</dt>\n",
              "\t\t<dd>50360000</dd>\n",
              "</dl>\n",
              "</li>\n",
              "\t<li><dl>\n",
              "\t<dt>$semilla</dt>\n",
              "\t\t<dd>606961</dd>\n",
              "\t<dt>$testing</dt>\n",
              "\t\t<dd>49374</dd>\n",
              "\t<dt>$testing_pos</dt>\n",
              "\t\t<dd>375</dd>\n",
              "\t<dt>$envios</dt>\n",
              "\t\t<dd>3557</dd>\n",
              "\t<dt>$aciertos</dt>\n",
              "\t\t<dd>209</dd>\n",
              "\t<dt>$ganancia_test</dt>\n",
              "\t\t<dd>48030000</dd>\n",
              "</dl>\n",
              "</li>\n",
              "\t<li><dl>\n",
              "\t<dt>$semilla</dt>\n",
              "\t\t<dd>573691</dd>\n",
              "\t<dt>$testing</dt>\n",
              "\t\t<dd>49373</dd>\n",
              "\t<dt>$testing_pos</dt>\n",
              "\t\t<dd>374</dd>\n",
              "\t<dt>$envios</dt>\n",
              "\t\t<dd>3153</dd>\n",
              "\t<dt>$aciertos</dt>\n",
              "\t\t<dd>208</dd>\n",
              "\t<dt>$ganancia_test</dt>\n",
              "\t\t<dd>51670000</dd>\n",
              "</dl>\n",
              "</li>\n",
              "\t<li><dl>\n",
              "\t<dt>$semilla</dt>\n",
              "\t\t<dd>322073</dd>\n",
              "\t<dt>$testing</dt>\n",
              "\t\t<dd>49371</dd>\n",
              "\t<dt>$testing_pos</dt>\n",
              "\t\t<dd>371</dd>\n",
              "\t<dt>$envios</dt>\n",
              "\t\t<dd>3275</dd>\n",
              "\t<dt>$aciertos</dt>\n",
              "\t\t<dd>213</dd>\n",
              "\t<dt>$ganancia_test</dt>\n",
              "\t\t<dd>52450000</dd>\n",
              "</dl>\n",
              "</li>\n",
              "\t<li><dl>\n",
              "\t<dt>$semilla</dt>\n",
              "\t\t<dd>791003</dd>\n",
              "\t<dt>$testing</dt>\n",
              "\t\t<dd>49374</dd>\n",
              "\t<dt>$testing_pos</dt>\n",
              "\t\t<dd>374</dd>\n",
              "\t<dt>$envios</dt>\n",
              "\t\t<dd>3263</dd>\n",
              "\t<dt>$aciertos</dt>\n",
              "\t\t<dd>201</dd>\n",
              "\t<dt>$ganancia_test</dt>\n",
              "\t\t<dd>47770000</dd>\n",
              "</dl>\n",
              "</li>\n",
              "\t<li><dl>\n",
              "\t<dt>$semilla</dt>\n",
              "\t\t<dd>302299</dd>\n",
              "\t<dt>$testing</dt>\n",
              "\t\t<dd>49388</dd>\n",
              "\t<dt>$testing_pos</dt>\n",
              "\t\t<dd>377</dd>\n",
              "\t<dt>$envios</dt>\n",
              "\t\t<dd>2979</dd>\n",
              "\t<dt>$aciertos</dt>\n",
              "\t\t<dd>188</dd>\n",
              "\t<dt>$ganancia_test</dt>\n",
              "\t\t<dd>45410000</dd>\n",
              "</dl>\n",
              "</li>\n",
              "\t<li><dl>\n",
              "\t<dt>$semilla</dt>\n",
              "\t\t<dd>287333</dd>\n",
              "\t<dt>$testing</dt>\n",
              "\t\t<dd>49381</dd>\n",
              "\t<dt>$testing_pos</dt>\n",
              "\t\t<dd>377</dd>\n",
              "\t<dt>$envios</dt>\n",
              "\t\t<dd>3842</dd>\n",
              "\t<dt>$aciertos</dt>\n",
              "\t\t<dd>221</dd>\n",
              "\t<dt>$ganancia_test</dt>\n",
              "\t\t<dd>49980000</dd>\n",
              "</dl>\n",
              "</li>\n",
              "\t<li><dl>\n",
              "\t<dt>$semilla</dt>\n",
              "\t\t<dd>794473</dd>\n",
              "\t<dt>$testing</dt>\n",
              "\t\t<dd>49381</dd>\n",
              "\t<dt>$testing_pos</dt>\n",
              "\t\t<dd>380</dd>\n",
              "\t<dt>$envios</dt>\n",
              "\t\t<dd>3746</dd>\n",
              "\t<dt>$aciertos</dt>\n",
              "\t\t<dd>227</dd>\n",
              "\t<dt>$ganancia_test</dt>\n",
              "\t\t<dd>53340000</dd>\n",
              "</dl>\n",
              "</li>\n",
              "\t<li><dl>\n",
              "\t<dt>$semilla</dt>\n",
              "\t\t<dd>562129</dd>\n",
              "\t<dt>$testing</dt>\n",
              "\t\t<dd>49377</dd>\n",
              "\t<dt>$testing_pos</dt>\n",
              "\t\t<dd>371</dd>\n",
              "\t<dt>$envios</dt>\n",
              "\t\t<dd>2926</dd>\n",
              "\t<dt>$aciertos</dt>\n",
              "\t\t<dd>185</dd>\n",
              "\t<dt>$ganancia_test</dt>\n",
              "\t\t<dd>44740000</dd>\n",
              "</dl>\n",
              "</li>\n",
              "\t<li><dl>\n",
              "\t<dt>$semilla</dt>\n",
              "\t\t<dd>767677</dd>\n",
              "\t<dt>$testing</dt>\n",
              "\t\t<dd>49367</dd>\n",
              "\t<dt>$testing_pos</dt>\n",
              "\t\t<dd>372</dd>\n",
              "\t<dt>$envios</dt>\n",
              "\t\t<dd>3206</dd>\n",
              "\t<dt>$aciertos</dt>\n",
              "\t\t<dd>200</dd>\n",
              "\t<dt>$ganancia_test</dt>\n",
              "\t\t<dd>47940000</dd>\n",
              "</dl>\n",
              "</li>\n",
              "\t<li><dl>\n",
              "\t<dt>$semilla</dt>\n",
              "\t\t<dd>308923</dd>\n",
              "\t<dt>$testing</dt>\n",
              "\t\t<dd>49383</dd>\n",
              "\t<dt>$testing_pos</dt>\n",
              "\t\t<dd>375</dd>\n",
              "\t<dt>$envios</dt>\n",
              "\t\t<dd>3429</dd>\n",
              "\t<dt>$aciertos</dt>\n",
              "\t\t<dd>208</dd>\n",
              "\t<dt>$ganancia_test</dt>\n",
              "\t\t<dd>48910000</dd>\n",
              "</dl>\n",
              "</li>\n",
              "\t<li><dl>\n",
              "\t<dt>$semilla</dt>\n",
              "\t\t<dd>842249</dd>\n",
              "\t<dt>$testing</dt>\n",
              "\t\t<dd>49390</dd>\n",
              "\t<dt>$testing_pos</dt>\n",
              "\t\t<dd>378</dd>\n",
              "\t<dt>$envios</dt>\n",
              "\t\t<dd>3314</dd>\n",
              "\t<dt>$aciertos</dt>\n",
              "\t\t<dd>229</dd>\n",
              "\t<dt>$ganancia_test</dt>\n",
              "\t\t<dd>58460000</dd>\n",
              "</dl>\n",
              "</li>\n",
              "\t<li><dl>\n",
              "\t<dt>$semilla</dt>\n",
              "\t\t<dd>559231</dd>\n",
              "\t<dt>$testing</dt>\n",
              "\t\t<dd>49382</dd>\n",
              "\t<dt>$testing_pos</dt>\n",
              "\t\t<dd>376</dd>\n",
              "\t<dt>$envios</dt>\n",
              "\t\t<dd>3712</dd>\n",
              "\t<dt>$aciertos</dt>\n",
              "\t\t<dd>225</dd>\n",
              "\t<dt>$ganancia_test</dt>\n",
              "\t\t<dd>52880000</dd>\n",
              "</dl>\n",
              "</li>\n",
              "\t<li><dl>\n",
              "\t<dt>$semilla</dt>\n",
              "\t\t<dd>723727</dd>\n",
              "\t<dt>$testing</dt>\n",
              "\t\t<dd>49375</dd>\n",
              "\t<dt>$testing_pos</dt>\n",
              "\t\t<dd>374</dd>\n",
              "\t<dt>$envios</dt>\n",
              "\t\t<dd>2557</dd>\n",
              "\t<dt>$aciertos</dt>\n",
              "\t\t<dd>182</dd>\n",
              "\t<dt>$ganancia_test</dt>\n",
              "\t\t<dd>47230000</dd>\n",
              "</dl>\n",
              "</li>\n",
              "\t<li><dl>\n",
              "\t<dt>$semilla</dt>\n",
              "\t\t<dd>395803</dd>\n",
              "\t<dt>$testing</dt>\n",
              "\t\t<dd>49369</dd>\n",
              "\t<dt>$testing_pos</dt>\n",
              "\t\t<dd>372</dd>\n",
              "\t<dt>$envios</dt>\n",
              "\t\t<dd>3322</dd>\n",
              "\t<dt>$aciertos</dt>\n",
              "\t\t<dd>207</dd>\n",
              "\t<dt>$ganancia_test</dt>\n",
              "\t\t<dd>49580000</dd>\n",
              "</dl>\n",
              "</li>\n",
              "\t<li><dl>\n",
              "\t<dt>$semilla</dt>\n",
              "\t\t<dd>121661</dd>\n",
              "\t<dt>$testing</dt>\n",
              "\t\t<dd>49385</dd>\n",
              "\t<dt>$testing_pos</dt>\n",
              "\t\t<dd>374</dd>\n",
              "\t<dt>$envios</dt>\n",
              "\t\t<dd>3252</dd>\n",
              "\t<dt>$aciertos</dt>\n",
              "\t\t<dd>207</dd>\n",
              "\t<dt>$ganancia_test</dt>\n",
              "\t\t<dd>50280000</dd>\n",
              "</dl>\n",
              "</li>\n",
              "\t<li><dl>\n",
              "\t<dt>$semilla</dt>\n",
              "\t\t<dd>429899</dd>\n",
              "\t<dt>$testing</dt>\n",
              "\t\t<dd>49386</dd>\n",
              "\t<dt>$testing_pos</dt>\n",
              "\t\t<dd>373</dd>\n",
              "\t<dt>$envios</dt>\n",
              "\t\t<dd>3090</dd>\n",
              "\t<dt>$aciertos</dt>\n",
              "\t\t<dd>217</dd>\n",
              "\t<dt>$ganancia_test</dt>\n",
              "\t\t<dd>55900000</dd>\n",
              "</dl>\n",
              "</li>\n",
              "</ol>\n"
            ],
            "text/markdown": "1. $semilla\n:   915223\n$testing\n:   49385\n$testing_pos\n:   378\n$envios\n:   4630\n$aciertos\n:   239\n$ganancia_test\n:   49300000\n\n\n\n2. $semilla\n:   369119\n$testing\n:   49382\n$testing_pos\n:   377\n$envios\n:   3496\n$aciertos\n:   203\n$ganancia_test\n:   46240000\n\n\n\n3. $semilla\n:   263821\n$testing\n:   49377\n$testing_pos\n:   372\n$envios\n:   3466\n$aciertos\n:   207\n$ganancia_test\n:   48140000\n\n\n\n4. $semilla\n:   635423\n$testing\n:   49384\n$testing_pos\n:   378\n$envios\n:   3494\n$aciertos\n:   217\n$ganancia_test\n:   51860000\n\n\n\n5. $semilla\n:   892579\n$testing\n:   49379\n$testing_pos\n:   376\n$envios\n:   4525\n$aciertos\n:   245\n$ganancia_test\n:   52750000\n\n\n\n6. $semilla\n:   933601\n$testing\n:   49385\n$testing_pos\n:   377\n$envios\n:   3171\n$aciertos\n:   201\n$ganancia_test\n:   48690000\n\n\n\n7. $semilla\n:   344857\n$testing\n:   49363\n$testing_pos\n:   369\n$envios\n:   3596\n$aciertos\n:   200\n$ganancia_test\n:   44040000\n\n\n\n8. $semilla\n:   865409\n$testing\n:   49385\n$testing_pos\n:   373\n$envios\n:   3626\n$aciertos\n:   197\n$ganancia_test\n:   42540000\n\n\n\n9. $semilla\n:   285287\n$testing\n:   49378\n$testing_pos\n:   374\n$envios\n:   3096\n$aciertos\n:   202\n$ganancia_test\n:   49840000\n\n\n\n10. $semilla\n:   829537\n$testing\n:   49382\n$testing_pos\n:   378\n$envios\n:   3441\n$aciertos\n:   201\n$ganancia_test\n:   45990000\n\n\n\n11. $semilla\n:   907663\n$testing\n:   49376\n$testing_pos\n:   377\n$envios\n:   3286\n$aciertos\n:   208\n$ganancia_test\n:   50340000\n\n\n\n12. $semilla\n:   581729\n$testing\n:   49374\n$testing_pos\n:   374\n$envios\n:   3803\n$aciertos\n:   218\n$ganancia_test\n:   49170000\n\n\n\n13. $semilla\n:   130021\n$testing\n:   49380\n$testing_pos\n:   378\n$envios\n:   3085\n$aciertos\n:   195\n$ganancia_test\n:   47150000\n\n\n\n14. $semilla\n:   327517\n$testing\n:   49383\n$testing_pos\n:   381\n$envios\n:   3597\n$aciertos\n:   224\n$ganancia_test\n:   53630000\n\n\n\n15. $semilla\n:   512167\n$testing\n:   49379\n$testing_pos\n:   373\n$envios\n:   3256\n$aciertos\n:   193\n$ganancia_test\n:   44640000\n\n\n\n16. $semilla\n:   524509\n$testing\n:   49371\n$testing_pos\n:   369\n$envios\n:   3353\n$aciertos\n:   206\n$ganancia_test\n:   48870000\n\n\n\n17. $semilla\n:   394619\n$testing\n:   49371\n$testing_pos\n:   368\n$envios\n:   3521\n$aciertos\n:   196\n$ganancia_test\n:   43190000\n\n\n\n18. $semilla\n:   746209\n$testing\n:   49376\n$testing_pos\n:   373\n$envios\n:   3679\n$aciertos\n:   209\n$ganancia_test\n:   46810000\n\n\n\n19. $semilla\n:   587051\n$testing\n:   49380\n$testing_pos\n:   377\n$envios\n:   1924\n$aciertos\n:   164\n$ganancia_test\n:   46360000\n\n\n\n20. $semilla\n:   302227\n$testing\n:   49379\n$testing_pos\n:   375\n$envios\n:   3519\n$aciertos\n:   216\n$ganancia_test\n:   51210000\n\n\n\n21. $semilla\n:   476351\n$testing\n:   49374\n$testing_pos\n:   368\n$envios\n:   3168\n$aciertos\n:   184\n$ganancia_test\n:   41920000\n\n\n\n22. $semilla\n:   524507\n$testing\n:   49381\n$testing_pos\n:   376\n$envios\n:   3256\n$aciertos\n:   208\n$ganancia_test\n:   50640000\n\n\n\n23. $semilla\n:   712739\n$testing\n:   49375\n$testing_pos\n:   370\n$envios\n:   3234\n$aciertos\n:   205\n$ganancia_test\n:   49660000\n\n\n\n24. $semilla\n:   152767\n$testing\n:   49380\n$testing_pos\n:   382\n$envios\n:   3266\n$aciertos\n:   220\n$ganancia_test\n:   55340000\n\n\n\n25. $semilla\n:   955127\n$testing\n:   49383\n$testing_pos\n:   375\n$envios\n:   3495\n$aciertos\n:   210\n$ganancia_test\n:   49050000\n\n\n\n26. $semilla\n:   133213\n$testing\n:   49376\n$testing_pos\n:   373\n$envios\n:   3378\n$aciertos\n:   193\n$ganancia_test\n:   43420000\n\n\n\n27. $semilla\n:   505097\n$testing\n:   49370\n$testing_pos\n:   371\n$envios\n:   2993\n$aciertos\n:   202\n$ganancia_test\n:   50870000\n\n\n\n28. $semilla\n:   185063\n$testing\n:   49362\n$testing_pos\n:   375\n$envios\n:   3568\n$aciertos\n:   206\n$ganancia_test\n:   46720000\n\n\n\n29. $semilla\n:   519989\n$testing\n:   49372\n$testing_pos\n:   370\n$envios\n:   3673\n$aciertos\n:   217\n$ganancia_test\n:   50070000\n\n\n\n30. $semilla\n:   647161\n$testing\n:   49376\n$testing_pos\n:   378\n$envios\n:   3152\n$aciertos\n:   202\n$ganancia_test\n:   49280000\n\n\n\n31. $semilla\n:   118373\n$testing\n:   49385\n$testing_pos\n:   382\n$envios\n:   3934\n$aciertos\n:   219\n$ganancia_test\n:   48260000\n\n\n\n32. $semilla\n:   687163\n$testing\n:   49376\n$testing_pos\n:   371\n$envios\n:   3440\n$aciertos\n:   216\n$ganancia_test\n:   5.2e+07\n\n\n\n33. $semilla\n:   683899\n$testing\n:   49379\n$testing_pos\n:   373\n$envios\n:   3718\n$aciertos\n:   207\n$ganancia_test\n:   45620000\n\n\n\n34. $semilla\n:   895309\n$testing\n:   49374\n$testing_pos\n:   373\n$envios\n:   3691\n$aciertos\n:   213\n$ganancia_test\n:   48290000\n\n\n\n35. $semilla\n:   186671\n$testing\n:   49378\n$testing_pos\n:   368\n$envios\n:   3432\n$aciertos\n:   201\n$ganancia_test\n:   46080000\n\n\n\n36. $semilla\n:   712427\n$testing\n:   49380\n$testing_pos\n:   377\n$envios\n:   4270\n$aciertos\n:   222\n$ganancia_test\n:   46100000\n\n\n\n37. $semilla\n:   346601\n$testing\n:   49373\n$testing_pos\n:   375\n$envios\n:   2885\n$aciertos\n:   183\n$ganancia_test\n:   44350000\n\n\n\n38. $semilla\n:   357593\n$testing\n:   49385\n$testing_pos\n:   376\n$envios\n:   3217\n$aciertos\n:   210\n$ganancia_test\n:   51830000\n\n\n\n39. $semilla\n:   364027\n$testing\n:   49385\n$testing_pos\n:   377\n$envios\n:   2866\n$aciertos\n:   181\n$ganancia_test\n:   43740000\n\n\n\n40. $semilla\n:   480569\n$testing\n:   49385\n$testing_pos\n:   382\n$envios\n:   3598\n$aciertos\n:   195\n$ganancia_test\n:   42020000\n\n\n\n41. $semilla\n:   713467\n$testing\n:   49370\n$testing_pos\n:   368\n$envios\n:   3819\n$aciertos\n:   221\n$ganancia_test\n:   50210000\n\n\n\n42. $semilla\n:   204563\n$testing\n:   49385\n$testing_pos\n:   374\n$envios\n:   3739\n$aciertos\n:   208\n$ganancia_test\n:   45810000\n\n\n\n43. $semilla\n:   301669\n$testing\n:   49372\n$testing_pos\n:   375\n$envios\n:   3048\n$aciertos\n:   213\n$ganancia_test\n:   54720000\n\n\n\n44. $semilla\n:   615151\n$testing\n:   49371\n$testing_pos\n:   375\n$envios\n:   3375\n$aciertos\n:   176\n$ganancia_test\n:   36650000\n\n\n\n45. $semilla\n:   844523\n$testing\n:   49375\n$testing_pos\n:   371\n$envios\n:   3544\n$aciertos\n:   206\n$ganancia_test\n:   46960000\n\n\n\n46. $semilla\n:   936769\n$testing\n:   49377\n$testing_pos\n:   372\n$envios\n:   3178\n$aciertos\n:   194\n$ganancia_test\n:   45820000\n\n\n\n47. $semilla\n:   579587\n$testing\n:   49384\n$testing_pos\n:   370\n$envios\n:   3679\n$aciertos\n:   211\n$ganancia_test\n:   47610000\n\n\n\n48. $semilla\n:   182473\n$testing\n:   49370\n$testing_pos\n:   372\n$envios\n:   3252\n$aciertos\n:   198\n$ganancia_test\n:   46680000\n\n\n\n49. $semilla\n:   681727\n$testing\n:   49391\n$testing_pos\n:   380\n$envios\n:   3678\n$aciertos\n:   210\n$ganancia_test\n:   47220000\n\n\n\n50. $semilla\n:   400927\n$testing\n:   49380\n$testing_pos\n:   374\n$envios\n:   3434\n$aciertos\n:   217\n$ganancia_test\n:   52460000\n\n\n\n51. $semilla\n:   873469\n$testing\n:   49370\n$testing_pos\n:   372\n$envios\n:   3226\n$aciertos\n:   201\n$ganancia_test\n:   48140000\n\n\n\n52. $semilla\n:   799993\n$testing\n:   49375\n$testing_pos\n:   374\n$envios\n:   3244\n$aciertos\n:   200\n$ganancia_test\n:   47560000\n\n\n\n53. $semilla\n:   644563\n$testing\n:   49366\n$testing_pos\n:   371\n$envios\n:   3182\n$aciertos\n:   209\n$ganancia_test\n:   51780000\n\n\n\n54. $semilla\n:   964693\n$testing\n:   49381\n$testing_pos\n:   376\n$envios\n:   3713\n$aciertos\n:   210\n$ganancia_test\n:   46870000\n\n\n\n55. $semilla\n:   744559\n$testing\n:   49369\n$testing_pos\n:   368\n$envios\n:   4155\n$aciertos\n:   222\n$ganancia_test\n:   47250000\n\n\n\n56. $semilla\n:   747259\n$testing\n:   49380\n$testing_pos\n:   376\n$envios\n:   3951\n$aciertos\n:   223\n$ganancia_test\n:   49690000\n\n\n\n57. $semilla\n:   165883\n$testing\n:   49376\n$testing_pos\n:   376\n$envios\n:   3304\n$aciertos\n:   194\n$ganancia_test\n:   44560000\n\n\n\n58. $semilla\n:   353653\n$testing\n:   49376\n$testing_pos\n:   374\n$envios\n:   3393\n$aciertos\n:   208\n$ganancia_test\n:   49270000\n\n\n\n59. $semilla\n:   919063\n$testing\n:   49364\n$testing_pos\n:   375\n$envios\n:   3335\n$aciertos\n:   206\n$ganancia_test\n:   49050000\n\n\n\n60. $semilla\n:   310901\n$testing\n:   49380\n$testing_pos\n:   373\n$envios\n:   3477\n$aciertos\n:   215\n$ganancia_test\n:   51230000\n\n\n\n61. $semilla\n:   417217\n$testing\n:   49376\n$testing_pos\n:   375\n$envios\n:   4817\n$aciertos\n:   246\n$ganancia_test\n:   50230000\n\n\n\n62. $semilla\n:   259159\n$testing\n:   49384\n$testing_pos\n:   370\n$envios\n:   3903\n$aciertos\n:   206\n$ganancia_test\n:   43370000\n\n\n\n63. $semilla\n:   767309\n$testing\n:   49369\n$testing_pos\n:   372\n$envios\n:   3198\n$aciertos\n:   196\n$ganancia_test\n:   46420000\n\n\n\n64. $semilla\n:   327347\n$testing\n:   49376\n$testing_pos\n:   375\n$envios\n:   2764\n$aciertos\n:   204\n$ganancia_test\n:   53960000\n\n\n\n65. $semilla\n:   634703\n$testing\n:   49377\n$testing_pos\n:   373\n$envios\n:   3551\n$aciertos\n:   201\n$ganancia_test\n:   44890000\n\n\n\n66. $semilla\n:   445567\n$testing\n:   49375\n$testing_pos\n:   378\n$envios\n:   3624\n$aciertos\n:   217\n$ganancia_test\n:   50560000\n\n\n\n67. $semilla\n:   280589\n$testing\n:   49384\n$testing_pos\n:   378\n$envios\n:   2968\n$aciertos\n:   197\n$ganancia_test\n:   49120000\n\n\n\n68. $semilla\n:   560237\n$testing\n:   49374\n$testing_pos\n:   369\n$envios\n:   3530\n$aciertos\n:   209\n$ganancia_test\n:   48300000\n\n\n\n69. $semilla\n:   144751\n$testing\n:   49373\n$testing_pos\n:   369\n$envios\n:   3836\n$aciertos\n:   205\n$ganancia_test\n:   43640000\n\n\n\n70. $semilla\n:   906007\n$testing\n:   49381\n$testing_pos\n:   383\n$envios\n:   4011\n$aciertos\n:   235\n$ganancia_test\n:   53890000\n\n\n\n71. $semilla\n:   192817\n$testing\n:   49376\n$testing_pos\n:   379\n$envios\n:   2598\n$aciertos\n:   190\n$ganancia_test\n:   50020000\n\n\n\n72. $semilla\n:   529939\n$testing\n:   49383\n$testing_pos\n:   371\n$envios\n:   3852\n$aciertos\n:   218\n$ganancia_test\n:   48680000\n\n\n\n73. $semilla\n:   239357\n$testing\n:   49381\n$testing_pos\n:   375\n$envios\n:   3227\n$aciertos\n:   191\n$ganancia_test\n:   44130000\n\n\n\n74. $semilla\n:   473987\n$testing\n:   49378\n$testing_pos\n:   377\n$envios\n:   2686\n$aciertos\n:   196\n$ganancia_test\n:   51540000\n\n\n\n75. $semilla\n:   268921\n$testing\n:   49389\n$testing_pos\n:   374\n$envios\n:   3905\n$aciertos\n:   224\n$ganancia_test\n:   50550000\n\n\n\n76. $semilla\n:   616003\n$testing\n:   49373\n$testing_pos\n:   368\n$envios\n:   4023\n$aciertos\n:   211\n$ganancia_test\n:   44170000\n\n\n\n77. $semilla\n:   272423\n$testing\n:   49379\n$testing_pos\n:   373\n$envios\n:   2803\n$aciertos\n:   196\n$ganancia_test\n:   50370000\n\n\n\n78. $semilla\n:   830789\n$testing\n:   49383\n$testing_pos\n:   375\n$envios\n:   3654\n$aciertos\n:   211\n$ganancia_test\n:   47860000\n\n\n\n79. $semilla\n:   460903\n$testing\n:   49388\n$testing_pos\n:   379\n$envios\n:   4554\n$aciertos\n:   243\n$ganancia_test\n:   51660000\n\n\n\n80. $semilla\n:   122741\n$testing\n:   49376\n$testing_pos\n:   374\n$envios\n:   3798\n$aciertos\n:   204\n$ganancia_test\n:   43620000\n\n\n\n81. $semilla\n:   557093\n$testing\n:   49369\n$testing_pos\n:   378\n$envios\n:   2999\n$aciertos\n:   180\n$ganancia_test\n:   42010000\n\n\n\n82. $semilla\n:   171761\n$testing\n:   49377\n$testing_pos\n:   375\n$envios\n:   3214\n$aciertos\n:   200\n$ganancia_test\n:   47860000\n\n\n\n83. $semilla\n:   104149\n$testing\n:   49380\n$testing_pos\n:   374\n$envios\n:   4223\n$aciertos\n:   218\n$ganancia_test\n:   44970000\n\n\n\n84. $semilla\n:   968959\n$testing\n:   49382\n$testing_pos\n:   379\n$envios\n:   3884\n$aciertos\n:   223\n$ganancia_test\n:   50360000\n\n\n\n85. $semilla\n:   606961\n$testing\n:   49374\n$testing_pos\n:   375\n$envios\n:   3557\n$aciertos\n:   209\n$ganancia_test\n:   48030000\n\n\n\n86. $semilla\n:   573691\n$testing\n:   49373\n$testing_pos\n:   374\n$envios\n:   3153\n$aciertos\n:   208\n$ganancia_test\n:   51670000\n\n\n\n87. $semilla\n:   322073\n$testing\n:   49371\n$testing_pos\n:   371\n$envios\n:   3275\n$aciertos\n:   213\n$ganancia_test\n:   52450000\n\n\n\n88. $semilla\n:   791003\n$testing\n:   49374\n$testing_pos\n:   374\n$envios\n:   3263\n$aciertos\n:   201\n$ganancia_test\n:   47770000\n\n\n\n89. $semilla\n:   302299\n$testing\n:   49388\n$testing_pos\n:   377\n$envios\n:   2979\n$aciertos\n:   188\n$ganancia_test\n:   45410000\n\n\n\n90. $semilla\n:   287333\n$testing\n:   49381\n$testing_pos\n:   377\n$envios\n:   3842\n$aciertos\n:   221\n$ganancia_test\n:   49980000\n\n\n\n91. $semilla\n:   794473\n$testing\n:   49381\n$testing_pos\n:   380\n$envios\n:   3746\n$aciertos\n:   227\n$ganancia_test\n:   53340000\n\n\n\n92. $semilla\n:   562129\n$testing\n:   49377\n$testing_pos\n:   371\n$envios\n:   2926\n$aciertos\n:   185\n$ganancia_test\n:   44740000\n\n\n\n93. $semilla\n:   767677\n$testing\n:   49367\n$testing_pos\n:   372\n$envios\n:   3206\n$aciertos\n:   200\n$ganancia_test\n:   47940000\n\n\n\n94. $semilla\n:   308923\n$testing\n:   49383\n$testing_pos\n:   375\n$envios\n:   3429\n$aciertos\n:   208\n$ganancia_test\n:   48910000\n\n\n\n95. $semilla\n:   842249\n$testing\n:   49390\n$testing_pos\n:   378\n$envios\n:   3314\n$aciertos\n:   229\n$ganancia_test\n:   58460000\n\n\n\n96. $semilla\n:   559231\n$testing\n:   49382\n$testing_pos\n:   376\n$envios\n:   3712\n$aciertos\n:   225\n$ganancia_test\n:   52880000\n\n\n\n97. $semilla\n:   723727\n$testing\n:   49375\n$testing_pos\n:   374\n$envios\n:   2557\n$aciertos\n:   182\n$ganancia_test\n:   47230000\n\n\n\n98. $semilla\n:   395803\n$testing\n:   49369\n$testing_pos\n:   372\n$envios\n:   3322\n$aciertos\n:   207\n$ganancia_test\n:   49580000\n\n\n\n99. $semilla\n:   121661\n$testing\n:   49385\n$testing_pos\n:   374\n$envios\n:   3252\n$aciertos\n:   207\n$ganancia_test\n:   50280000\n\n\n\n100. $semilla\n:   429899\n$testing\n:   49386\n$testing_pos\n:   373\n$envios\n:   3090\n$aciertos\n:   217\n$ganancia_test\n:   55900000\n\n\n\n\n\n",
            "text/latex": "\\begin{enumerate}\n\\item \\begin{description}\n\\item[\\$semilla] 915223\n\\item[\\$testing] 49385\n\\item[\\$testing\\_pos] 378\n\\item[\\$envios] 4630\n\\item[\\$aciertos] 239\n\\item[\\$ganancia\\_test] 49300000\n\\end{description}\n\n\\item \\begin{description}\n\\item[\\$semilla] 369119\n\\item[\\$testing] 49382\n\\item[\\$testing\\_pos] 377\n\\item[\\$envios] 3496\n\\item[\\$aciertos] 203\n\\item[\\$ganancia\\_test] 46240000\n\\end{description}\n\n\\item \\begin{description}\n\\item[\\$semilla] 263821\n\\item[\\$testing] 49377\n\\item[\\$testing\\_pos] 372\n\\item[\\$envios] 3466\n\\item[\\$aciertos] 207\n\\item[\\$ganancia\\_test] 48140000\n\\end{description}\n\n\\item \\begin{description}\n\\item[\\$semilla] 635423\n\\item[\\$testing] 49384\n\\item[\\$testing\\_pos] 378\n\\item[\\$envios] 3494\n\\item[\\$aciertos] 217\n\\item[\\$ganancia\\_test] 51860000\n\\end{description}\n\n\\item \\begin{description}\n\\item[\\$semilla] 892579\n\\item[\\$testing] 49379\n\\item[\\$testing\\_pos] 376\n\\item[\\$envios] 4525\n\\item[\\$aciertos] 245\n\\item[\\$ganancia\\_test] 52750000\n\\end{description}\n\n\\item \\begin{description}\n\\item[\\$semilla] 933601\n\\item[\\$testing] 49385\n\\item[\\$testing\\_pos] 377\n\\item[\\$envios] 3171\n\\item[\\$aciertos] 201\n\\item[\\$ganancia\\_test] 48690000\n\\end{description}\n\n\\item \\begin{description}\n\\item[\\$semilla] 344857\n\\item[\\$testing] 49363\n\\item[\\$testing\\_pos] 369\n\\item[\\$envios] 3596\n\\item[\\$aciertos] 200\n\\item[\\$ganancia\\_test] 44040000\n\\end{description}\n\n\\item \\begin{description}\n\\item[\\$semilla] 865409\n\\item[\\$testing] 49385\n\\item[\\$testing\\_pos] 373\n\\item[\\$envios] 3626\n\\item[\\$aciertos] 197\n\\item[\\$ganancia\\_test] 42540000\n\\end{description}\n\n\\item \\begin{description}\n\\item[\\$semilla] 285287\n\\item[\\$testing] 49378\n\\item[\\$testing\\_pos] 374\n\\item[\\$envios] 3096\n\\item[\\$aciertos] 202\n\\item[\\$ganancia\\_test] 49840000\n\\end{description}\n\n\\item \\begin{description}\n\\item[\\$semilla] 829537\n\\item[\\$testing] 49382\n\\item[\\$testing\\_pos] 378\n\\item[\\$envios] 3441\n\\item[\\$aciertos] 201\n\\item[\\$ganancia\\_test] 45990000\n\\end{description}\n\n\\item \\begin{description}\n\\item[\\$semilla] 907663\n\\item[\\$testing] 49376\n\\item[\\$testing\\_pos] 377\n\\item[\\$envios] 3286\n\\item[\\$aciertos] 208\n\\item[\\$ganancia\\_test] 50340000\n\\end{description}\n\n\\item \\begin{description}\n\\item[\\$semilla] 581729\n\\item[\\$testing] 49374\n\\item[\\$testing\\_pos] 374\n\\item[\\$envios] 3803\n\\item[\\$aciertos] 218\n\\item[\\$ganancia\\_test] 49170000\n\\end{description}\n\n\\item \\begin{description}\n\\item[\\$semilla] 130021\n\\item[\\$testing] 49380\n\\item[\\$testing\\_pos] 378\n\\item[\\$envios] 3085\n\\item[\\$aciertos] 195\n\\item[\\$ganancia\\_test] 47150000\n\\end{description}\n\n\\item \\begin{description}\n\\item[\\$semilla] 327517\n\\item[\\$testing] 49383\n\\item[\\$testing\\_pos] 381\n\\item[\\$envios] 3597\n\\item[\\$aciertos] 224\n\\item[\\$ganancia\\_test] 53630000\n\\end{description}\n\n\\item \\begin{description}\n\\item[\\$semilla] 512167\n\\item[\\$testing] 49379\n\\item[\\$testing\\_pos] 373\n\\item[\\$envios] 3256\n\\item[\\$aciertos] 193\n\\item[\\$ganancia\\_test] 44640000\n\\end{description}\n\n\\item \\begin{description}\n\\item[\\$semilla] 524509\n\\item[\\$testing] 49371\n\\item[\\$testing\\_pos] 369\n\\item[\\$envios] 3353\n\\item[\\$aciertos] 206\n\\item[\\$ganancia\\_test] 48870000\n\\end{description}\n\n\\item \\begin{description}\n\\item[\\$semilla] 394619\n\\item[\\$testing] 49371\n\\item[\\$testing\\_pos] 368\n\\item[\\$envios] 3521\n\\item[\\$aciertos] 196\n\\item[\\$ganancia\\_test] 43190000\n\\end{description}\n\n\\item \\begin{description}\n\\item[\\$semilla] 746209\n\\item[\\$testing] 49376\n\\item[\\$testing\\_pos] 373\n\\item[\\$envios] 3679\n\\item[\\$aciertos] 209\n\\item[\\$ganancia\\_test] 46810000\n\\end{description}\n\n\\item \\begin{description}\n\\item[\\$semilla] 587051\n\\item[\\$testing] 49380\n\\item[\\$testing\\_pos] 377\n\\item[\\$envios] 1924\n\\item[\\$aciertos] 164\n\\item[\\$ganancia\\_test] 46360000\n\\end{description}\n\n\\item \\begin{description}\n\\item[\\$semilla] 302227\n\\item[\\$testing] 49379\n\\item[\\$testing\\_pos] 375\n\\item[\\$envios] 3519\n\\item[\\$aciertos] 216\n\\item[\\$ganancia\\_test] 51210000\n\\end{description}\n\n\\item \\begin{description}\n\\item[\\$semilla] 476351\n\\item[\\$testing] 49374\n\\item[\\$testing\\_pos] 368\n\\item[\\$envios] 3168\n\\item[\\$aciertos] 184\n\\item[\\$ganancia\\_test] 41920000\n\\end{description}\n\n\\item \\begin{description}\n\\item[\\$semilla] 524507\n\\item[\\$testing] 49381\n\\item[\\$testing\\_pos] 376\n\\item[\\$envios] 3256\n\\item[\\$aciertos] 208\n\\item[\\$ganancia\\_test] 50640000\n\\end{description}\n\n\\item \\begin{description}\n\\item[\\$semilla] 712739\n\\item[\\$testing] 49375\n\\item[\\$testing\\_pos] 370\n\\item[\\$envios] 3234\n\\item[\\$aciertos] 205\n\\item[\\$ganancia\\_test] 49660000\n\\end{description}\n\n\\item \\begin{description}\n\\item[\\$semilla] 152767\n\\item[\\$testing] 49380\n\\item[\\$testing\\_pos] 382\n\\item[\\$envios] 3266\n\\item[\\$aciertos] 220\n\\item[\\$ganancia\\_test] 55340000\n\\end{description}\n\n\\item \\begin{description}\n\\item[\\$semilla] 955127\n\\item[\\$testing] 49383\n\\item[\\$testing\\_pos] 375\n\\item[\\$envios] 3495\n\\item[\\$aciertos] 210\n\\item[\\$ganancia\\_test] 49050000\n\\end{description}\n\n\\item \\begin{description}\n\\item[\\$semilla] 133213\n\\item[\\$testing] 49376\n\\item[\\$testing\\_pos] 373\n\\item[\\$envios] 3378\n\\item[\\$aciertos] 193\n\\item[\\$ganancia\\_test] 43420000\n\\end{description}\n\n\\item \\begin{description}\n\\item[\\$semilla] 505097\n\\item[\\$testing] 49370\n\\item[\\$testing\\_pos] 371\n\\item[\\$envios] 2993\n\\item[\\$aciertos] 202\n\\item[\\$ganancia\\_test] 50870000\n\\end{description}\n\n\\item \\begin{description}\n\\item[\\$semilla] 185063\n\\item[\\$testing] 49362\n\\item[\\$testing\\_pos] 375\n\\item[\\$envios] 3568\n\\item[\\$aciertos] 206\n\\item[\\$ganancia\\_test] 46720000\n\\end{description}\n\n\\item \\begin{description}\n\\item[\\$semilla] 519989\n\\item[\\$testing] 49372\n\\item[\\$testing\\_pos] 370\n\\item[\\$envios] 3673\n\\item[\\$aciertos] 217\n\\item[\\$ganancia\\_test] 50070000\n\\end{description}\n\n\\item \\begin{description}\n\\item[\\$semilla] 647161\n\\item[\\$testing] 49376\n\\item[\\$testing\\_pos] 378\n\\item[\\$envios] 3152\n\\item[\\$aciertos] 202\n\\item[\\$ganancia\\_test] 49280000\n\\end{description}\n\n\\item \\begin{description}\n\\item[\\$semilla] 118373\n\\item[\\$testing] 49385\n\\item[\\$testing\\_pos] 382\n\\item[\\$envios] 3934\n\\item[\\$aciertos] 219\n\\item[\\$ganancia\\_test] 48260000\n\\end{description}\n\n\\item \\begin{description}\n\\item[\\$semilla] 687163\n\\item[\\$testing] 49376\n\\item[\\$testing\\_pos] 371\n\\item[\\$envios] 3440\n\\item[\\$aciertos] 216\n\\item[\\$ganancia\\_test] 5.2e+07\n\\end{description}\n\n\\item \\begin{description}\n\\item[\\$semilla] 683899\n\\item[\\$testing] 49379\n\\item[\\$testing\\_pos] 373\n\\item[\\$envios] 3718\n\\item[\\$aciertos] 207\n\\item[\\$ganancia\\_test] 45620000\n\\end{description}\n\n\\item \\begin{description}\n\\item[\\$semilla] 895309\n\\item[\\$testing] 49374\n\\item[\\$testing\\_pos] 373\n\\item[\\$envios] 3691\n\\item[\\$aciertos] 213\n\\item[\\$ganancia\\_test] 48290000\n\\end{description}\n\n\\item \\begin{description}\n\\item[\\$semilla] 186671\n\\item[\\$testing] 49378\n\\item[\\$testing\\_pos] 368\n\\item[\\$envios] 3432\n\\item[\\$aciertos] 201\n\\item[\\$ganancia\\_test] 46080000\n\\end{description}\n\n\\item \\begin{description}\n\\item[\\$semilla] 712427\n\\item[\\$testing] 49380\n\\item[\\$testing\\_pos] 377\n\\item[\\$envios] 4270\n\\item[\\$aciertos] 222\n\\item[\\$ganancia\\_test] 46100000\n\\end{description}\n\n\\item \\begin{description}\n\\item[\\$semilla] 346601\n\\item[\\$testing] 49373\n\\item[\\$testing\\_pos] 375\n\\item[\\$envios] 2885\n\\item[\\$aciertos] 183\n\\item[\\$ganancia\\_test] 44350000\n\\end{description}\n\n\\item \\begin{description}\n\\item[\\$semilla] 357593\n\\item[\\$testing] 49385\n\\item[\\$testing\\_pos] 376\n\\item[\\$envios] 3217\n\\item[\\$aciertos] 210\n\\item[\\$ganancia\\_test] 51830000\n\\end{description}\n\n\\item \\begin{description}\n\\item[\\$semilla] 364027\n\\item[\\$testing] 49385\n\\item[\\$testing\\_pos] 377\n\\item[\\$envios] 2866\n\\item[\\$aciertos] 181\n\\item[\\$ganancia\\_test] 43740000\n\\end{description}\n\n\\item \\begin{description}\n\\item[\\$semilla] 480569\n\\item[\\$testing] 49385\n\\item[\\$testing\\_pos] 382\n\\item[\\$envios] 3598\n\\item[\\$aciertos] 195\n\\item[\\$ganancia\\_test] 42020000\n\\end{description}\n\n\\item \\begin{description}\n\\item[\\$semilla] 713467\n\\item[\\$testing] 49370\n\\item[\\$testing\\_pos] 368\n\\item[\\$envios] 3819\n\\item[\\$aciertos] 221\n\\item[\\$ganancia\\_test] 50210000\n\\end{description}\n\n\\item \\begin{description}\n\\item[\\$semilla] 204563\n\\item[\\$testing] 49385\n\\item[\\$testing\\_pos] 374\n\\item[\\$envios] 3739\n\\item[\\$aciertos] 208\n\\item[\\$ganancia\\_test] 45810000\n\\end{description}\n\n\\item \\begin{description}\n\\item[\\$semilla] 301669\n\\item[\\$testing] 49372\n\\item[\\$testing\\_pos] 375\n\\item[\\$envios] 3048\n\\item[\\$aciertos] 213\n\\item[\\$ganancia\\_test] 54720000\n\\end{description}\n\n\\item \\begin{description}\n\\item[\\$semilla] 615151\n\\item[\\$testing] 49371\n\\item[\\$testing\\_pos] 375\n\\item[\\$envios] 3375\n\\item[\\$aciertos] 176\n\\item[\\$ganancia\\_test] 36650000\n\\end{description}\n\n\\item \\begin{description}\n\\item[\\$semilla] 844523\n\\item[\\$testing] 49375\n\\item[\\$testing\\_pos] 371\n\\item[\\$envios] 3544\n\\item[\\$aciertos] 206\n\\item[\\$ganancia\\_test] 46960000\n\\end{description}\n\n\\item \\begin{description}\n\\item[\\$semilla] 936769\n\\item[\\$testing] 49377\n\\item[\\$testing\\_pos] 372\n\\item[\\$envios] 3178\n\\item[\\$aciertos] 194\n\\item[\\$ganancia\\_test] 45820000\n\\end{description}\n\n\\item \\begin{description}\n\\item[\\$semilla] 579587\n\\item[\\$testing] 49384\n\\item[\\$testing\\_pos] 370\n\\item[\\$envios] 3679\n\\item[\\$aciertos] 211\n\\item[\\$ganancia\\_test] 47610000\n\\end{description}\n\n\\item \\begin{description}\n\\item[\\$semilla] 182473\n\\item[\\$testing] 49370\n\\item[\\$testing\\_pos] 372\n\\item[\\$envios] 3252\n\\item[\\$aciertos] 198\n\\item[\\$ganancia\\_test] 46680000\n\\end{description}\n\n\\item \\begin{description}\n\\item[\\$semilla] 681727\n\\item[\\$testing] 49391\n\\item[\\$testing\\_pos] 380\n\\item[\\$envios] 3678\n\\item[\\$aciertos] 210\n\\item[\\$ganancia\\_test] 47220000\n\\end{description}\n\n\\item \\begin{description}\n\\item[\\$semilla] 400927\n\\item[\\$testing] 49380\n\\item[\\$testing\\_pos] 374\n\\item[\\$envios] 3434\n\\item[\\$aciertos] 217\n\\item[\\$ganancia\\_test] 52460000\n\\end{description}\n\n\\item \\begin{description}\n\\item[\\$semilla] 873469\n\\item[\\$testing] 49370\n\\item[\\$testing\\_pos] 372\n\\item[\\$envios] 3226\n\\item[\\$aciertos] 201\n\\item[\\$ganancia\\_test] 48140000\n\\end{description}\n\n\\item \\begin{description}\n\\item[\\$semilla] 799993\n\\item[\\$testing] 49375\n\\item[\\$testing\\_pos] 374\n\\item[\\$envios] 3244\n\\item[\\$aciertos] 200\n\\item[\\$ganancia\\_test] 47560000\n\\end{description}\n\n\\item \\begin{description}\n\\item[\\$semilla] 644563\n\\item[\\$testing] 49366\n\\item[\\$testing\\_pos] 371\n\\item[\\$envios] 3182\n\\item[\\$aciertos] 209\n\\item[\\$ganancia\\_test] 51780000\n\\end{description}\n\n\\item \\begin{description}\n\\item[\\$semilla] 964693\n\\item[\\$testing] 49381\n\\item[\\$testing\\_pos] 376\n\\item[\\$envios] 3713\n\\item[\\$aciertos] 210\n\\item[\\$ganancia\\_test] 46870000\n\\end{description}\n\n\\item \\begin{description}\n\\item[\\$semilla] 744559\n\\item[\\$testing] 49369\n\\item[\\$testing\\_pos] 368\n\\item[\\$envios] 4155\n\\item[\\$aciertos] 222\n\\item[\\$ganancia\\_test] 47250000\n\\end{description}\n\n\\item \\begin{description}\n\\item[\\$semilla] 747259\n\\item[\\$testing] 49380\n\\item[\\$testing\\_pos] 376\n\\item[\\$envios] 3951\n\\item[\\$aciertos] 223\n\\item[\\$ganancia\\_test] 49690000\n\\end{description}\n\n\\item \\begin{description}\n\\item[\\$semilla] 165883\n\\item[\\$testing] 49376\n\\item[\\$testing\\_pos] 376\n\\item[\\$envios] 3304\n\\item[\\$aciertos] 194\n\\item[\\$ganancia\\_test] 44560000\n\\end{description}\n\n\\item \\begin{description}\n\\item[\\$semilla] 353653\n\\item[\\$testing] 49376\n\\item[\\$testing\\_pos] 374\n\\item[\\$envios] 3393\n\\item[\\$aciertos] 208\n\\item[\\$ganancia\\_test] 49270000\n\\end{description}\n\n\\item \\begin{description}\n\\item[\\$semilla] 919063\n\\item[\\$testing] 49364\n\\item[\\$testing\\_pos] 375\n\\item[\\$envios] 3335\n\\item[\\$aciertos] 206\n\\item[\\$ganancia\\_test] 49050000\n\\end{description}\n\n\\item \\begin{description}\n\\item[\\$semilla] 310901\n\\item[\\$testing] 49380\n\\item[\\$testing\\_pos] 373\n\\item[\\$envios] 3477\n\\item[\\$aciertos] 215\n\\item[\\$ganancia\\_test] 51230000\n\\end{description}\n\n\\item \\begin{description}\n\\item[\\$semilla] 417217\n\\item[\\$testing] 49376\n\\item[\\$testing\\_pos] 375\n\\item[\\$envios] 4817\n\\item[\\$aciertos] 246\n\\item[\\$ganancia\\_test] 50230000\n\\end{description}\n\n\\item \\begin{description}\n\\item[\\$semilla] 259159\n\\item[\\$testing] 49384\n\\item[\\$testing\\_pos] 370\n\\item[\\$envios] 3903\n\\item[\\$aciertos] 206\n\\item[\\$ganancia\\_test] 43370000\n\\end{description}\n\n\\item \\begin{description}\n\\item[\\$semilla] 767309\n\\item[\\$testing] 49369\n\\item[\\$testing\\_pos] 372\n\\item[\\$envios] 3198\n\\item[\\$aciertos] 196\n\\item[\\$ganancia\\_test] 46420000\n\\end{description}\n\n\\item \\begin{description}\n\\item[\\$semilla] 327347\n\\item[\\$testing] 49376\n\\item[\\$testing\\_pos] 375\n\\item[\\$envios] 2764\n\\item[\\$aciertos] 204\n\\item[\\$ganancia\\_test] 53960000\n\\end{description}\n\n\\item \\begin{description}\n\\item[\\$semilla] 634703\n\\item[\\$testing] 49377\n\\item[\\$testing\\_pos] 373\n\\item[\\$envios] 3551\n\\item[\\$aciertos] 201\n\\item[\\$ganancia\\_test] 44890000\n\\end{description}\n\n\\item \\begin{description}\n\\item[\\$semilla] 445567\n\\item[\\$testing] 49375\n\\item[\\$testing\\_pos] 378\n\\item[\\$envios] 3624\n\\item[\\$aciertos] 217\n\\item[\\$ganancia\\_test] 50560000\n\\end{description}\n\n\\item \\begin{description}\n\\item[\\$semilla] 280589\n\\item[\\$testing] 49384\n\\item[\\$testing\\_pos] 378\n\\item[\\$envios] 2968\n\\item[\\$aciertos] 197\n\\item[\\$ganancia\\_test] 49120000\n\\end{description}\n\n\\item \\begin{description}\n\\item[\\$semilla] 560237\n\\item[\\$testing] 49374\n\\item[\\$testing\\_pos] 369\n\\item[\\$envios] 3530\n\\item[\\$aciertos] 209\n\\item[\\$ganancia\\_test] 48300000\n\\end{description}\n\n\\item \\begin{description}\n\\item[\\$semilla] 144751\n\\item[\\$testing] 49373\n\\item[\\$testing\\_pos] 369\n\\item[\\$envios] 3836\n\\item[\\$aciertos] 205\n\\item[\\$ganancia\\_test] 43640000\n\\end{description}\n\n\\item \\begin{description}\n\\item[\\$semilla] 906007\n\\item[\\$testing] 49381\n\\item[\\$testing\\_pos] 383\n\\item[\\$envios] 4011\n\\item[\\$aciertos] 235\n\\item[\\$ganancia\\_test] 53890000\n\\end{description}\n\n\\item \\begin{description}\n\\item[\\$semilla] 192817\n\\item[\\$testing] 49376\n\\item[\\$testing\\_pos] 379\n\\item[\\$envios] 2598\n\\item[\\$aciertos] 190\n\\item[\\$ganancia\\_test] 50020000\n\\end{description}\n\n\\item \\begin{description}\n\\item[\\$semilla] 529939\n\\item[\\$testing] 49383\n\\item[\\$testing\\_pos] 371\n\\item[\\$envios] 3852\n\\item[\\$aciertos] 218\n\\item[\\$ganancia\\_test] 48680000\n\\end{description}\n\n\\item \\begin{description}\n\\item[\\$semilla] 239357\n\\item[\\$testing] 49381\n\\item[\\$testing\\_pos] 375\n\\item[\\$envios] 3227\n\\item[\\$aciertos] 191\n\\item[\\$ganancia\\_test] 44130000\n\\end{description}\n\n\\item \\begin{description}\n\\item[\\$semilla] 473987\n\\item[\\$testing] 49378\n\\item[\\$testing\\_pos] 377\n\\item[\\$envios] 2686\n\\item[\\$aciertos] 196\n\\item[\\$ganancia\\_test] 51540000\n\\end{description}\n\n\\item \\begin{description}\n\\item[\\$semilla] 268921\n\\item[\\$testing] 49389\n\\item[\\$testing\\_pos] 374\n\\item[\\$envios] 3905\n\\item[\\$aciertos] 224\n\\item[\\$ganancia\\_test] 50550000\n\\end{description}\n\n\\item \\begin{description}\n\\item[\\$semilla] 616003\n\\item[\\$testing] 49373\n\\item[\\$testing\\_pos] 368\n\\item[\\$envios] 4023\n\\item[\\$aciertos] 211\n\\item[\\$ganancia\\_test] 44170000\n\\end{description}\n\n\\item \\begin{description}\n\\item[\\$semilla] 272423\n\\item[\\$testing] 49379\n\\item[\\$testing\\_pos] 373\n\\item[\\$envios] 2803\n\\item[\\$aciertos] 196\n\\item[\\$ganancia\\_test] 50370000\n\\end{description}\n\n\\item \\begin{description}\n\\item[\\$semilla] 830789\n\\item[\\$testing] 49383\n\\item[\\$testing\\_pos] 375\n\\item[\\$envios] 3654\n\\item[\\$aciertos] 211\n\\item[\\$ganancia\\_test] 47860000\n\\end{description}\n\n\\item \\begin{description}\n\\item[\\$semilla] 460903\n\\item[\\$testing] 49388\n\\item[\\$testing\\_pos] 379\n\\item[\\$envios] 4554\n\\item[\\$aciertos] 243\n\\item[\\$ganancia\\_test] 51660000\n\\end{description}\n\n\\item \\begin{description}\n\\item[\\$semilla] 122741\n\\item[\\$testing] 49376\n\\item[\\$testing\\_pos] 374\n\\item[\\$envios] 3798\n\\item[\\$aciertos] 204\n\\item[\\$ganancia\\_test] 43620000\n\\end{description}\n\n\\item \\begin{description}\n\\item[\\$semilla] 557093\n\\item[\\$testing] 49369\n\\item[\\$testing\\_pos] 378\n\\item[\\$envios] 2999\n\\item[\\$aciertos] 180\n\\item[\\$ganancia\\_test] 42010000\n\\end{description}\n\n\\item \\begin{description}\n\\item[\\$semilla] 171761\n\\item[\\$testing] 49377\n\\item[\\$testing\\_pos] 375\n\\item[\\$envios] 3214\n\\item[\\$aciertos] 200\n\\item[\\$ganancia\\_test] 47860000\n\\end{description}\n\n\\item \\begin{description}\n\\item[\\$semilla] 104149\n\\item[\\$testing] 49380\n\\item[\\$testing\\_pos] 374\n\\item[\\$envios] 4223\n\\item[\\$aciertos] 218\n\\item[\\$ganancia\\_test] 44970000\n\\end{description}\n\n\\item \\begin{description}\n\\item[\\$semilla] 968959\n\\item[\\$testing] 49382\n\\item[\\$testing\\_pos] 379\n\\item[\\$envios] 3884\n\\item[\\$aciertos] 223\n\\item[\\$ganancia\\_test] 50360000\n\\end{description}\n\n\\item \\begin{description}\n\\item[\\$semilla] 606961\n\\item[\\$testing] 49374\n\\item[\\$testing\\_pos] 375\n\\item[\\$envios] 3557\n\\item[\\$aciertos] 209\n\\item[\\$ganancia\\_test] 48030000\n\\end{description}\n\n\\item \\begin{description}\n\\item[\\$semilla] 573691\n\\item[\\$testing] 49373\n\\item[\\$testing\\_pos] 374\n\\item[\\$envios] 3153\n\\item[\\$aciertos] 208\n\\item[\\$ganancia\\_test] 51670000\n\\end{description}\n\n\\item \\begin{description}\n\\item[\\$semilla] 322073\n\\item[\\$testing] 49371\n\\item[\\$testing\\_pos] 371\n\\item[\\$envios] 3275\n\\item[\\$aciertos] 213\n\\item[\\$ganancia\\_test] 52450000\n\\end{description}\n\n\\item \\begin{description}\n\\item[\\$semilla] 791003\n\\item[\\$testing] 49374\n\\item[\\$testing\\_pos] 374\n\\item[\\$envios] 3263\n\\item[\\$aciertos] 201\n\\item[\\$ganancia\\_test] 47770000\n\\end{description}\n\n\\item \\begin{description}\n\\item[\\$semilla] 302299\n\\item[\\$testing] 49388\n\\item[\\$testing\\_pos] 377\n\\item[\\$envios] 2979\n\\item[\\$aciertos] 188\n\\item[\\$ganancia\\_test] 45410000\n\\end{description}\n\n\\item \\begin{description}\n\\item[\\$semilla] 287333\n\\item[\\$testing] 49381\n\\item[\\$testing\\_pos] 377\n\\item[\\$envios] 3842\n\\item[\\$aciertos] 221\n\\item[\\$ganancia\\_test] 49980000\n\\end{description}\n\n\\item \\begin{description}\n\\item[\\$semilla] 794473\n\\item[\\$testing] 49381\n\\item[\\$testing\\_pos] 380\n\\item[\\$envios] 3746\n\\item[\\$aciertos] 227\n\\item[\\$ganancia\\_test] 53340000\n\\end{description}\n\n\\item \\begin{description}\n\\item[\\$semilla] 562129\n\\item[\\$testing] 49377\n\\item[\\$testing\\_pos] 371\n\\item[\\$envios] 2926\n\\item[\\$aciertos] 185\n\\item[\\$ganancia\\_test] 44740000\n\\end{description}\n\n\\item \\begin{description}\n\\item[\\$semilla] 767677\n\\item[\\$testing] 49367\n\\item[\\$testing\\_pos] 372\n\\item[\\$envios] 3206\n\\item[\\$aciertos] 200\n\\item[\\$ganancia\\_test] 47940000\n\\end{description}\n\n\\item \\begin{description}\n\\item[\\$semilla] 308923\n\\item[\\$testing] 49383\n\\item[\\$testing\\_pos] 375\n\\item[\\$envios] 3429\n\\item[\\$aciertos] 208\n\\item[\\$ganancia\\_test] 48910000\n\\end{description}\n\n\\item \\begin{description}\n\\item[\\$semilla] 842249\n\\item[\\$testing] 49390\n\\item[\\$testing\\_pos] 378\n\\item[\\$envios] 3314\n\\item[\\$aciertos] 229\n\\item[\\$ganancia\\_test] 58460000\n\\end{description}\n\n\\item \\begin{description}\n\\item[\\$semilla] 559231\n\\item[\\$testing] 49382\n\\item[\\$testing\\_pos] 376\n\\item[\\$envios] 3712\n\\item[\\$aciertos] 225\n\\item[\\$ganancia\\_test] 52880000\n\\end{description}\n\n\\item \\begin{description}\n\\item[\\$semilla] 723727\n\\item[\\$testing] 49375\n\\item[\\$testing\\_pos] 374\n\\item[\\$envios] 2557\n\\item[\\$aciertos] 182\n\\item[\\$ganancia\\_test] 47230000\n\\end{description}\n\n\\item \\begin{description}\n\\item[\\$semilla] 395803\n\\item[\\$testing] 49369\n\\item[\\$testing\\_pos] 372\n\\item[\\$envios] 3322\n\\item[\\$aciertos] 207\n\\item[\\$ganancia\\_test] 49580000\n\\end{description}\n\n\\item \\begin{description}\n\\item[\\$semilla] 121661\n\\item[\\$testing] 49385\n\\item[\\$testing\\_pos] 374\n\\item[\\$envios] 3252\n\\item[\\$aciertos] 207\n\\item[\\$ganancia\\_test] 50280000\n\\end{description}\n\n\\item \\begin{description}\n\\item[\\$semilla] 429899\n\\item[\\$testing] 49386\n\\item[\\$testing\\_pos] 373\n\\item[\\$envios] 3090\n\\item[\\$aciertos] 217\n\\item[\\$ganancia\\_test] 55900000\n\\end{description}\n\n\\end{enumerate}\n",
            "text/plain": [
              "[[1]]\n",
              "[[1]]$semilla\n",
              "[1] 915223\n",
              "\n",
              "[[1]]$testing\n",
              "[1] 49385\n",
              "\n",
              "[[1]]$testing_pos\n",
              "[1] 378\n",
              "\n",
              "[[1]]$envios\n",
              "[1] 4630\n",
              "\n",
              "[[1]]$aciertos\n",
              "[1] 239\n",
              "\n",
              "[[1]]$ganancia_test\n",
              "[1] 49300000\n",
              "\n",
              "\n",
              "[[2]]\n",
              "[[2]]$semilla\n",
              "[1] 369119\n",
              "\n",
              "[[2]]$testing\n",
              "[1] 49382\n",
              "\n",
              "[[2]]$testing_pos\n",
              "[1] 377\n",
              "\n",
              "[[2]]$envios\n",
              "[1] 3496\n",
              "\n",
              "[[2]]$aciertos\n",
              "[1] 203\n",
              "\n",
              "[[2]]$ganancia_test\n",
              "[1] 46240000\n",
              "\n",
              "\n",
              "[[3]]\n",
              "[[3]]$semilla\n",
              "[1] 263821\n",
              "\n",
              "[[3]]$testing\n",
              "[1] 49377\n",
              "\n",
              "[[3]]$testing_pos\n",
              "[1] 372\n",
              "\n",
              "[[3]]$envios\n",
              "[1] 3466\n",
              "\n",
              "[[3]]$aciertos\n",
              "[1] 207\n",
              "\n",
              "[[3]]$ganancia_test\n",
              "[1] 48140000\n",
              "\n",
              "\n",
              "[[4]]\n",
              "[[4]]$semilla\n",
              "[1] 635423\n",
              "\n",
              "[[4]]$testing\n",
              "[1] 49384\n",
              "\n",
              "[[4]]$testing_pos\n",
              "[1] 378\n",
              "\n",
              "[[4]]$envios\n",
              "[1] 3494\n",
              "\n",
              "[[4]]$aciertos\n",
              "[1] 217\n",
              "\n",
              "[[4]]$ganancia_test\n",
              "[1] 51860000\n",
              "\n",
              "\n",
              "[[5]]\n",
              "[[5]]$semilla\n",
              "[1] 892579\n",
              "\n",
              "[[5]]$testing\n",
              "[1] 49379\n",
              "\n",
              "[[5]]$testing_pos\n",
              "[1] 376\n",
              "\n",
              "[[5]]$envios\n",
              "[1] 4525\n",
              "\n",
              "[[5]]$aciertos\n",
              "[1] 245\n",
              "\n",
              "[[5]]$ganancia_test\n",
              "[1] 52750000\n",
              "\n",
              "\n",
              "[[6]]\n",
              "[[6]]$semilla\n",
              "[1] 933601\n",
              "\n",
              "[[6]]$testing\n",
              "[1] 49385\n",
              "\n",
              "[[6]]$testing_pos\n",
              "[1] 377\n",
              "\n",
              "[[6]]$envios\n",
              "[1] 3171\n",
              "\n",
              "[[6]]$aciertos\n",
              "[1] 201\n",
              "\n",
              "[[6]]$ganancia_test\n",
              "[1] 48690000\n",
              "\n",
              "\n",
              "[[7]]\n",
              "[[7]]$semilla\n",
              "[1] 344857\n",
              "\n",
              "[[7]]$testing\n",
              "[1] 49363\n",
              "\n",
              "[[7]]$testing_pos\n",
              "[1] 369\n",
              "\n",
              "[[7]]$envios\n",
              "[1] 3596\n",
              "\n",
              "[[7]]$aciertos\n",
              "[1] 200\n",
              "\n",
              "[[7]]$ganancia_test\n",
              "[1] 44040000\n",
              "\n",
              "\n",
              "[[8]]\n",
              "[[8]]$semilla\n",
              "[1] 865409\n",
              "\n",
              "[[8]]$testing\n",
              "[1] 49385\n",
              "\n",
              "[[8]]$testing_pos\n",
              "[1] 373\n",
              "\n",
              "[[8]]$envios\n",
              "[1] 3626\n",
              "\n",
              "[[8]]$aciertos\n",
              "[1] 197\n",
              "\n",
              "[[8]]$ganancia_test\n",
              "[1] 42540000\n",
              "\n",
              "\n",
              "[[9]]\n",
              "[[9]]$semilla\n",
              "[1] 285287\n",
              "\n",
              "[[9]]$testing\n",
              "[1] 49378\n",
              "\n",
              "[[9]]$testing_pos\n",
              "[1] 374\n",
              "\n",
              "[[9]]$envios\n",
              "[1] 3096\n",
              "\n",
              "[[9]]$aciertos\n",
              "[1] 202\n",
              "\n",
              "[[9]]$ganancia_test\n",
              "[1] 49840000\n",
              "\n",
              "\n",
              "[[10]]\n",
              "[[10]]$semilla\n",
              "[1] 829537\n",
              "\n",
              "[[10]]$testing\n",
              "[1] 49382\n",
              "\n",
              "[[10]]$testing_pos\n",
              "[1] 378\n",
              "\n",
              "[[10]]$envios\n",
              "[1] 3441\n",
              "\n",
              "[[10]]$aciertos\n",
              "[1] 201\n",
              "\n",
              "[[10]]$ganancia_test\n",
              "[1] 45990000\n",
              "\n",
              "\n",
              "[[11]]\n",
              "[[11]]$semilla\n",
              "[1] 907663\n",
              "\n",
              "[[11]]$testing\n",
              "[1] 49376\n",
              "\n",
              "[[11]]$testing_pos\n",
              "[1] 377\n",
              "\n",
              "[[11]]$envios\n",
              "[1] 3286\n",
              "\n",
              "[[11]]$aciertos\n",
              "[1] 208\n",
              "\n",
              "[[11]]$ganancia_test\n",
              "[1] 50340000\n",
              "\n",
              "\n",
              "[[12]]\n",
              "[[12]]$semilla\n",
              "[1] 581729\n",
              "\n",
              "[[12]]$testing\n",
              "[1] 49374\n",
              "\n",
              "[[12]]$testing_pos\n",
              "[1] 374\n",
              "\n",
              "[[12]]$envios\n",
              "[1] 3803\n",
              "\n",
              "[[12]]$aciertos\n",
              "[1] 218\n",
              "\n",
              "[[12]]$ganancia_test\n",
              "[1] 49170000\n",
              "\n",
              "\n",
              "[[13]]\n",
              "[[13]]$semilla\n",
              "[1] 130021\n",
              "\n",
              "[[13]]$testing\n",
              "[1] 49380\n",
              "\n",
              "[[13]]$testing_pos\n",
              "[1] 378\n",
              "\n",
              "[[13]]$envios\n",
              "[1] 3085\n",
              "\n",
              "[[13]]$aciertos\n",
              "[1] 195\n",
              "\n",
              "[[13]]$ganancia_test\n",
              "[1] 47150000\n",
              "\n",
              "\n",
              "[[14]]\n",
              "[[14]]$semilla\n",
              "[1] 327517\n",
              "\n",
              "[[14]]$testing\n",
              "[1] 49383\n",
              "\n",
              "[[14]]$testing_pos\n",
              "[1] 381\n",
              "\n",
              "[[14]]$envios\n",
              "[1] 3597\n",
              "\n",
              "[[14]]$aciertos\n",
              "[1] 224\n",
              "\n",
              "[[14]]$ganancia_test\n",
              "[1] 53630000\n",
              "\n",
              "\n",
              "[[15]]\n",
              "[[15]]$semilla\n",
              "[1] 512167\n",
              "\n",
              "[[15]]$testing\n",
              "[1] 49379\n",
              "\n",
              "[[15]]$testing_pos\n",
              "[1] 373\n",
              "\n",
              "[[15]]$envios\n",
              "[1] 3256\n",
              "\n",
              "[[15]]$aciertos\n",
              "[1] 193\n",
              "\n",
              "[[15]]$ganancia_test\n",
              "[1] 44640000\n",
              "\n",
              "\n",
              "[[16]]\n",
              "[[16]]$semilla\n",
              "[1] 524509\n",
              "\n",
              "[[16]]$testing\n",
              "[1] 49371\n",
              "\n",
              "[[16]]$testing_pos\n",
              "[1] 369\n",
              "\n",
              "[[16]]$envios\n",
              "[1] 3353\n",
              "\n",
              "[[16]]$aciertos\n",
              "[1] 206\n",
              "\n",
              "[[16]]$ganancia_test\n",
              "[1] 48870000\n",
              "\n",
              "\n",
              "[[17]]\n",
              "[[17]]$semilla\n",
              "[1] 394619\n",
              "\n",
              "[[17]]$testing\n",
              "[1] 49371\n",
              "\n",
              "[[17]]$testing_pos\n",
              "[1] 368\n",
              "\n",
              "[[17]]$envios\n",
              "[1] 3521\n",
              "\n",
              "[[17]]$aciertos\n",
              "[1] 196\n",
              "\n",
              "[[17]]$ganancia_test\n",
              "[1] 43190000\n",
              "\n",
              "\n",
              "[[18]]\n",
              "[[18]]$semilla\n",
              "[1] 746209\n",
              "\n",
              "[[18]]$testing\n",
              "[1] 49376\n",
              "\n",
              "[[18]]$testing_pos\n",
              "[1] 373\n",
              "\n",
              "[[18]]$envios\n",
              "[1] 3679\n",
              "\n",
              "[[18]]$aciertos\n",
              "[1] 209\n",
              "\n",
              "[[18]]$ganancia_test\n",
              "[1] 46810000\n",
              "\n",
              "\n",
              "[[19]]\n",
              "[[19]]$semilla\n",
              "[1] 587051\n",
              "\n",
              "[[19]]$testing\n",
              "[1] 49380\n",
              "\n",
              "[[19]]$testing_pos\n",
              "[1] 377\n",
              "\n",
              "[[19]]$envios\n",
              "[1] 1924\n",
              "\n",
              "[[19]]$aciertos\n",
              "[1] 164\n",
              "\n",
              "[[19]]$ganancia_test\n",
              "[1] 46360000\n",
              "\n",
              "\n",
              "[[20]]\n",
              "[[20]]$semilla\n",
              "[1] 302227\n",
              "\n",
              "[[20]]$testing\n",
              "[1] 49379\n",
              "\n",
              "[[20]]$testing_pos\n",
              "[1] 375\n",
              "\n",
              "[[20]]$envios\n",
              "[1] 3519\n",
              "\n",
              "[[20]]$aciertos\n",
              "[1] 216\n",
              "\n",
              "[[20]]$ganancia_test\n",
              "[1] 51210000\n",
              "\n",
              "\n",
              "[[21]]\n",
              "[[21]]$semilla\n",
              "[1] 476351\n",
              "\n",
              "[[21]]$testing\n",
              "[1] 49374\n",
              "\n",
              "[[21]]$testing_pos\n",
              "[1] 368\n",
              "\n",
              "[[21]]$envios\n",
              "[1] 3168\n",
              "\n",
              "[[21]]$aciertos\n",
              "[1] 184\n",
              "\n",
              "[[21]]$ganancia_test\n",
              "[1] 41920000\n",
              "\n",
              "\n",
              "[[22]]\n",
              "[[22]]$semilla\n",
              "[1] 524507\n",
              "\n",
              "[[22]]$testing\n",
              "[1] 49381\n",
              "\n",
              "[[22]]$testing_pos\n",
              "[1] 376\n",
              "\n",
              "[[22]]$envios\n",
              "[1] 3256\n",
              "\n",
              "[[22]]$aciertos\n",
              "[1] 208\n",
              "\n",
              "[[22]]$ganancia_test\n",
              "[1] 50640000\n",
              "\n",
              "\n",
              "[[23]]\n",
              "[[23]]$semilla\n",
              "[1] 712739\n",
              "\n",
              "[[23]]$testing\n",
              "[1] 49375\n",
              "\n",
              "[[23]]$testing_pos\n",
              "[1] 370\n",
              "\n",
              "[[23]]$envios\n",
              "[1] 3234\n",
              "\n",
              "[[23]]$aciertos\n",
              "[1] 205\n",
              "\n",
              "[[23]]$ganancia_test\n",
              "[1] 49660000\n",
              "\n",
              "\n",
              "[[24]]\n",
              "[[24]]$semilla\n",
              "[1] 152767\n",
              "\n",
              "[[24]]$testing\n",
              "[1] 49380\n",
              "\n",
              "[[24]]$testing_pos\n",
              "[1] 382\n",
              "\n",
              "[[24]]$envios\n",
              "[1] 3266\n",
              "\n",
              "[[24]]$aciertos\n",
              "[1] 220\n",
              "\n",
              "[[24]]$ganancia_test\n",
              "[1] 55340000\n",
              "\n",
              "\n",
              "[[25]]\n",
              "[[25]]$semilla\n",
              "[1] 955127\n",
              "\n",
              "[[25]]$testing\n",
              "[1] 49383\n",
              "\n",
              "[[25]]$testing_pos\n",
              "[1] 375\n",
              "\n",
              "[[25]]$envios\n",
              "[1] 3495\n",
              "\n",
              "[[25]]$aciertos\n",
              "[1] 210\n",
              "\n",
              "[[25]]$ganancia_test\n",
              "[1] 49050000\n",
              "\n",
              "\n",
              "[[26]]\n",
              "[[26]]$semilla\n",
              "[1] 133213\n",
              "\n",
              "[[26]]$testing\n",
              "[1] 49376\n",
              "\n",
              "[[26]]$testing_pos\n",
              "[1] 373\n",
              "\n",
              "[[26]]$envios\n",
              "[1] 3378\n",
              "\n",
              "[[26]]$aciertos\n",
              "[1] 193\n",
              "\n",
              "[[26]]$ganancia_test\n",
              "[1] 43420000\n",
              "\n",
              "\n",
              "[[27]]\n",
              "[[27]]$semilla\n",
              "[1] 505097\n",
              "\n",
              "[[27]]$testing\n",
              "[1] 49370\n",
              "\n",
              "[[27]]$testing_pos\n",
              "[1] 371\n",
              "\n",
              "[[27]]$envios\n",
              "[1] 2993\n",
              "\n",
              "[[27]]$aciertos\n",
              "[1] 202\n",
              "\n",
              "[[27]]$ganancia_test\n",
              "[1] 50870000\n",
              "\n",
              "\n",
              "[[28]]\n",
              "[[28]]$semilla\n",
              "[1] 185063\n",
              "\n",
              "[[28]]$testing\n",
              "[1] 49362\n",
              "\n",
              "[[28]]$testing_pos\n",
              "[1] 375\n",
              "\n",
              "[[28]]$envios\n",
              "[1] 3568\n",
              "\n",
              "[[28]]$aciertos\n",
              "[1] 206\n",
              "\n",
              "[[28]]$ganancia_test\n",
              "[1] 46720000\n",
              "\n",
              "\n",
              "[[29]]\n",
              "[[29]]$semilla\n",
              "[1] 519989\n",
              "\n",
              "[[29]]$testing\n",
              "[1] 49372\n",
              "\n",
              "[[29]]$testing_pos\n",
              "[1] 370\n",
              "\n",
              "[[29]]$envios\n",
              "[1] 3673\n",
              "\n",
              "[[29]]$aciertos\n",
              "[1] 217\n",
              "\n",
              "[[29]]$ganancia_test\n",
              "[1] 50070000\n",
              "\n",
              "\n",
              "[[30]]\n",
              "[[30]]$semilla\n",
              "[1] 647161\n",
              "\n",
              "[[30]]$testing\n",
              "[1] 49376\n",
              "\n",
              "[[30]]$testing_pos\n",
              "[1] 378\n",
              "\n",
              "[[30]]$envios\n",
              "[1] 3152\n",
              "\n",
              "[[30]]$aciertos\n",
              "[1] 202\n",
              "\n",
              "[[30]]$ganancia_test\n",
              "[1] 49280000\n",
              "\n",
              "\n",
              "[[31]]\n",
              "[[31]]$semilla\n",
              "[1] 118373\n",
              "\n",
              "[[31]]$testing\n",
              "[1] 49385\n",
              "\n",
              "[[31]]$testing_pos\n",
              "[1] 382\n",
              "\n",
              "[[31]]$envios\n",
              "[1] 3934\n",
              "\n",
              "[[31]]$aciertos\n",
              "[1] 219\n",
              "\n",
              "[[31]]$ganancia_test\n",
              "[1] 48260000\n",
              "\n",
              "\n",
              "[[32]]\n",
              "[[32]]$semilla\n",
              "[1] 687163\n",
              "\n",
              "[[32]]$testing\n",
              "[1] 49376\n",
              "\n",
              "[[32]]$testing_pos\n",
              "[1] 371\n",
              "\n",
              "[[32]]$envios\n",
              "[1] 3440\n",
              "\n",
              "[[32]]$aciertos\n",
              "[1] 216\n",
              "\n",
              "[[32]]$ganancia_test\n",
              "[1] 5.2e+07\n",
              "\n",
              "\n",
              "[[33]]\n",
              "[[33]]$semilla\n",
              "[1] 683899\n",
              "\n",
              "[[33]]$testing\n",
              "[1] 49379\n",
              "\n",
              "[[33]]$testing_pos\n",
              "[1] 373\n",
              "\n",
              "[[33]]$envios\n",
              "[1] 3718\n",
              "\n",
              "[[33]]$aciertos\n",
              "[1] 207\n",
              "\n",
              "[[33]]$ganancia_test\n",
              "[1] 45620000\n",
              "\n",
              "\n",
              "[[34]]\n",
              "[[34]]$semilla\n",
              "[1] 895309\n",
              "\n",
              "[[34]]$testing\n",
              "[1] 49374\n",
              "\n",
              "[[34]]$testing_pos\n",
              "[1] 373\n",
              "\n",
              "[[34]]$envios\n",
              "[1] 3691\n",
              "\n",
              "[[34]]$aciertos\n",
              "[1] 213\n",
              "\n",
              "[[34]]$ganancia_test\n",
              "[1] 48290000\n",
              "\n",
              "\n",
              "[[35]]\n",
              "[[35]]$semilla\n",
              "[1] 186671\n",
              "\n",
              "[[35]]$testing\n",
              "[1] 49378\n",
              "\n",
              "[[35]]$testing_pos\n",
              "[1] 368\n",
              "\n",
              "[[35]]$envios\n",
              "[1] 3432\n",
              "\n",
              "[[35]]$aciertos\n",
              "[1] 201\n",
              "\n",
              "[[35]]$ganancia_test\n",
              "[1] 46080000\n",
              "\n",
              "\n",
              "[[36]]\n",
              "[[36]]$semilla\n",
              "[1] 712427\n",
              "\n",
              "[[36]]$testing\n",
              "[1] 49380\n",
              "\n",
              "[[36]]$testing_pos\n",
              "[1] 377\n",
              "\n",
              "[[36]]$envios\n",
              "[1] 4270\n",
              "\n",
              "[[36]]$aciertos\n",
              "[1] 222\n",
              "\n",
              "[[36]]$ganancia_test\n",
              "[1] 46100000\n",
              "\n",
              "\n",
              "[[37]]\n",
              "[[37]]$semilla\n",
              "[1] 346601\n",
              "\n",
              "[[37]]$testing\n",
              "[1] 49373\n",
              "\n",
              "[[37]]$testing_pos\n",
              "[1] 375\n",
              "\n",
              "[[37]]$envios\n",
              "[1] 2885\n",
              "\n",
              "[[37]]$aciertos\n",
              "[1] 183\n",
              "\n",
              "[[37]]$ganancia_test\n",
              "[1] 44350000\n",
              "\n",
              "\n",
              "[[38]]\n",
              "[[38]]$semilla\n",
              "[1] 357593\n",
              "\n",
              "[[38]]$testing\n",
              "[1] 49385\n",
              "\n",
              "[[38]]$testing_pos\n",
              "[1] 376\n",
              "\n",
              "[[38]]$envios\n",
              "[1] 3217\n",
              "\n",
              "[[38]]$aciertos\n",
              "[1] 210\n",
              "\n",
              "[[38]]$ganancia_test\n",
              "[1] 51830000\n",
              "\n",
              "\n",
              "[[39]]\n",
              "[[39]]$semilla\n",
              "[1] 364027\n",
              "\n",
              "[[39]]$testing\n",
              "[1] 49385\n",
              "\n",
              "[[39]]$testing_pos\n",
              "[1] 377\n",
              "\n",
              "[[39]]$envios\n",
              "[1] 2866\n",
              "\n",
              "[[39]]$aciertos\n",
              "[1] 181\n",
              "\n",
              "[[39]]$ganancia_test\n",
              "[1] 43740000\n",
              "\n",
              "\n",
              "[[40]]\n",
              "[[40]]$semilla\n",
              "[1] 480569\n",
              "\n",
              "[[40]]$testing\n",
              "[1] 49385\n",
              "\n",
              "[[40]]$testing_pos\n",
              "[1] 382\n",
              "\n",
              "[[40]]$envios\n",
              "[1] 3598\n",
              "\n",
              "[[40]]$aciertos\n",
              "[1] 195\n",
              "\n",
              "[[40]]$ganancia_test\n",
              "[1] 42020000\n",
              "\n",
              "\n",
              "[[41]]\n",
              "[[41]]$semilla\n",
              "[1] 713467\n",
              "\n",
              "[[41]]$testing\n",
              "[1] 49370\n",
              "\n",
              "[[41]]$testing_pos\n",
              "[1] 368\n",
              "\n",
              "[[41]]$envios\n",
              "[1] 3819\n",
              "\n",
              "[[41]]$aciertos\n",
              "[1] 221\n",
              "\n",
              "[[41]]$ganancia_test\n",
              "[1] 50210000\n",
              "\n",
              "\n",
              "[[42]]\n",
              "[[42]]$semilla\n",
              "[1] 204563\n",
              "\n",
              "[[42]]$testing\n",
              "[1] 49385\n",
              "\n",
              "[[42]]$testing_pos\n",
              "[1] 374\n",
              "\n",
              "[[42]]$envios\n",
              "[1] 3739\n",
              "\n",
              "[[42]]$aciertos\n",
              "[1] 208\n",
              "\n",
              "[[42]]$ganancia_test\n",
              "[1] 45810000\n",
              "\n",
              "\n",
              "[[43]]\n",
              "[[43]]$semilla\n",
              "[1] 301669\n",
              "\n",
              "[[43]]$testing\n",
              "[1] 49372\n",
              "\n",
              "[[43]]$testing_pos\n",
              "[1] 375\n",
              "\n",
              "[[43]]$envios\n",
              "[1] 3048\n",
              "\n",
              "[[43]]$aciertos\n",
              "[1] 213\n",
              "\n",
              "[[43]]$ganancia_test\n",
              "[1] 54720000\n",
              "\n",
              "\n",
              "[[44]]\n",
              "[[44]]$semilla\n",
              "[1] 615151\n",
              "\n",
              "[[44]]$testing\n",
              "[1] 49371\n",
              "\n",
              "[[44]]$testing_pos\n",
              "[1] 375\n",
              "\n",
              "[[44]]$envios\n",
              "[1] 3375\n",
              "\n",
              "[[44]]$aciertos\n",
              "[1] 176\n",
              "\n",
              "[[44]]$ganancia_test\n",
              "[1] 36650000\n",
              "\n",
              "\n",
              "[[45]]\n",
              "[[45]]$semilla\n",
              "[1] 844523\n",
              "\n",
              "[[45]]$testing\n",
              "[1] 49375\n",
              "\n",
              "[[45]]$testing_pos\n",
              "[1] 371\n",
              "\n",
              "[[45]]$envios\n",
              "[1] 3544\n",
              "\n",
              "[[45]]$aciertos\n",
              "[1] 206\n",
              "\n",
              "[[45]]$ganancia_test\n",
              "[1] 46960000\n",
              "\n",
              "\n",
              "[[46]]\n",
              "[[46]]$semilla\n",
              "[1] 936769\n",
              "\n",
              "[[46]]$testing\n",
              "[1] 49377\n",
              "\n",
              "[[46]]$testing_pos\n",
              "[1] 372\n",
              "\n",
              "[[46]]$envios\n",
              "[1] 3178\n",
              "\n",
              "[[46]]$aciertos\n",
              "[1] 194\n",
              "\n",
              "[[46]]$ganancia_test\n",
              "[1] 45820000\n",
              "\n",
              "\n",
              "[[47]]\n",
              "[[47]]$semilla\n",
              "[1] 579587\n",
              "\n",
              "[[47]]$testing\n",
              "[1] 49384\n",
              "\n",
              "[[47]]$testing_pos\n",
              "[1] 370\n",
              "\n",
              "[[47]]$envios\n",
              "[1] 3679\n",
              "\n",
              "[[47]]$aciertos\n",
              "[1] 211\n",
              "\n",
              "[[47]]$ganancia_test\n",
              "[1] 47610000\n",
              "\n",
              "\n",
              "[[48]]\n",
              "[[48]]$semilla\n",
              "[1] 182473\n",
              "\n",
              "[[48]]$testing\n",
              "[1] 49370\n",
              "\n",
              "[[48]]$testing_pos\n",
              "[1] 372\n",
              "\n",
              "[[48]]$envios\n",
              "[1] 3252\n",
              "\n",
              "[[48]]$aciertos\n",
              "[1] 198\n",
              "\n",
              "[[48]]$ganancia_test\n",
              "[1] 46680000\n",
              "\n",
              "\n",
              "[[49]]\n",
              "[[49]]$semilla\n",
              "[1] 681727\n",
              "\n",
              "[[49]]$testing\n",
              "[1] 49391\n",
              "\n",
              "[[49]]$testing_pos\n",
              "[1] 380\n",
              "\n",
              "[[49]]$envios\n",
              "[1] 3678\n",
              "\n",
              "[[49]]$aciertos\n",
              "[1] 210\n",
              "\n",
              "[[49]]$ganancia_test\n",
              "[1] 47220000\n",
              "\n",
              "\n",
              "[[50]]\n",
              "[[50]]$semilla\n",
              "[1] 400927\n",
              "\n",
              "[[50]]$testing\n",
              "[1] 49380\n",
              "\n",
              "[[50]]$testing_pos\n",
              "[1] 374\n",
              "\n",
              "[[50]]$envios\n",
              "[1] 3434\n",
              "\n",
              "[[50]]$aciertos\n",
              "[1] 217\n",
              "\n",
              "[[50]]$ganancia_test\n",
              "[1] 52460000\n",
              "\n",
              "\n",
              "[[51]]\n",
              "[[51]]$semilla\n",
              "[1] 873469\n",
              "\n",
              "[[51]]$testing\n",
              "[1] 49370\n",
              "\n",
              "[[51]]$testing_pos\n",
              "[1] 372\n",
              "\n",
              "[[51]]$envios\n",
              "[1] 3226\n",
              "\n",
              "[[51]]$aciertos\n",
              "[1] 201\n",
              "\n",
              "[[51]]$ganancia_test\n",
              "[1] 48140000\n",
              "\n",
              "\n",
              "[[52]]\n",
              "[[52]]$semilla\n",
              "[1] 799993\n",
              "\n",
              "[[52]]$testing\n",
              "[1] 49375\n",
              "\n",
              "[[52]]$testing_pos\n",
              "[1] 374\n",
              "\n",
              "[[52]]$envios\n",
              "[1] 3244\n",
              "\n",
              "[[52]]$aciertos\n",
              "[1] 200\n",
              "\n",
              "[[52]]$ganancia_test\n",
              "[1] 47560000\n",
              "\n",
              "\n",
              "[[53]]\n",
              "[[53]]$semilla\n",
              "[1] 644563\n",
              "\n",
              "[[53]]$testing\n",
              "[1] 49366\n",
              "\n",
              "[[53]]$testing_pos\n",
              "[1] 371\n",
              "\n",
              "[[53]]$envios\n",
              "[1] 3182\n",
              "\n",
              "[[53]]$aciertos\n",
              "[1] 209\n",
              "\n",
              "[[53]]$ganancia_test\n",
              "[1] 51780000\n",
              "\n",
              "\n",
              "[[54]]\n",
              "[[54]]$semilla\n",
              "[1] 964693\n",
              "\n",
              "[[54]]$testing\n",
              "[1] 49381\n",
              "\n",
              "[[54]]$testing_pos\n",
              "[1] 376\n",
              "\n",
              "[[54]]$envios\n",
              "[1] 3713\n",
              "\n",
              "[[54]]$aciertos\n",
              "[1] 210\n",
              "\n",
              "[[54]]$ganancia_test\n",
              "[1] 46870000\n",
              "\n",
              "\n",
              "[[55]]\n",
              "[[55]]$semilla\n",
              "[1] 744559\n",
              "\n",
              "[[55]]$testing\n",
              "[1] 49369\n",
              "\n",
              "[[55]]$testing_pos\n",
              "[1] 368\n",
              "\n",
              "[[55]]$envios\n",
              "[1] 4155\n",
              "\n",
              "[[55]]$aciertos\n",
              "[1] 222\n",
              "\n",
              "[[55]]$ganancia_test\n",
              "[1] 47250000\n",
              "\n",
              "\n",
              "[[56]]\n",
              "[[56]]$semilla\n",
              "[1] 747259\n",
              "\n",
              "[[56]]$testing\n",
              "[1] 49380\n",
              "\n",
              "[[56]]$testing_pos\n",
              "[1] 376\n",
              "\n",
              "[[56]]$envios\n",
              "[1] 3951\n",
              "\n",
              "[[56]]$aciertos\n",
              "[1] 223\n",
              "\n",
              "[[56]]$ganancia_test\n",
              "[1] 49690000\n",
              "\n",
              "\n",
              "[[57]]\n",
              "[[57]]$semilla\n",
              "[1] 165883\n",
              "\n",
              "[[57]]$testing\n",
              "[1] 49376\n",
              "\n",
              "[[57]]$testing_pos\n",
              "[1] 376\n",
              "\n",
              "[[57]]$envios\n",
              "[1] 3304\n",
              "\n",
              "[[57]]$aciertos\n",
              "[1] 194\n",
              "\n",
              "[[57]]$ganancia_test\n",
              "[1] 44560000\n",
              "\n",
              "\n",
              "[[58]]\n",
              "[[58]]$semilla\n",
              "[1] 353653\n",
              "\n",
              "[[58]]$testing\n",
              "[1] 49376\n",
              "\n",
              "[[58]]$testing_pos\n",
              "[1] 374\n",
              "\n",
              "[[58]]$envios\n",
              "[1] 3393\n",
              "\n",
              "[[58]]$aciertos\n",
              "[1] 208\n",
              "\n",
              "[[58]]$ganancia_test\n",
              "[1] 49270000\n",
              "\n",
              "\n",
              "[[59]]\n",
              "[[59]]$semilla\n",
              "[1] 919063\n",
              "\n",
              "[[59]]$testing\n",
              "[1] 49364\n",
              "\n",
              "[[59]]$testing_pos\n",
              "[1] 375\n",
              "\n",
              "[[59]]$envios\n",
              "[1] 3335\n",
              "\n",
              "[[59]]$aciertos\n",
              "[1] 206\n",
              "\n",
              "[[59]]$ganancia_test\n",
              "[1] 49050000\n",
              "\n",
              "\n",
              "[[60]]\n",
              "[[60]]$semilla\n",
              "[1] 310901\n",
              "\n",
              "[[60]]$testing\n",
              "[1] 49380\n",
              "\n",
              "[[60]]$testing_pos\n",
              "[1] 373\n",
              "\n",
              "[[60]]$envios\n",
              "[1] 3477\n",
              "\n",
              "[[60]]$aciertos\n",
              "[1] 215\n",
              "\n",
              "[[60]]$ganancia_test\n",
              "[1] 51230000\n",
              "\n",
              "\n",
              "[[61]]\n",
              "[[61]]$semilla\n",
              "[1] 417217\n",
              "\n",
              "[[61]]$testing\n",
              "[1] 49376\n",
              "\n",
              "[[61]]$testing_pos\n",
              "[1] 375\n",
              "\n",
              "[[61]]$envios\n",
              "[1] 4817\n",
              "\n",
              "[[61]]$aciertos\n",
              "[1] 246\n",
              "\n",
              "[[61]]$ganancia_test\n",
              "[1] 50230000\n",
              "\n",
              "\n",
              "[[62]]\n",
              "[[62]]$semilla\n",
              "[1] 259159\n",
              "\n",
              "[[62]]$testing\n",
              "[1] 49384\n",
              "\n",
              "[[62]]$testing_pos\n",
              "[1] 370\n",
              "\n",
              "[[62]]$envios\n",
              "[1] 3903\n",
              "\n",
              "[[62]]$aciertos\n",
              "[1] 206\n",
              "\n",
              "[[62]]$ganancia_test\n",
              "[1] 43370000\n",
              "\n",
              "\n",
              "[[63]]\n",
              "[[63]]$semilla\n",
              "[1] 767309\n",
              "\n",
              "[[63]]$testing\n",
              "[1] 49369\n",
              "\n",
              "[[63]]$testing_pos\n",
              "[1] 372\n",
              "\n",
              "[[63]]$envios\n",
              "[1] 3198\n",
              "\n",
              "[[63]]$aciertos\n",
              "[1] 196\n",
              "\n",
              "[[63]]$ganancia_test\n",
              "[1] 46420000\n",
              "\n",
              "\n",
              "[[64]]\n",
              "[[64]]$semilla\n",
              "[1] 327347\n",
              "\n",
              "[[64]]$testing\n",
              "[1] 49376\n",
              "\n",
              "[[64]]$testing_pos\n",
              "[1] 375\n",
              "\n",
              "[[64]]$envios\n",
              "[1] 2764\n",
              "\n",
              "[[64]]$aciertos\n",
              "[1] 204\n",
              "\n",
              "[[64]]$ganancia_test\n",
              "[1] 53960000\n",
              "\n",
              "\n",
              "[[65]]\n",
              "[[65]]$semilla\n",
              "[1] 634703\n",
              "\n",
              "[[65]]$testing\n",
              "[1] 49377\n",
              "\n",
              "[[65]]$testing_pos\n",
              "[1] 373\n",
              "\n",
              "[[65]]$envios\n",
              "[1] 3551\n",
              "\n",
              "[[65]]$aciertos\n",
              "[1] 201\n",
              "\n",
              "[[65]]$ganancia_test\n",
              "[1] 44890000\n",
              "\n",
              "\n",
              "[[66]]\n",
              "[[66]]$semilla\n",
              "[1] 445567\n",
              "\n",
              "[[66]]$testing\n",
              "[1] 49375\n",
              "\n",
              "[[66]]$testing_pos\n",
              "[1] 378\n",
              "\n",
              "[[66]]$envios\n",
              "[1] 3624\n",
              "\n",
              "[[66]]$aciertos\n",
              "[1] 217\n",
              "\n",
              "[[66]]$ganancia_test\n",
              "[1] 50560000\n",
              "\n",
              "\n",
              "[[67]]\n",
              "[[67]]$semilla\n",
              "[1] 280589\n",
              "\n",
              "[[67]]$testing\n",
              "[1] 49384\n",
              "\n",
              "[[67]]$testing_pos\n",
              "[1] 378\n",
              "\n",
              "[[67]]$envios\n",
              "[1] 2968\n",
              "\n",
              "[[67]]$aciertos\n",
              "[1] 197\n",
              "\n",
              "[[67]]$ganancia_test\n",
              "[1] 49120000\n",
              "\n",
              "\n",
              "[[68]]\n",
              "[[68]]$semilla\n",
              "[1] 560237\n",
              "\n",
              "[[68]]$testing\n",
              "[1] 49374\n",
              "\n",
              "[[68]]$testing_pos\n",
              "[1] 369\n",
              "\n",
              "[[68]]$envios\n",
              "[1] 3530\n",
              "\n",
              "[[68]]$aciertos\n",
              "[1] 209\n",
              "\n",
              "[[68]]$ganancia_test\n",
              "[1] 48300000\n",
              "\n",
              "\n",
              "[[69]]\n",
              "[[69]]$semilla\n",
              "[1] 144751\n",
              "\n",
              "[[69]]$testing\n",
              "[1] 49373\n",
              "\n",
              "[[69]]$testing_pos\n",
              "[1] 369\n",
              "\n",
              "[[69]]$envios\n",
              "[1] 3836\n",
              "\n",
              "[[69]]$aciertos\n",
              "[1] 205\n",
              "\n",
              "[[69]]$ganancia_test\n",
              "[1] 43640000\n",
              "\n",
              "\n",
              "[[70]]\n",
              "[[70]]$semilla\n",
              "[1] 906007\n",
              "\n",
              "[[70]]$testing\n",
              "[1] 49381\n",
              "\n",
              "[[70]]$testing_pos\n",
              "[1] 383\n",
              "\n",
              "[[70]]$envios\n",
              "[1] 4011\n",
              "\n",
              "[[70]]$aciertos\n",
              "[1] 235\n",
              "\n",
              "[[70]]$ganancia_test\n",
              "[1] 53890000\n",
              "\n",
              "\n",
              "[[71]]\n",
              "[[71]]$semilla\n",
              "[1] 192817\n",
              "\n",
              "[[71]]$testing\n",
              "[1] 49376\n",
              "\n",
              "[[71]]$testing_pos\n",
              "[1] 379\n",
              "\n",
              "[[71]]$envios\n",
              "[1] 2598\n",
              "\n",
              "[[71]]$aciertos\n",
              "[1] 190\n",
              "\n",
              "[[71]]$ganancia_test\n",
              "[1] 50020000\n",
              "\n",
              "\n",
              "[[72]]\n",
              "[[72]]$semilla\n",
              "[1] 529939\n",
              "\n",
              "[[72]]$testing\n",
              "[1] 49383\n",
              "\n",
              "[[72]]$testing_pos\n",
              "[1] 371\n",
              "\n",
              "[[72]]$envios\n",
              "[1] 3852\n",
              "\n",
              "[[72]]$aciertos\n",
              "[1] 218\n",
              "\n",
              "[[72]]$ganancia_test\n",
              "[1] 48680000\n",
              "\n",
              "\n",
              "[[73]]\n",
              "[[73]]$semilla\n",
              "[1] 239357\n",
              "\n",
              "[[73]]$testing\n",
              "[1] 49381\n",
              "\n",
              "[[73]]$testing_pos\n",
              "[1] 375\n",
              "\n",
              "[[73]]$envios\n",
              "[1] 3227\n",
              "\n",
              "[[73]]$aciertos\n",
              "[1] 191\n",
              "\n",
              "[[73]]$ganancia_test\n",
              "[1] 44130000\n",
              "\n",
              "\n",
              "[[74]]\n",
              "[[74]]$semilla\n",
              "[1] 473987\n",
              "\n",
              "[[74]]$testing\n",
              "[1] 49378\n",
              "\n",
              "[[74]]$testing_pos\n",
              "[1] 377\n",
              "\n",
              "[[74]]$envios\n",
              "[1] 2686\n",
              "\n",
              "[[74]]$aciertos\n",
              "[1] 196\n",
              "\n",
              "[[74]]$ganancia_test\n",
              "[1] 51540000\n",
              "\n",
              "\n",
              "[[75]]\n",
              "[[75]]$semilla\n",
              "[1] 268921\n",
              "\n",
              "[[75]]$testing\n",
              "[1] 49389\n",
              "\n",
              "[[75]]$testing_pos\n",
              "[1] 374\n",
              "\n",
              "[[75]]$envios\n",
              "[1] 3905\n",
              "\n",
              "[[75]]$aciertos\n",
              "[1] 224\n",
              "\n",
              "[[75]]$ganancia_test\n",
              "[1] 50550000\n",
              "\n",
              "\n",
              "[[76]]\n",
              "[[76]]$semilla\n",
              "[1] 616003\n",
              "\n",
              "[[76]]$testing\n",
              "[1] 49373\n",
              "\n",
              "[[76]]$testing_pos\n",
              "[1] 368\n",
              "\n",
              "[[76]]$envios\n",
              "[1] 4023\n",
              "\n",
              "[[76]]$aciertos\n",
              "[1] 211\n",
              "\n",
              "[[76]]$ganancia_test\n",
              "[1] 44170000\n",
              "\n",
              "\n",
              "[[77]]\n",
              "[[77]]$semilla\n",
              "[1] 272423\n",
              "\n",
              "[[77]]$testing\n",
              "[1] 49379\n",
              "\n",
              "[[77]]$testing_pos\n",
              "[1] 373\n",
              "\n",
              "[[77]]$envios\n",
              "[1] 2803\n",
              "\n",
              "[[77]]$aciertos\n",
              "[1] 196\n",
              "\n",
              "[[77]]$ganancia_test\n",
              "[1] 50370000\n",
              "\n",
              "\n",
              "[[78]]\n",
              "[[78]]$semilla\n",
              "[1] 830789\n",
              "\n",
              "[[78]]$testing\n",
              "[1] 49383\n",
              "\n",
              "[[78]]$testing_pos\n",
              "[1] 375\n",
              "\n",
              "[[78]]$envios\n",
              "[1] 3654\n",
              "\n",
              "[[78]]$aciertos\n",
              "[1] 211\n",
              "\n",
              "[[78]]$ganancia_test\n",
              "[1] 47860000\n",
              "\n",
              "\n",
              "[[79]]\n",
              "[[79]]$semilla\n",
              "[1] 460903\n",
              "\n",
              "[[79]]$testing\n",
              "[1] 49388\n",
              "\n",
              "[[79]]$testing_pos\n",
              "[1] 379\n",
              "\n",
              "[[79]]$envios\n",
              "[1] 4554\n",
              "\n",
              "[[79]]$aciertos\n",
              "[1] 243\n",
              "\n",
              "[[79]]$ganancia_test\n",
              "[1] 51660000\n",
              "\n",
              "\n",
              "[[80]]\n",
              "[[80]]$semilla\n",
              "[1] 122741\n",
              "\n",
              "[[80]]$testing\n",
              "[1] 49376\n",
              "\n",
              "[[80]]$testing_pos\n",
              "[1] 374\n",
              "\n",
              "[[80]]$envios\n",
              "[1] 3798\n",
              "\n",
              "[[80]]$aciertos\n",
              "[1] 204\n",
              "\n",
              "[[80]]$ganancia_test\n",
              "[1] 43620000\n",
              "\n",
              "\n",
              "[[81]]\n",
              "[[81]]$semilla\n",
              "[1] 557093\n",
              "\n",
              "[[81]]$testing\n",
              "[1] 49369\n",
              "\n",
              "[[81]]$testing_pos\n",
              "[1] 378\n",
              "\n",
              "[[81]]$envios\n",
              "[1] 2999\n",
              "\n",
              "[[81]]$aciertos\n",
              "[1] 180\n",
              "\n",
              "[[81]]$ganancia_test\n",
              "[1] 42010000\n",
              "\n",
              "\n",
              "[[82]]\n",
              "[[82]]$semilla\n",
              "[1] 171761\n",
              "\n",
              "[[82]]$testing\n",
              "[1] 49377\n",
              "\n",
              "[[82]]$testing_pos\n",
              "[1] 375\n",
              "\n",
              "[[82]]$envios\n",
              "[1] 3214\n",
              "\n",
              "[[82]]$aciertos\n",
              "[1] 200\n",
              "\n",
              "[[82]]$ganancia_test\n",
              "[1] 47860000\n",
              "\n",
              "\n",
              "[[83]]\n",
              "[[83]]$semilla\n",
              "[1] 104149\n",
              "\n",
              "[[83]]$testing\n",
              "[1] 49380\n",
              "\n",
              "[[83]]$testing_pos\n",
              "[1] 374\n",
              "\n",
              "[[83]]$envios\n",
              "[1] 4223\n",
              "\n",
              "[[83]]$aciertos\n",
              "[1] 218\n",
              "\n",
              "[[83]]$ganancia_test\n",
              "[1] 44970000\n",
              "\n",
              "\n",
              "[[84]]\n",
              "[[84]]$semilla\n",
              "[1] 968959\n",
              "\n",
              "[[84]]$testing\n",
              "[1] 49382\n",
              "\n",
              "[[84]]$testing_pos\n",
              "[1] 379\n",
              "\n",
              "[[84]]$envios\n",
              "[1] 3884\n",
              "\n",
              "[[84]]$aciertos\n",
              "[1] 223\n",
              "\n",
              "[[84]]$ganancia_test\n",
              "[1] 50360000\n",
              "\n",
              "\n",
              "[[85]]\n",
              "[[85]]$semilla\n",
              "[1] 606961\n",
              "\n",
              "[[85]]$testing\n",
              "[1] 49374\n",
              "\n",
              "[[85]]$testing_pos\n",
              "[1] 375\n",
              "\n",
              "[[85]]$envios\n",
              "[1] 3557\n",
              "\n",
              "[[85]]$aciertos\n",
              "[1] 209\n",
              "\n",
              "[[85]]$ganancia_test\n",
              "[1] 48030000\n",
              "\n",
              "\n",
              "[[86]]\n",
              "[[86]]$semilla\n",
              "[1] 573691\n",
              "\n",
              "[[86]]$testing\n",
              "[1] 49373\n",
              "\n",
              "[[86]]$testing_pos\n",
              "[1] 374\n",
              "\n",
              "[[86]]$envios\n",
              "[1] 3153\n",
              "\n",
              "[[86]]$aciertos\n",
              "[1] 208\n",
              "\n",
              "[[86]]$ganancia_test\n",
              "[1] 51670000\n",
              "\n",
              "\n",
              "[[87]]\n",
              "[[87]]$semilla\n",
              "[1] 322073\n",
              "\n",
              "[[87]]$testing\n",
              "[1] 49371\n",
              "\n",
              "[[87]]$testing_pos\n",
              "[1] 371\n",
              "\n",
              "[[87]]$envios\n",
              "[1] 3275\n",
              "\n",
              "[[87]]$aciertos\n",
              "[1] 213\n",
              "\n",
              "[[87]]$ganancia_test\n",
              "[1] 52450000\n",
              "\n",
              "\n",
              "[[88]]\n",
              "[[88]]$semilla\n",
              "[1] 791003\n",
              "\n",
              "[[88]]$testing\n",
              "[1] 49374\n",
              "\n",
              "[[88]]$testing_pos\n",
              "[1] 374\n",
              "\n",
              "[[88]]$envios\n",
              "[1] 3263\n",
              "\n",
              "[[88]]$aciertos\n",
              "[1] 201\n",
              "\n",
              "[[88]]$ganancia_test\n",
              "[1] 47770000\n",
              "\n",
              "\n",
              "[[89]]\n",
              "[[89]]$semilla\n",
              "[1] 302299\n",
              "\n",
              "[[89]]$testing\n",
              "[1] 49388\n",
              "\n",
              "[[89]]$testing_pos\n",
              "[1] 377\n",
              "\n",
              "[[89]]$envios\n",
              "[1] 2979\n",
              "\n",
              "[[89]]$aciertos\n",
              "[1] 188\n",
              "\n",
              "[[89]]$ganancia_test\n",
              "[1] 45410000\n",
              "\n",
              "\n",
              "[[90]]\n",
              "[[90]]$semilla\n",
              "[1] 287333\n",
              "\n",
              "[[90]]$testing\n",
              "[1] 49381\n",
              "\n",
              "[[90]]$testing_pos\n",
              "[1] 377\n",
              "\n",
              "[[90]]$envios\n",
              "[1] 3842\n",
              "\n",
              "[[90]]$aciertos\n",
              "[1] 221\n",
              "\n",
              "[[90]]$ganancia_test\n",
              "[1] 49980000\n",
              "\n",
              "\n",
              "[[91]]\n",
              "[[91]]$semilla\n",
              "[1] 794473\n",
              "\n",
              "[[91]]$testing\n",
              "[1] 49381\n",
              "\n",
              "[[91]]$testing_pos\n",
              "[1] 380\n",
              "\n",
              "[[91]]$envios\n",
              "[1] 3746\n",
              "\n",
              "[[91]]$aciertos\n",
              "[1] 227\n",
              "\n",
              "[[91]]$ganancia_test\n",
              "[1] 53340000\n",
              "\n",
              "\n",
              "[[92]]\n",
              "[[92]]$semilla\n",
              "[1] 562129\n",
              "\n",
              "[[92]]$testing\n",
              "[1] 49377\n",
              "\n",
              "[[92]]$testing_pos\n",
              "[1] 371\n",
              "\n",
              "[[92]]$envios\n",
              "[1] 2926\n",
              "\n",
              "[[92]]$aciertos\n",
              "[1] 185\n",
              "\n",
              "[[92]]$ganancia_test\n",
              "[1] 44740000\n",
              "\n",
              "\n",
              "[[93]]\n",
              "[[93]]$semilla\n",
              "[1] 767677\n",
              "\n",
              "[[93]]$testing\n",
              "[1] 49367\n",
              "\n",
              "[[93]]$testing_pos\n",
              "[1] 372\n",
              "\n",
              "[[93]]$envios\n",
              "[1] 3206\n",
              "\n",
              "[[93]]$aciertos\n",
              "[1] 200\n",
              "\n",
              "[[93]]$ganancia_test\n",
              "[1] 47940000\n",
              "\n",
              "\n",
              "[[94]]\n",
              "[[94]]$semilla\n",
              "[1] 308923\n",
              "\n",
              "[[94]]$testing\n",
              "[1] 49383\n",
              "\n",
              "[[94]]$testing_pos\n",
              "[1] 375\n",
              "\n",
              "[[94]]$envios\n",
              "[1] 3429\n",
              "\n",
              "[[94]]$aciertos\n",
              "[1] 208\n",
              "\n",
              "[[94]]$ganancia_test\n",
              "[1] 48910000\n",
              "\n",
              "\n",
              "[[95]]\n",
              "[[95]]$semilla\n",
              "[1] 842249\n",
              "\n",
              "[[95]]$testing\n",
              "[1] 49390\n",
              "\n",
              "[[95]]$testing_pos\n",
              "[1] 378\n",
              "\n",
              "[[95]]$envios\n",
              "[1] 3314\n",
              "\n",
              "[[95]]$aciertos\n",
              "[1] 229\n",
              "\n",
              "[[95]]$ganancia_test\n",
              "[1] 58460000\n",
              "\n",
              "\n",
              "[[96]]\n",
              "[[96]]$semilla\n",
              "[1] 559231\n",
              "\n",
              "[[96]]$testing\n",
              "[1] 49382\n",
              "\n",
              "[[96]]$testing_pos\n",
              "[1] 376\n",
              "\n",
              "[[96]]$envios\n",
              "[1] 3712\n",
              "\n",
              "[[96]]$aciertos\n",
              "[1] 225\n",
              "\n",
              "[[96]]$ganancia_test\n",
              "[1] 52880000\n",
              "\n",
              "\n",
              "[[97]]\n",
              "[[97]]$semilla\n",
              "[1] 723727\n",
              "\n",
              "[[97]]$testing\n",
              "[1] 49375\n",
              "\n",
              "[[97]]$testing_pos\n",
              "[1] 374\n",
              "\n",
              "[[97]]$envios\n",
              "[1] 2557\n",
              "\n",
              "[[97]]$aciertos\n",
              "[1] 182\n",
              "\n",
              "[[97]]$ganancia_test\n",
              "[1] 47230000\n",
              "\n",
              "\n",
              "[[98]]\n",
              "[[98]]$semilla\n",
              "[1] 395803\n",
              "\n",
              "[[98]]$testing\n",
              "[1] 49369\n",
              "\n",
              "[[98]]$testing_pos\n",
              "[1] 372\n",
              "\n",
              "[[98]]$envios\n",
              "[1] 3322\n",
              "\n",
              "[[98]]$aciertos\n",
              "[1] 207\n",
              "\n",
              "[[98]]$ganancia_test\n",
              "[1] 49580000\n",
              "\n",
              "\n",
              "[[99]]\n",
              "[[99]]$semilla\n",
              "[1] 121661\n",
              "\n",
              "[[99]]$testing\n",
              "[1] 49385\n",
              "\n",
              "[[99]]$testing_pos\n",
              "[1] 374\n",
              "\n",
              "[[99]]$envios\n",
              "[1] 3252\n",
              "\n",
              "[[99]]$aciertos\n",
              "[1] 207\n",
              "\n",
              "[[99]]$ganancia_test\n",
              "[1] 50280000\n",
              "\n",
              "\n",
              "[[100]]\n",
              "[[100]]$semilla\n",
              "[1] 429899\n",
              "\n",
              "[[100]]$testing\n",
              "[1] 49386\n",
              "\n",
              "[[100]]$testing_pos\n",
              "[1] 373\n",
              "\n",
              "[[100]]$envios\n",
              "[1] 3090\n",
              "\n",
              "[[100]]$aciertos\n",
              "[1] 217\n",
              "\n",
              "[[100]]$ganancia_test\n",
              "[1] 55900000\n",
              "\n"
            ]
          },
          "metadata": {}
        }
      ]
    },
    {
      "cell_type": "code",
      "source": [
        "# paso la lista a vector\n",
        "tb_salida <- rbindlist(salidas)\n",
        "print( tb_salida)"
      ],
      "metadata": {
        "id": "unGWiKRMGimU",
        "colab": {
          "base_uri": "https://localhost:8080/"
        },
        "outputId": "3ca39ed6-1f60-4de0-d4c1-7cb78d56fd68"
      },
      "execution_count": 45,
      "outputs": [
        {
          "output_type": "stream",
          "name": "stdout",
          "text": [
            "     semilla testing testing_pos envios aciertos ganancia_test\n",
            "       <int>   <int>       <int>  <int>    <int>         <num>\n",
            "  1:  915223   49385         378   4630      239      49300000\n",
            "  2:  369119   49382         377   3496      203      46240000\n",
            "  3:  263821   49377         372   3466      207      48140000\n",
            "  4:  635423   49384         378   3494      217      51860000\n",
            "  5:  892579   49379         376   4525      245      52750000\n",
            "  6:  933601   49385         377   3171      201      48690000\n",
            "  7:  344857   49363         369   3596      200      44040000\n",
            "  8:  865409   49385         373   3626      197      42540000\n",
            "  9:  285287   49378         374   3096      202      49840000\n",
            " 10:  829537   49382         378   3441      201      45990000\n",
            " 11:  907663   49376         377   3286      208      50340000\n",
            " 12:  581729   49374         374   3803      218      49170000\n",
            " 13:  130021   49380         378   3085      195      47150000\n",
            " 14:  327517   49383         381   3597      224      53630000\n",
            " 15:  512167   49379         373   3256      193      44640000\n",
            " 16:  524509   49371         369   3353      206      48870000\n",
            " 17:  394619   49371         368   3521      196      43190000\n",
            " 18:  746209   49376         373   3679      209      46810000\n",
            " 19:  587051   49380         377   1924      164      46360000\n",
            " 20:  302227   49379         375   3519      216      51210000\n",
            " 21:  476351   49374         368   3168      184      41920000\n",
            " 22:  524507   49381         376   3256      208      50640000\n",
            " 23:  712739   49375         370   3234      205      49660000\n",
            " 24:  152767   49380         382   3266      220      55340000\n",
            " 25:  955127   49383         375   3495      210      49050000\n",
            " 26:  133213   49376         373   3378      193      43420000\n",
            " 27:  505097   49370         371   2993      202      50870000\n",
            " 28:  185063   49362         375   3568      206      46720000\n",
            " 29:  519989   49372         370   3673      217      50070000\n",
            " 30:  647161   49376         378   3152      202      49280000\n",
            " 31:  118373   49385         382   3934      219      48260000\n",
            " 32:  687163   49376         371   3440      216      52000000\n",
            " 33:  683899   49379         373   3718      207      45620000\n",
            " 34:  895309   49374         373   3691      213      48290000\n",
            " 35:  186671   49378         368   3432      201      46080000\n",
            " 36:  712427   49380         377   4270      222      46100000\n",
            " 37:  346601   49373         375   2885      183      44350000\n",
            " 38:  357593   49385         376   3217      210      51830000\n",
            " 39:  364027   49385         377   2866      181      43740000\n",
            " 40:  480569   49385         382   3598      195      42020000\n",
            " 41:  713467   49370         368   3819      221      50210000\n",
            " 42:  204563   49385         374   3739      208      45810000\n",
            " 43:  301669   49372         375   3048      213      54720000\n",
            " 44:  615151   49371         375   3375      176      36650000\n",
            " 45:  844523   49375         371   3544      206      46960000\n",
            " 46:  936769   49377         372   3178      194      45820000\n",
            " 47:  579587   49384         370   3679      211      47610000\n",
            " 48:  182473   49370         372   3252      198      46680000\n",
            " 49:  681727   49391         380   3678      210      47220000\n",
            " 50:  400927   49380         374   3434      217      52460000\n",
            " 51:  873469   49370         372   3226      201      48140000\n",
            " 52:  799993   49375         374   3244      200      47560000\n",
            " 53:  644563   49366         371   3182      209      51780000\n",
            " 54:  964693   49381         376   3713      210      46870000\n",
            " 55:  744559   49369         368   4155      222      47250000\n",
            " 56:  747259   49380         376   3951      223      49690000\n",
            " 57:  165883   49376         376   3304      194      44560000\n",
            " 58:  353653   49376         374   3393      208      49270000\n",
            " 59:  919063   49364         375   3335      206      49050000\n",
            " 60:  310901   49380         373   3477      215      51230000\n",
            " 61:  417217   49376         375   4817      246      50230000\n",
            " 62:  259159   49384         370   3903      206      43370000\n",
            " 63:  767309   49369         372   3198      196      46420000\n",
            " 64:  327347   49376         375   2764      204      53960000\n",
            " 65:  634703   49377         373   3551      201      44890000\n",
            " 66:  445567   49375         378   3624      217      50560000\n",
            " 67:  280589   49384         378   2968      197      49120000\n",
            " 68:  560237   49374         369   3530      209      48300000\n",
            " 69:  144751   49373         369   3836      205      43640000\n",
            " 70:  906007   49381         383   4011      235      53890000\n",
            " 71:  192817   49376         379   2598      190      50020000\n",
            " 72:  529939   49383         371   3852      218      48680000\n",
            " 73:  239357   49381         375   3227      191      44130000\n",
            " 74:  473987   49378         377   2686      196      51540000\n",
            " 75:  268921   49389         374   3905      224      50550000\n",
            " 76:  616003   49373         368   4023      211      44170000\n",
            " 77:  272423   49379         373   2803      196      50370000\n",
            " 78:  830789   49383         375   3654      211      47860000\n",
            " 79:  460903   49388         379   4554      243      51660000\n",
            " 80:  122741   49376         374   3798      204      43620000\n",
            " 81:  557093   49369         378   2999      180      42010000\n",
            " 82:  171761   49377         375   3214      200      47860000\n",
            " 83:  104149   49380         374   4223      218      44970000\n",
            " 84:  968959   49382         379   3884      223      50360000\n",
            " 85:  606961   49374         375   3557      209      48030000\n",
            " 86:  573691   49373         374   3153      208      51670000\n",
            " 87:  322073   49371         371   3275      213      52450000\n",
            " 88:  791003   49374         374   3263      201      47770000\n",
            " 89:  302299   49388         377   2979      188      45410000\n",
            " 90:  287333   49381         377   3842      221      49980000\n",
            " 91:  794473   49381         380   3746      227      53340000\n",
            " 92:  562129   49377         371   2926      185      44740000\n",
            " 93:  767677   49367         372   3206      200      47940000\n",
            " 94:  308923   49383         375   3429      208      48910000\n",
            " 95:  842249   49390         378   3314      229      58460000\n",
            " 96:  559231   49382         376   3712      225      52880000\n",
            " 97:  723727   49375         374   2557      182      47230000\n",
            " 98:  395803   49369         372   3322      207      49580000\n",
            " 99:  121661   49385         374   3252      207      50280000\n",
            "100:  429899   49386         373   3090      217      55900000\n",
            "     semilla testing testing_pos envios aciertos ganancia_test\n"
          ]
        }
      ]
    },
    {
      "cell_type": "code",
      "source": [
        "# calulo la salida\n",
        "for( i in seq(10, 100, 10) )                                                   # Lu.Modifiqué esta parte. cambié el 50 por 100 para completar la actividad (25/10)\n",
        "{\n",
        "  cat( i, \"\\t\", tb_salida[ 1:i, mean(ganancia_test)], \"\\n\" )\n",
        "}\n"
      ],
      "metadata": {
        "id": "oGoadhBKGimV",
        "colab": {
          "base_uri": "https://localhost:8080/"
        },
        "outputId": "0f6e6296-e83c-4f8c-ea0b-d5dc6bcfc752"
      },
      "execution_count": 46,
      "outputs": [
        {
          "output_type": "stream",
          "name": "stdout",
          "text": [
            "10 \t 47939000 \n",
            "20 \t 48038000 \n",
            "30 \t 48257667 \n",
            "40 \t 47900500 \n",
            "50 \t 47803200 \n",
            "60 \t 47926000 \n",
            "70 \t 47999143 \n",
            "80 \t 48031750 \n",
            "90 \t 48033889 \n",
            "100 \t 48323100 \n"
          ]
        }
      ]
    },
    {
      "cell_type": "markdown",
      "source": [
        "### Acciones a realizar\n",
        "* Reportar la  los resultados en la planilla colaborativa hoja  **C2-nsem**\n",
        "* Se discutirá en clase la variabilidad de las distintas cantidades de semillas"
      ],
      "metadata": {
        "id": "dO9yQKt7GimV"
      }
    },
    {
      "cell_type": "markdown",
      "source": [
        "\n",
        "\n",
        "---\n",
        "\n"
      ],
      "metadata": {
        "id": "ziFKwIlBGimW"
      }
    },
    {
      "cell_type": "markdown",
      "source": [
        "# 5  DiezMil -Monte Carlo Cross Validation\n",
        "## Clase 02  Experimento 5"
      ],
      "metadata": {
        "id": "2jncHe-KJLUg"
      }
    },
    {
      "cell_type": "markdown",
      "source": [
        "Mostrar a los estudiantes el resultado de un experimento en donde se ha corrido una Monte Carlo Cross Validation utilizando diez mil semillas y relacionar la cantidad de semillas con el resultado del Teorema Central del Límite\n",
        "<br>Los resultados se muestran en esta misma guia y se comentan en clase,Bajo ningún concepto se solicitará a l@s estudiantes hacer este experimento en clase ya que lleva varias horas en correr.\n"
      ],
      "metadata": {
        "id": "vUzSGZGOJZq8"
      }
    },
    {
      "cell_type": "markdown",
      "source": [
        "Aqui usted NO debe correr absolutamente nada, el experimento ya fue corrido por la cátedra y le muestra los resultados."
      ],
      "metadata": {
        "id": "G0YGjTMxuTSg"
      }
    },
    {
      "cell_type": "markdown",
      "source": [
        "## 5.1\n",
        "Estos resultados han sido corridos por la cátedra.\n",
        "\n",
        "![Distribucion de las ganancias](https://storage.googleapis.com/open-courses/austral2025-af91/labo1r/C2_E5_distribucion.jpg)"
      ],
      "metadata": {
        "id": "7NRUb3WtJikc"
      }
    },
    {
      "cell_type": "markdown",
      "source": [
        "![salida](https://storage.googleapis.com/open-courses/austral2025-af91/labo1r/C2_E5_salida.jpg)"
      ],
      "metadata": {
        "id": "tZ4X8wdSKc7G"
      }
    },
    {
      "cell_type": "markdown",
      "source": [
        "![tabla](https://storage.googleapis.com/open-courses/austral2025-af91/labo1r/C2_E5_tabla.jpg)\n",
        "\n",
        " 2    ~    1,96  =  3605406.2 / 1836264.3\n",
        "\n",
        "Por el teorema central del límite, un aumento de 4 veces de la cantidad de registros que se promedian el desvio estandar disminuye 2 veces ,  raiz(4 ) = 2"
      ],
      "metadata": {
        "id": "EsL5ukNWKS71"
      }
    },
    {
      "cell_type": "markdown",
      "source": [
        "\n",
        "\n",
        "---\n",
        "\n"
      ],
      "metadata": {
        "id": "OTLq8TC4LR0c"
      }
    },
    {
      "cell_type": "markdown",
      "source": [
        "# 6 Comparando dos distintos  modelos\n",
        "## Clase 02  Experimento 6"
      ],
      "metadata": {
        "id": "sAS1bfL8LmBv"
      }
    },
    {
      "cell_type": "markdown",
      "source": [
        "## 6.1  Objetivos\n",
        "Presentar a los alumnos la dificultad que se presenta ante la comparación de dos modelos, uno posee un poder predictivo claramente mayor al otro.\n",
        "Comparación simple de media de ganancias, versus probabilidad que un modelo sea superior a otro."
      ],
      "metadata": {
        "id": "KzwdMJDZLmB9"
      }
    },
    {
      "cell_type": "markdown",
      "source": [
        "## 6.2 Introduccion\n",
        "Estos son los dos arboles de muy distinta profundidad.\n",
        "<br>¿Cuál de ellos es mejor? ¿Cuál elijo?\n",
        "\n",
        "| Hiperparámetro | Arbol 1 | Arbol 2 |\n",
        "| --- | --: |  ---: |\n",
        "| cp | -1 | -1 |\n",
        "|minsplit | 170 | 250 |\n",
        "|minbucket | 70 | 125 |\n",
        "|maxdepth | 7 | 20 |\n",
        "\n"
      ],
      "metadata": {
        "id": "DDyFNmJ9L_CW"
      }
    },
    {
      "cell_type": "markdown",
      "source": [
        "## 6.3 Codigo dos distintos modelos"
      ],
      "metadata": {
        "id": "bQfwNsVzNrtI"
      }
    },
    {
      "cell_type": "markdown",
      "source": [
        "Esta parte se debe correr con el runtime en lenguaje **R** Ir al menu, Runtime -> Change Runtime Tipe -> Runtime type -> R"
      ],
      "metadata": {
        "id": "Ku7qQgKjNruJ"
      }
    },
    {
      "cell_type": "markdown",
      "source": [
        "El tiempo de corrida es de alrededor de 40 minutos"
      ],
      "metadata": {
        "id": "6jCdS3NMuKei"
      }
    },
    {
      "cell_type": "markdown",
      "source": [
        "limpio el ambiente de R"
      ],
      "metadata": {
        "id": "Z1EUBeHyNruK"
      }
    },
    {
      "cell_type": "code",
      "source": [
        "# limpio la memoria\n",
        "rm(list=ls(all.names=TRUE)) # remove all objects\n",
        "gc(full=TRUE, verbose=FALSE) # garbage collection"
      ],
      "metadata": {
        "id": "GxbC4V3zNruM",
        "outputId": "96cab691-7ce4-40c1-d8fd-7b9e2e4e8ee7",
        "colab": {
          "base_uri": "https://localhost:8080/",
          "height": 129
        }
      },
      "execution_count": 47,
      "outputs": [
        {
          "output_type": "display_data",
          "data": {
            "text/html": [
              "<table class=\"dataframe\">\n",
              "<caption>A matrix: 2 × 6 of type dbl</caption>\n",
              "<thead>\n",
              "\t<tr><th></th><th scope=col>used</th><th scope=col>(Mb)</th><th scope=col>gc trigger</th><th scope=col>(Mb)</th><th scope=col>max used</th><th scope=col>(Mb)</th></tr>\n",
              "</thead>\n",
              "<tbody>\n",
              "\t<tr><th scope=row>Ncells</th><td> 833376</td><td>44.6</td><td> 1454477</td><td> 77.7</td><td>  1454477</td><td> 77.7</td></tr>\n",
              "\t<tr><th scope=row>Vcells</th><td>1573000</td><td>12.1</td><td>80437842</td><td>613.7</td><td>104059392</td><td>794.0</td></tr>\n",
              "</tbody>\n",
              "</table>\n"
            ],
            "text/markdown": "\nA matrix: 2 × 6 of type dbl\n\n| <!--/--> | used | (Mb) | gc trigger | (Mb) | max used | (Mb) |\n|---|---|---|---|---|---|---|\n| Ncells |  833376 | 44.6 |  1454477 |  77.7 |   1454477 |  77.7 |\n| Vcells | 1573000 | 12.1 | 80437842 | 613.7 | 104059392 | 794.0 |\n\n",
            "text/latex": "A matrix: 2 × 6 of type dbl\n\\begin{tabular}{r|llllll}\n  & used & (Mb) & gc trigger & (Mb) & max used & (Mb)\\\\\n\\hline\n\tNcells &  833376 & 44.6 &  1454477 &  77.7 &   1454477 &  77.7\\\\\n\tVcells & 1573000 & 12.1 & 80437842 & 613.7 & 104059392 & 794.0\\\\\n\\end{tabular}\n",
            "text/plain": [
              "       used    (Mb) gc trigger (Mb)  max used  (Mb) \n",
              "Ncells  833376 44.6  1454477    77.7   1454477  77.7\n",
              "Vcells 1573000 12.1 80437842   613.7 104059392 794.0"
            ]
          },
          "metadata": {}
        }
      ]
    },
    {
      "cell_type": "markdown",
      "source": [
        "* Instalacion de la libreria  rpart.plot  para dibujar el arbol\n",
        "* invocacion de las librerias  **data.table** y  **rpart**"
      ],
      "metadata": {
        "id": "i2WkSCIhNruQ"
      }
    },
    {
      "cell_type": "code",
      "source": [
        "# cargo las librerias que necesito\n",
        "require(\"data.table\")\n",
        "require(\"rpart\")\n",
        "require(\"parallel\")\n",
        "\n",
        "if (!require(\"primes\")) install.packages(\"primes\")\n",
        "require(\"primes\")\n",
        "\n",
        "require(\"ggplot2\")"
      ],
      "metadata": {
        "id": "3bMsgZJWNruR",
        "outputId": "b8c19a8f-f396-4e81-e553-e53e779b2709",
        "colab": {
          "base_uri": "https://localhost:8080/"
        }
      },
      "execution_count": 48,
      "outputs": [
        {
          "output_type": "stream",
          "name": "stderr",
          "text": [
            "Loading required package: ggplot2\n",
            "\n"
          ]
        }
      ]
    },
    {
      "cell_type": "markdown",
      "source": [
        "###  Accion a Realizar\n",
        "PARAM$semilla_primigenia  debe reemplazarse por SU primer semilla"
      ],
      "metadata": {
        "id": "t1lTXrKaNruT"
      }
    },
    {
      "cell_type": "code",
      "source": [
        "PARAM <- list()\n",
        "PARAM$semilla_primigenia <- 120539\n",
        "PARAM$qsemillas <- 20\n",
        "PARAM$training_pct <- 70L     # entre 1 y 100\n"
      ],
      "metadata": {
        "id": "QFbPtTCMNruV"
      },
      "execution_count": 49,
      "outputs": []
    },
    {
      "cell_type": "code",
      "source": [
        "# los dos arboles\n",
        "PARAM$rpart1 <- list (\n",
        "  \"cp\" = -1,\n",
        "  \"minsplit\" = 170,\n",
        "  \"minbucket\" = 70,\n",
        "  \"maxdepth\" = 7\n",
        ")\n",
        "\n",
        "\n",
        "PARAM$rpart2 <- list (\n",
        "  \"cp\" = -1,\n",
        "  \"minsplit\" = 250,\n",
        "  \"minbucket\" = 125,\n",
        "  \"maxdepth\" = 20\n",
        ")"
      ],
      "metadata": {
        "id": "GiBGk7WKQv2V"
      },
      "execution_count": 50,
      "outputs": []
    },
    {
      "cell_type": "code",
      "source": [
        "# particionar agrega una columna llamada fold a un dataset\n",
        "#  que consiste en una particion estratificada segun agrupa\n",
        "\n",
        "# particionar( data=dataset, division=c(70,30),\n",
        "#  agrupa=clase_ternaria, seed=semilla)   crea una particion 70, 30\n",
        "\n",
        "particionar <- function(\n",
        "    data, division, agrupa = \"\",\n",
        "    campo = \"fold\", start = 1, seed = NA) {\n",
        "  if (!is.na(seed)) set.seed(seed)\n",
        "\n",
        "  bloque <- unlist(mapply(function(x, y) {\n",
        "    rep(y, x)\n",
        "  }, division, seq(from = start, length.out = length(division))))\n",
        "\n",
        "  data[, (campo) := sample(rep(bloque, ceiling(.N / length(bloque))))[1:.N],\n",
        "    by = agrupa\n",
        "  ]\n",
        "}\n"
      ],
      "metadata": {
        "id": "2BabfKg7NruX"
      },
      "execution_count": 51,
      "outputs": []
    },
    {
      "cell_type": "code",
      "source": [
        "DosArbolesEstimarGanancia <- function(semilla, training_pct, param_rpart1, param_rpart2) {\n",
        "\n",
        "  # fuerzo impresion\n",
        "  print( paste( semilla, Sys.time()) )\n",
        "  flush.console()\n",
        "\n",
        "  # particiono estratificadamente el dataset\n",
        "  particionar(dataset,\n",
        "    division = c(training_pct, 100L -training_pct),\n",
        "    agrupa = \"clase_ternaria\",\n",
        "    seed = semilla # aqui se usa SU semilla\n",
        "  )\n",
        "\n",
        "  # genero el modelo\n",
        "  # predecir clase_ternaria a partir del resto\n",
        "  modelo1 <- rpart(\"clase_ternaria ~ .\",\n",
        "    data = dataset[fold == 1], # fold==1  es training,  el 70% de los datos\n",
        "    xval = 0,\n",
        "    control = param_rpart1\n",
        "  ) # aqui van los parametros del arbol\n",
        "\n",
        "  # aplico el modelo a los datos de testing\n",
        "  prediccion1 <- predict(modelo1, # el modelo que genere recien\n",
        "    dataset[fold == 2], # fold==2  es testing, el 30% de los datos\n",
        "    type = \"prob\"\n",
        "  ) # type= \"prob\"  es que devuelva la probabilidad\n",
        "\n",
        "\n",
        "  # calculo la ganancia en testing  qu es fold==2\n",
        "  ganancia_test1 <- dataset[\n",
        "    fold == 2,\n",
        "    sum(ifelse(prediccion1[, \"BAJA+2\"] > 0.025,\n",
        "      ifelse(clase_ternaria == \"BAJA+2\", 117000, -3000),\n",
        "      0\n",
        "    ))\n",
        "  ]\n",
        "\n",
        "  # escalo la ganancia como si fuera todo el dataset\n",
        "  ganancia_test_normalizada1 <- ganancia_test1 / (( 100 - training_pct ) / 100 )\n",
        "\n",
        "  modelo2 <- rpart(\"clase_ternaria ~ .\",\n",
        "    data = dataset[fold == 1], # fold==1  es training,  el 70% de los datos\n",
        "    xval = 0,\n",
        "    control = param_rpart2\n",
        "  ) # aqui van los parametros del arbol\n",
        "\n",
        "  # aplico el modelo a los datos de testing\n",
        "  prediccion2 <- predict(modelo2, # el modelo que genere recien\n",
        "    dataset[fold == 2], # fold==2  es testing, el 30% de los datos\n",
        "    type = \"prob\"\n",
        "  ) # type= \"prob\"  es que devuelva la probabilidad\n",
        "\n",
        "\n",
        "  # calculo la ganancia en testing  qu es fold==2\n",
        "  ganancia_test2 <- dataset[\n",
        "    fold == 2,\n",
        "    sum(ifelse(prediccion2[, \"BAJA+2\"] > 0.025,\n",
        "      ifelse(clase_ternaria == \"BAJA+2\", 117000, -3000),\n",
        "      0\n",
        "    ))\n",
        "  ]\n",
        "\n",
        "  # escalo la ganancia como si fuera todo el dataset\n",
        "  ganancia_test_normalizada2 <- ganancia_test2 / (( 100 - training_pct ) / 100 )\n",
        "\n",
        "  return(list(\n",
        "    \"semilla\" = semilla,\n",
        "    \"ganancia1\" = ganancia_test_normalizada1,\n",
        "    \"ganancia2\" = ganancia_test_normalizada2\n",
        "  ))\n",
        "}"
      ],
      "metadata": {
        "id": "YrGJgj4UNruZ"
      },
      "execution_count": 52,
      "outputs": []
    },
    {
      "cell_type": "code",
      "source": [
        "# carpeta de trabajo\n",
        "setwd(\"/content/buckets/b1/exp\")\n",
        "experimento <- \"exp206\"\n",
        "dir.create(experimento, showWarnings=FALSE)\n",
        "setwd( paste0(\"/content/buckets/b1/exp/\", experimento ))"
      ],
      "metadata": {
        "id": "2C2yjgQVNrud"
      },
      "execution_count": 53,
      "outputs": []
    },
    {
      "cell_type": "code",
      "source": [
        "# lectura del dataset\n",
        "dataset <- fread(\"/content/datasets/dataset_pequeno.csv\")\n",
        "\n",
        "# trabajo solo con los datos con clase, es decir 202107\n",
        "dataset <- dataset[clase_ternaria != \"\"]"
      ],
      "metadata": {
        "id": "oQeGcBnPNrug"
      },
      "execution_count": 54,
      "outputs": []
    },
    {
      "cell_type": "code",
      "source": [
        "detectCores()"
      ],
      "metadata": {
        "id": "gXKI2eXO9Osx",
        "outputId": "25d54ea4-8ad5-4d29-f4f0-e6973a61a498",
        "colab": {
          "base_uri": "https://localhost:8080/",
          "height": 34
        }
      },
      "execution_count": 55,
      "outputs": [
        {
          "output_type": "display_data",
          "data": {
            "text/html": [
              "2"
            ],
            "text/markdown": "2",
            "text/latex": "2",
            "text/plain": [
              "[1] 2"
            ]
          },
          "metadata": {}
        }
      ]
    },
    {
      "cell_type": "code",
      "source": [
        "# genero numeros primos\n",
        "primos <- generate_primes(min = 100000, max = 1000000)\n",
        "set.seed(PARAM$semilla_primigenia) # inicializo\n",
        "\n",
        "# me quedo con PARAM$qsemillas   semillas\n",
        "PARAM$semillas <- sample(primos, PARAM$qsemillas )"
      ],
      "metadata": {
        "id": "tU8S7_5ANrui"
      },
      "execution_count": 56,
      "outputs": []
    },
    {
      "cell_type": "code",
      "source": [
        "# demora interminables 60 minutos en correr en Google Colab\n",
        "Sys.time()\n",
        "\n",
        "salidas <- mcmapply( DosArbolesEstimarGanancia,\n",
        "  PARAM$semillas, # paso el vector de semillas\n",
        "  MoreArgs = list(PARAM$training_pct, PARAM$rpart1, PARAM$rpart2), # aqui paso el segundo parametro\n",
        "  SIMPLIFY = FALSE,\n",
        "  mc.cores = detectCores()\n",
        ")\n",
        "\n",
        "Sys.time()"
      ],
      "metadata": {
        "id": "mlF66CgxcHF3",
        "outputId": "13c94e73-1b77-43dc-bdd9-7d616ecca092",
        "colab": {
          "base_uri": "https://localhost:8080/",
          "height": 52
        }
      },
      "execution_count": 57,
      "outputs": [
        {
          "output_type": "display_data",
          "data": {
            "text/plain": [
              "[1] \"2025-10-25 18:36:25 UTC\""
            ]
          },
          "metadata": {}
        },
        {
          "output_type": "display_data",
          "data": {
            "text/plain": [
              "[1] \"2025-10-25 19:33:41 UTC\""
            ]
          },
          "metadata": {}
        }
      ]
    },
    {
      "cell_type": "code",
      "source": [
        "# paso la lista a vector\n",
        "tb_salida <- rbindlist(salidas)\n",
        "tb_salida"
      ],
      "metadata": {
        "id": "_g-_kccdNrum",
        "outputId": "4be4acd8-b906-4254-a40b-53d1b3e662c6",
        "colab": {
          "base_uri": "https://localhost:8080/",
          "height": 725
        }
      },
      "execution_count": 58,
      "outputs": [
        {
          "output_type": "display_data",
          "data": {
            "text/html": [
              "<table class=\"dataframe\">\n",
              "<caption>A data.table: 20 × 3</caption>\n",
              "<thead>\n",
              "\t<tr><th scope=col>semilla</th><th scope=col>ganancia1</th><th scope=col>ganancia2</th></tr>\n",
              "\t<tr><th scope=col>&lt;int&gt;</th><th scope=col>&lt;dbl&gt;</th><th scope=col>&lt;dbl&gt;</th></tr>\n",
              "</thead>\n",
              "<tbody>\n",
              "\t<tr><td>915223</td><td>49300000</td><td>52960000</td></tr>\n",
              "\t<tr><td>369119</td><td>46240000</td><td>39980000</td></tr>\n",
              "\t<tr><td>263821</td><td>48140000</td><td>43860000</td></tr>\n",
              "\t<tr><td>635423</td><td>51860000</td><td>44410000</td></tr>\n",
              "\t<tr><td>892579</td><td>52750000</td><td>46900000</td></tr>\n",
              "\t<tr><td>933601</td><td>48690000</td><td>44940000</td></tr>\n",
              "\t<tr><td>344857</td><td>44040000</td><td>35500000</td></tr>\n",
              "\t<tr><td>865409</td><td>42540000</td><td>41520000</td></tr>\n",
              "\t<tr><td>285287</td><td>49840000</td><td>45270000</td></tr>\n",
              "\t<tr><td>829537</td><td>45990000</td><td>39750000</td></tr>\n",
              "\t<tr><td>907663</td><td>50340000</td><td>44130000</td></tr>\n",
              "\t<tr><td>581729</td><td>49170000</td><td>43860000</td></tr>\n",
              "\t<tr><td>130021</td><td>47150000</td><td>36600000</td></tr>\n",
              "\t<tr><td>327517</td><td>53630000</td><td>48630000</td></tr>\n",
              "\t<tr><td>512167</td><td>44640000</td><td>39350000</td></tr>\n",
              "\t<tr><td>524509</td><td>48870000</td><td>46930000</td></tr>\n",
              "\t<tr><td>394619</td><td>43190000</td><td>35950000</td></tr>\n",
              "\t<tr><td>746209</td><td>46810000</td><td>33030000</td></tr>\n",
              "\t<tr><td>587051</td><td>46360000</td><td>40690000</td></tr>\n",
              "\t<tr><td>302227</td><td>51210000</td><td>45000000</td></tr>\n",
              "</tbody>\n",
              "</table>\n"
            ],
            "text/markdown": "\nA data.table: 20 × 3\n\n| semilla &lt;int&gt; | ganancia1 &lt;dbl&gt; | ganancia2 &lt;dbl&gt; |\n|---|---|---|\n| 915223 | 49300000 | 52960000 |\n| 369119 | 46240000 | 39980000 |\n| 263821 | 48140000 | 43860000 |\n| 635423 | 51860000 | 44410000 |\n| 892579 | 52750000 | 46900000 |\n| 933601 | 48690000 | 44940000 |\n| 344857 | 44040000 | 35500000 |\n| 865409 | 42540000 | 41520000 |\n| 285287 | 49840000 | 45270000 |\n| 829537 | 45990000 | 39750000 |\n| 907663 | 50340000 | 44130000 |\n| 581729 | 49170000 | 43860000 |\n| 130021 | 47150000 | 36600000 |\n| 327517 | 53630000 | 48630000 |\n| 512167 | 44640000 | 39350000 |\n| 524509 | 48870000 | 46930000 |\n| 394619 | 43190000 | 35950000 |\n| 746209 | 46810000 | 33030000 |\n| 587051 | 46360000 | 40690000 |\n| 302227 | 51210000 | 45000000 |\n\n",
            "text/latex": "A data.table: 20 × 3\n\\begin{tabular}{lll}\n semilla & ganancia1 & ganancia2\\\\\n <int> & <dbl> & <dbl>\\\\\n\\hline\n\t 915223 & 49300000 & 52960000\\\\\n\t 369119 & 46240000 & 39980000\\\\\n\t 263821 & 48140000 & 43860000\\\\\n\t 635423 & 51860000 & 44410000\\\\\n\t 892579 & 52750000 & 46900000\\\\\n\t 933601 & 48690000 & 44940000\\\\\n\t 344857 & 44040000 & 35500000\\\\\n\t 865409 & 42540000 & 41520000\\\\\n\t 285287 & 49840000 & 45270000\\\\\n\t 829537 & 45990000 & 39750000\\\\\n\t 907663 & 50340000 & 44130000\\\\\n\t 581729 & 49170000 & 43860000\\\\\n\t 130021 & 47150000 & 36600000\\\\\n\t 327517 & 53630000 & 48630000\\\\\n\t 512167 & 44640000 & 39350000\\\\\n\t 524509 & 48870000 & 46930000\\\\\n\t 394619 & 43190000 & 35950000\\\\\n\t 746209 & 46810000 & 33030000\\\\\n\t 587051 & 46360000 & 40690000\\\\\n\t 302227 & 51210000 & 45000000\\\\\n\\end{tabular}\n",
            "text/plain": [
              "   semilla ganancia1 ganancia2\n",
              "1  915223  49300000  52960000 \n",
              "2  369119  46240000  39980000 \n",
              "3  263821  48140000  43860000 \n",
              "4  635423  51860000  44410000 \n",
              "5  892579  52750000  46900000 \n",
              "6  933601  48690000  44940000 \n",
              "7  344857  44040000  35500000 \n",
              "8  865409  42540000  41520000 \n",
              "9  285287  49840000  45270000 \n",
              "10 829537  45990000  39750000 \n",
              "11 907663  50340000  44130000 \n",
              "12 581729  49170000  43860000 \n",
              "13 130021  47150000  36600000 \n",
              "14 327517  53630000  48630000 \n",
              "15 512167  44640000  39350000 \n",
              "16 524509  48870000  46930000 \n",
              "17 394619  43190000  35950000 \n",
              "18 746209  46810000  33030000 \n",
              "19 587051  46360000  40690000 \n",
              "20 302227  51210000  45000000 "
            ]
          },
          "metadata": {}
        }
      ]
    },
    {
      "cell_type": "code",
      "source": [
        "grafico <- ggplot( tb_salida, aes(x=ganancia1)) + geom_density(alpha=0.25, fill=\"green\", color=\"green\")  +\n",
        "             geom_density(data=tb_salida, aes(x=ganancia2), fill=\"purple\", color=\"purple\",  alpha=0.10)\n",
        "\n",
        "print(grafico)"
      ],
      "metadata": {
        "id": "-O0rg6btNrun",
        "outputId": "21f2e88e-a536-46a9-848d-7c4cfa12fd4b",
        "colab": {
          "base_uri": "https://localhost:8080/",
          "height": 437
        }
      },
      "execution_count": 59,
      "outputs": [
        {
          "output_type": "display_data",
          "data": {
            "text/plain": [
              "plot without title"
            ],
            "image/png": "[encoded data removed]"
          },
          "metadata": {
            "image/png": {
              "width": 420,
              "height": 420
            }
          }
        }
      ]
    },
    {
      "cell_type": "code",
      "source": [
        "# imprimo en un .pdf  que va a la carpeta del experimento\n",
        "pdf(\"densidad_buenoymalo.pdf\")\n",
        "print(grafico)\n",
        "dev.off()"
      ],
      "metadata": {
        "id": "uSqrazOyU_LC",
        "outputId": "df0c6a02-085f-41e7-dd76-db616ffc95c1",
        "colab": {
          "base_uri": "https://localhost:8080/",
          "height": 34
        }
      },
      "execution_count": 78,
      "outputs": [
        {
          "output_type": "display_data",
          "data": {
            "text/html": [
              "<strong>agg_record_644373828:</strong> 2"
            ],
            "text/markdown": "**agg_record_644373828:** 2",
            "text/latex": "\\textbf{agg\\textbackslash{}\\_record\\textbackslash{}\\_644373828:} 2",
            "text/plain": [
              "agg_record_644373828 \n",
              "                   2 "
            ]
          },
          "metadata": {}
        }
      ]
    },
    {
      "cell_type": "code",
      "source": [
        "print( tb_salida[ , list( \"arbol1\" = mean( ganancia1),  \"arbol2\" = mean(ganancia2) ) ] )\n",
        "\n",
        "print( tb_salida[ , list( \"prob( m1 > m2)\" = sum(ganancia1 > ganancia2 )/ .N ) ]  )"
      ],
      "metadata": {
        "id": "LGv0LB_4R7US",
        "outputId": "13601897-0807-437a-cecf-845f4ea2c3c1",
        "colab": {
          "base_uri": "https://localhost:8080/"
        }
      },
      "execution_count": 61,
      "outputs": [
        {
          "output_type": "stream",
          "name": "stdout",
          "text": [
            "     arbol1   arbol2\n",
            "      <num>    <num>\n",
            "1: 48038000 42463000\n",
            "   prob( m1 > m2)\n",
            "            <num>\n",
            "1:           0.95\n"
          ]
        }
      ]
    },
    {
      "cell_type": "markdown",
      "source": [
        "### Acciones a realizar\n",
        "* Reportar la  los resultados en la planilla colaborativa hoja  **C2-dosModelos**\n",
        "* ¿Todos los alumnos hubieran elegido el mismo modelo aun con 20 semillas?"
      ],
      "metadata": {
        "id": "F6lFJf1VTi8b"
      }
    },
    {
      "cell_type": "markdown",
      "source": [
        "\n",
        "\n",
        "---\n",
        "\n"
      ],
      "metadata": {
        "id": "aOpy-XBKTi8n"
      }
    },
    {
      "cell_type": "markdown",
      "source": [
        "# 7 Comparando dos buenos  modelos\n",
        "## Clase 02  Experimento 7"
      ],
      "metadata": {
        "id": "EdzjiJf-dsEK"
      }
    },
    {
      "cell_type": "markdown",
      "source": [
        "## 7.1  Objetivos\n",
        "Presentar a los alumnos la dificultad que surge en la comparación de dos muy distintos, pero ambos buenos, modelos predictivos, y el costo computacional asociado a esa comparación\n",
        "<br>Comparación simple de media de ganancias, versus probabilidad que un modelo sea superior a otro.\n",
        "<br>Limitaciones de la MonteCarlo Cross Validation\n",
        "<br>Existencia del Test de Wilcoxon"
      ],
      "metadata": {
        "id": "FcBjp5XxdsEt"
      }
    },
    {
      "cell_type": "markdown",
      "source": [
        "## 7.2 Introduccion\n",
        "Estos son los dos arboles de muy distinta profundidad.\n",
        "<br>¿Cuál de ellos es mejor? ¿Cuál elijo?\n",
        "\n",
        "| Hiperparámetro | Arbol 1 | Arbol 2 |\n",
        "| --- | --: |  ---: |\n",
        "| cp | -1 | -1 |\n",
        "|minsplit | 170 | 1900 |\n",
        "|minbucket | 70 | 800 |\n",
        "|maxdepth | 7 | 3 |\n",
        "\n"
      ],
      "metadata": {
        "id": "tYcOIcwCdsEu"
      }
    },
    {
      "cell_type": "markdown",
      "source": [
        "## 7.3 Dos buenos modelos"
      ],
      "metadata": {
        "id": "r0NDA7GgdsEu"
      }
    },
    {
      "cell_type": "markdown",
      "source": [
        "Esta parte se debe correr con el runtime en lenguaje **R** Ir al menu, Runtime -> Change Runtime Tipe -> Runtime type -> R"
      ],
      "metadata": {
        "id": "21SJmGd7dsEv"
      }
    },
    {
      "cell_type": "markdown",
      "source": [
        "El tiempo de corrida es de alrededor de 50 minutos"
      ],
      "metadata": {
        "id": "Ne0e08KUt87w"
      }
    },
    {
      "cell_type": "markdown",
      "source": [
        "limpio el ambiente de R"
      ],
      "metadata": {
        "id": "q02SEGNwdsEv"
      }
    },
    {
      "cell_type": "code",
      "source": [
        "# limpio la memoria\n",
        "rm(list=ls(all.names=TRUE)) # remove all objects\n",
        "gc(full=TRUE, verbose=FALSE) # garbage collection"
      ],
      "metadata": {
        "id": "6c2ZJstWdsEw",
        "outputId": "f2945f18-fb4d-452f-eabc-d00262f63e49",
        "colab": {
          "base_uri": "https://localhost:8080/",
          "height": 129
        }
      },
      "execution_count": 62,
      "outputs": [
        {
          "output_type": "display_data",
          "data": {
            "text/html": [
              "<table class=\"dataframe\">\n",
              "<caption>A matrix: 2 × 6 of type dbl</caption>\n",
              "<thead>\n",
              "\t<tr><th></th><th scope=col>used</th><th scope=col>(Mb)</th><th scope=col>gc trigger</th><th scope=col>(Mb)</th><th scope=col>max used</th><th scope=col>(Mb)</th></tr>\n",
              "</thead>\n",
              "<tbody>\n",
              "\t<tr><th scope=row>Ncells</th><td>1423672</td><td>76.1</td><td> 2537208</td><td>135.6</td><td>  2537208</td><td>135.6</td></tr>\n",
              "\t<tr><th scope=row>Vcells</th><td>2588106</td><td>19.8</td><td>50782014</td><td>387.5</td><td>104059392</td><td>794.0</td></tr>\n",
              "</tbody>\n",
              "</table>\n"
            ],
            "text/markdown": "\nA matrix: 2 × 6 of type dbl\n\n| <!--/--> | used | (Mb) | gc trigger | (Mb) | max used | (Mb) |\n|---|---|---|---|---|---|---|\n| Ncells | 1423672 | 76.1 |  2537208 | 135.6 |   2537208 | 135.6 |\n| Vcells | 2588106 | 19.8 | 50782014 | 387.5 | 104059392 | 794.0 |\n\n",
            "text/latex": "A matrix: 2 × 6 of type dbl\n\\begin{tabular}{r|llllll}\n  & used & (Mb) & gc trigger & (Mb) & max used & (Mb)\\\\\n\\hline\n\tNcells & 1423672 & 76.1 &  2537208 & 135.6 &   2537208 & 135.6\\\\\n\tVcells & 2588106 & 19.8 & 50782014 & 387.5 & 104059392 & 794.0\\\\\n\\end{tabular}\n",
            "text/plain": [
              "       used    (Mb) gc trigger (Mb)  max used  (Mb) \n",
              "Ncells 1423672 76.1  2537208   135.6   2537208 135.6\n",
              "Vcells 2588106 19.8 50782014   387.5 104059392 794.0"
            ]
          },
          "metadata": {}
        }
      ]
    },
    {
      "cell_type": "markdown",
      "source": [
        "* Instalacion de la libreria  rpart.plot  para dibujar el arbol\n",
        "* invocacion de las librerias  **data.table** y  **rpart**"
      ],
      "metadata": {
        "id": "62MIW0r1dsEx"
      }
    },
    {
      "cell_type": "code",
      "source": [
        "# cargo las librerias que necesito\n",
        "require(\"data.table\")\n",
        "require(\"rpart\")\n",
        "require(\"parallel\")\n",
        "\n",
        "if (!require(\"primes\")) install.packages(\"primes\")\n",
        "require(\"primes\")\n",
        "\n",
        "require(\"ggplot2\")"
      ],
      "metadata": {
        "id": "2Ke4n-N8dsEy"
      },
      "execution_count": 63,
      "outputs": []
    },
    {
      "cell_type": "markdown",
      "source": [
        "###  Accion a Realizar\n",
        "PARAM$semilla_primigenia  debe reemplazarse por SU primer semilla"
      ],
      "metadata": {
        "id": "UHSoeqi4dsEz"
      }
    },
    {
      "cell_type": "code",
      "source": [
        "PARAM <- list()\n",
        "PARAM$semilla_primigenia <- 120539\n",
        "PARAM$qsemillas <- 50\n",
        "PARAM$training_pct <- 70L     # entre 1 y 100\n"
      ],
      "metadata": {
        "id": "f08_sqfAdsEz"
      },
      "execution_count": 64,
      "outputs": []
    },
    {
      "cell_type": "code",
      "source": [
        "# los dos arboles\n",
        "PARAM$rpart1 <- list (\n",
        "  \"cp\" = -1,\n",
        "  \"minsplit\" = 170,\n",
        "  \"minbucket\" = 70,\n",
        "  \"maxdepth\" = 7\n",
        ")\n",
        "\n",
        "\n",
        "PARAM$rpart2 <- list (\n",
        "  \"cp\" = -1,\n",
        "  \"minsplit\" = 1900,\n",
        "  \"minbucket\" = 800,\n",
        "  \"maxdepth\" = 3\n",
        ")\n"
      ],
      "metadata": {
        "id": "L735D9rydsE0"
      },
      "execution_count": 65,
      "outputs": []
    },
    {
      "cell_type": "code",
      "source": [
        "# particionar agrega una columna llamada fold a un dataset\n",
        "#  que consiste en una particion estratificada segun agrupa\n",
        "\n",
        "# particionar( data=dataset, division=c(70,30),\n",
        "#  agrupa=clase_ternaria, seed=semilla)   crea una particion 70, 30\n",
        "\n",
        "particionar <- function(\n",
        "    data, division, agrupa = \"\",\n",
        "    campo = \"fold\", start = 1, seed = NA) {\n",
        "  if (!is.na(seed)) set.seed(seed)\n",
        "\n",
        "  bloque <- unlist(mapply(function(x, y) {\n",
        "    rep(y, x)\n",
        "  }, division, seq(from = start, length.out = length(division))))\n",
        "\n",
        "  data[, (campo) := sample(rep(bloque, ceiling(.N / length(bloque))))[1:.N],\n",
        "    by = agrupa\n",
        "  ]\n",
        "}\n"
      ],
      "metadata": {
        "id": "O56epLUGdsE1"
      },
      "execution_count": 66,
      "outputs": []
    },
    {
      "cell_type": "code",
      "source": [
        "DosArbolesEstimarGanancia <- function(semilla, training_pct, param_rpart1, param_rpart2) {\n",
        "  # fuerzo impresion\n",
        "  print( paste( semilla, Sys.time()) )\n",
        "  flush.console()\n",
        "\n",
        "  # particiono estratificadamente el dataset\n",
        "  particionar(dataset,\n",
        "    division = c(training_pct, 100L -training_pct),\n",
        "    agrupa = \"clase_ternaria\",\n",
        "    seed = semilla # aqui se usa SU semilla\n",
        "  )\n",
        "\n",
        "  # genero el modelo\n",
        "  # predecir clase_ternaria a partir del resto\n",
        "  modelo1 <- rpart(\"clase_ternaria ~ .\",\n",
        "    data = dataset[fold == 1], # fold==1  es training,  el 70% de los datos\n",
        "    xval = 0,\n",
        "    control = param_rpart1\n",
        "  ) # aqui van los parametros del arbol\n",
        "\n",
        "  # aplico el modelo a los datos de testing\n",
        "  prediccion1 <- predict(modelo1, # el modelo que genere recien\n",
        "    dataset[fold == 2], # fold==2  es testing, el 30% de los datos\n",
        "    type = \"prob\"\n",
        "  ) # type= \"prob\"  es que devuelva la probabilidad\n",
        "\n",
        "\n",
        "  # calculo la ganancia en testing  qu es fold==2\n",
        "  ganancia_test1 <- dataset[\n",
        "    fold == 2,\n",
        "    sum(ifelse(prediccion1[, \"BAJA+2\"] > 0.025,\n",
        "      ifelse(clase_ternaria == \"BAJA+2\", 117000, -3000),\n",
        "      0\n",
        "    ))\n",
        "  ]\n",
        "\n",
        "  # escalo la ganancia como si fuera todo el dataset\n",
        "  ganancia_test_normalizada1 <- ganancia_test1 / (( 100 - training_pct ) / 100 )\n",
        "\n",
        "  modelo2 <- rpart(\"clase_ternaria ~ .\",\n",
        "    data = dataset[fold == 1], # fold==1  es training,  el 70% de los datos\n",
        "    xval = 0,\n",
        "    control = param_rpart2\n",
        "  ) # aqui van los parametros del arbol\n",
        "\n",
        "  # aplico el modelo a los datos de testing\n",
        "  prediccion2 <- predict(modelo2, # el modelo que genere recien\n",
        "    dataset[fold == 2], # fold==2  es testing, el 30% de los datos\n",
        "    type = \"prob\"\n",
        "  ) # type= \"prob\"  es que devuelva la probabilidad\n",
        "\n",
        "\n",
        "  # calculo la ganancia en testing  qu es fold==2\n",
        "  ganancia_test2 <- dataset[\n",
        "    fold == 2,\n",
        "    sum(ifelse(prediccion2[, \"BAJA+2\"] > 0.025,\n",
        "      ifelse(clase_ternaria == \"BAJA+2\", 117000, -3000),\n",
        "      0\n",
        "    ))\n",
        "  ]\n",
        "\n",
        "  # escalo la ganancia como si fuera todo el dataset\n",
        "  ganancia_test_normalizada2 <- ganancia_test2 / (( 100 - training_pct ) / 100 )\n",
        "\n",
        "  return(list(\n",
        "    \"semilla\" = semilla,\n",
        "    \"ganancia1\" = ganancia_test_normalizada1,\n",
        "    \"ganancia2\" = ganancia_test_normalizada2\n",
        "  ))\n",
        "}"
      ],
      "metadata": {
        "id": "Bv_NorLhdsE1"
      },
      "execution_count": 67,
      "outputs": []
    },
    {
      "cell_type": "code",
      "source": [
        "# carpeta de trabajo\n",
        "setwd(\"/content/buckets/b1/exp\")\n",
        "experimento <- \"exp206\"\n",
        "dir.create(experimento, showWarnings=FALSE)\n",
        "setwd( paste0(\"/content/buckets/b1/exp/\", experimento ))"
      ],
      "metadata": {
        "id": "N9GarblIdsE3"
      },
      "execution_count": 68,
      "outputs": []
    },
    {
      "cell_type": "code",
      "source": [
        "# lectura del dataset\n",
        "dataset <- fread(\"/content/datasets/dataset_pequeno.csv\")\n",
        "\n",
        "# trabajo solo con los datos con clase, es decir 202107\n",
        "dataset <- dataset[clase_ternaria != \"\"]"
      ],
      "metadata": {
        "id": "Z05r3wdTdsE3"
      },
      "execution_count": 69,
      "outputs": []
    },
    {
      "cell_type": "code",
      "source": [
        "# genero numeros primos\n",
        "primos <- generate_primes(min = 100000, max = 1000000)\n",
        "set.seed(PARAM$semilla_primigenia) # inicializo\n",
        "\n",
        "# me quedo con PARAM$qsemillas   semillas\n",
        "PARAM$semillas <- sample(primos, PARAM$qsemillas )"
      ],
      "metadata": {
        "id": "m8ODrVrndsE4"
      },
      "execution_count": 70,
      "outputs": []
    },
    {
      "cell_type": "code",
      "source": [
        "# la funcion mcmapply  llama a la funcion DosArbolesEstimarGanancia\n",
        "#  tantas veces como valores tenga el vector  PARAM$semillas\n",
        "Sys.time()\n",
        "\n",
        "salidas <- mcmapply( DosArbolesEstimarGanancia,\n",
        "  PARAM$semillas, # paso el vector de semillas\n",
        "  MoreArgs = list(PARAM$training_pct, PARAM$rpart1, PARAM$rpart2), # aqui paso el segundo parametro\n",
        "  SIMPLIFY = FALSE,\n",
        "  mc.cores = detectCores()\n",
        ")\n",
        "\n",
        "Sys.time()"
      ],
      "metadata": {
        "id": "KQBhUXxJdsE5",
        "outputId": "7913e900-89b0-4bd6-9497-6e4c0c4a4146",
        "colab": {
          "base_uri": "https://localhost:8080/",
          "height": 52
        }
      },
      "execution_count": 71,
      "outputs": [
        {
          "output_type": "display_data",
          "data": {
            "text/plain": [
              "[1] \"2025-10-25 19:40:36 UTC\""
            ]
          },
          "metadata": {}
        },
        {
          "output_type": "display_data",
          "data": {
            "text/plain": [
              "[1] \"2025-10-25 20:45:32 UTC\""
            ]
          },
          "metadata": {}
        }
      ]
    },
    {
      "cell_type": "code",
      "source": [
        "# paso la lista a vector\n",
        "tb_salida <- rbindlist(salidas)\n",
        "tb_salida"
      ],
      "metadata": {
        "id": "N0eS1CFFdsE5",
        "outputId": "56194fb5-a9ca-47c3-a839-28d12a3ea74a",
        "colab": {
          "base_uri": "https://localhost:8080/",
          "height": 1000
        }
      },
      "execution_count": 72,
      "outputs": [
        {
          "output_type": "display_data",
          "data": {
            "text/html": [
              "<table class=\"dataframe\">\n",
              "<caption>A data.table: 50 × 3</caption>\n",
              "<thead>\n",
              "\t<tr><th scope=col>semilla</th><th scope=col>ganancia1</th><th scope=col>ganancia2</th></tr>\n",
              "\t<tr><th scope=col>&lt;int&gt;</th><th scope=col>&lt;dbl&gt;</th><th scope=col>&lt;dbl&gt;</th></tr>\n",
              "</thead>\n",
              "<tbody>\n",
              "\t<tr><td>915223</td><td>49300000</td><td>56650000</td></tr>\n",
              "\t<tr><td>369119</td><td>46240000</td><td>43380000</td></tr>\n",
              "\t<tr><td>263821</td><td>48140000</td><td>44980000</td></tr>\n",
              "\t<tr><td>635423</td><td>51860000</td><td>52450000</td></tr>\n",
              "\t<tr><td>892579</td><td>52750000</td><td>51990000</td></tr>\n",
              "\t<tr><td>933601</td><td>48690000</td><td>51160000</td></tr>\n",
              "\t<tr><td>344857</td><td>44040000</td><td>44680000</td></tr>\n",
              "\t<tr><td>865409</td><td>42540000</td><td>41220000</td></tr>\n",
              "\t<tr><td>285287</td><td>49840000</td><td>49810000</td></tr>\n",
              "\t<tr><td>829537</td><td>45990000</td><td>43880000</td></tr>\n",
              "\t<tr><td>907663</td><td>50340000</td><td>51060000</td></tr>\n",
              "\t<tr><td>581729</td><td>49170000</td><td>52440000</td></tr>\n",
              "\t<tr><td>130021</td><td>47150000</td><td>47540000</td></tr>\n",
              "\t<tr><td>327517</td><td>53630000</td><td>51730000</td></tr>\n",
              "\t<tr><td>512167</td><td>44640000</td><td>46590000</td></tr>\n",
              "\t<tr><td>524509</td><td>48870000</td><td>50610000</td></tr>\n",
              "\t<tr><td>394619</td><td>43190000</td><td>41270000</td></tr>\n",
              "\t<tr><td>746209</td><td>46810000</td><td>41370000</td></tr>\n",
              "\t<tr><td>587051</td><td>46360000</td><td>42570000</td></tr>\n",
              "\t<tr><td>302227</td><td>51210000</td><td>50980000</td></tr>\n",
              "\t<tr><td>476351</td><td>41920000</td><td>41450000</td></tr>\n",
              "\t<tr><td>524507</td><td>50640000</td><td>53860000</td></tr>\n",
              "\t<tr><td>712739</td><td>49660000</td><td>46340000</td></tr>\n",
              "\t<tr><td>152767</td><td>55340000</td><td>51290000</td></tr>\n",
              "\t<tr><td>955127</td><td>49050000</td><td>53700000</td></tr>\n",
              "\t<tr><td>133213</td><td>43420000</td><td>42220000</td></tr>\n",
              "\t<tr><td>505097</td><td>50870000</td><td>50240000</td></tr>\n",
              "\t<tr><td>185063</td><td>46720000</td><td>46830000</td></tr>\n",
              "\t<tr><td>519989</td><td>50070000</td><td>48500000</td></tr>\n",
              "\t<tr><td>647161</td><td>49280000</td><td>48020000</td></tr>\n",
              "\t<tr><td>118373</td><td>48260000</td><td>53710000</td></tr>\n",
              "\t<tr><td>687163</td><td>52000000</td><td>53260000</td></tr>\n",
              "\t<tr><td>683899</td><td>45620000</td><td>44050000</td></tr>\n",
              "\t<tr><td>895309</td><td>48290000</td><td>49620000</td></tr>\n",
              "\t<tr><td>186671</td><td>46080000</td><td>46020000</td></tr>\n",
              "\t<tr><td>712427</td><td>46100000</td><td>55390000</td></tr>\n",
              "\t<tr><td>346601</td><td>44350000</td><td>49400000</td></tr>\n",
              "\t<tr><td>357593</td><td>51830000</td><td>46760000</td></tr>\n",
              "\t<tr><td>364027</td><td>43740000</td><td>45140000</td></tr>\n",
              "\t<tr><td>480569</td><td>42020000</td><td>49070000</td></tr>\n",
              "\t<tr><td>713467</td><td>50210000</td><td>48550000</td></tr>\n",
              "\t<tr><td>204563</td><td>45810000</td><td>49720000</td></tr>\n",
              "\t<tr><td>301669</td><td>54720000</td><td>50700000</td></tr>\n",
              "\t<tr><td>615151</td><td>36650000</td><td>39080000</td></tr>\n",
              "\t<tr><td>844523</td><td>46960000</td><td>45230000</td></tr>\n",
              "\t<tr><td>936769</td><td>45820000</td><td>50640000</td></tr>\n",
              "\t<tr><td>579587</td><td>47610000</td><td>48610000</td></tr>\n",
              "\t<tr><td>182473</td><td>46680000</td><td>46500000</td></tr>\n",
              "\t<tr><td>681727</td><td>47220000</td><td>51020000</td></tr>\n",
              "\t<tr><td>400927</td><td>52460000</td><td>49770000</td></tr>\n",
              "</tbody>\n",
              "</table>\n"
            ],
            "text/markdown": "\nA data.table: 50 × 3\n\n| semilla &lt;int&gt; | ganancia1 &lt;dbl&gt; | ganancia2 &lt;dbl&gt; |\n|---|---|---|\n| 915223 | 49300000 | 56650000 |\n| 369119 | 46240000 | 43380000 |\n| 263821 | 48140000 | 44980000 |\n| 635423 | 51860000 | 52450000 |\n| 892579 | 52750000 | 51990000 |\n| 933601 | 48690000 | 51160000 |\n| 344857 | 44040000 | 44680000 |\n| 865409 | 42540000 | 41220000 |\n| 285287 | 49840000 | 49810000 |\n| 829537 | 45990000 | 43880000 |\n| 907663 | 50340000 | 51060000 |\n| 581729 | 49170000 | 52440000 |\n| 130021 | 47150000 | 47540000 |\n| 327517 | 53630000 | 51730000 |\n| 512167 | 44640000 | 46590000 |\n| 524509 | 48870000 | 50610000 |\n| 394619 | 43190000 | 41270000 |\n| 746209 | 46810000 | 41370000 |\n| 587051 | 46360000 | 42570000 |\n| 302227 | 51210000 | 50980000 |\n| 476351 | 41920000 | 41450000 |\n| 524507 | 50640000 | 53860000 |\n| 712739 | 49660000 | 46340000 |\n| 152767 | 55340000 | 51290000 |\n| 955127 | 49050000 | 53700000 |\n| 133213 | 43420000 | 42220000 |\n| 505097 | 50870000 | 50240000 |\n| 185063 | 46720000 | 46830000 |\n| 519989 | 50070000 | 48500000 |\n| 647161 | 49280000 | 48020000 |\n| 118373 | 48260000 | 53710000 |\n| 687163 | 52000000 | 53260000 |\n| 683899 | 45620000 | 44050000 |\n| 895309 | 48290000 | 49620000 |\n| 186671 | 46080000 | 46020000 |\n| 712427 | 46100000 | 55390000 |\n| 346601 | 44350000 | 49400000 |\n| 357593 | 51830000 | 46760000 |\n| 364027 | 43740000 | 45140000 |\n| 480569 | 42020000 | 49070000 |\n| 713467 | 50210000 | 48550000 |\n| 204563 | 45810000 | 49720000 |\n| 301669 | 54720000 | 50700000 |\n| 615151 | 36650000 | 39080000 |\n| 844523 | 46960000 | 45230000 |\n| 936769 | 45820000 | 50640000 |\n| 579587 | 47610000 | 48610000 |\n| 182473 | 46680000 | 46500000 |\n| 681727 | 47220000 | 51020000 |\n| 400927 | 52460000 | 49770000 |\n\n",
            "text/latex": "A data.table: 50 × 3\n\\begin{tabular}{lll}\n semilla & ganancia1 & ganancia2\\\\\n <int> & <dbl> & <dbl>\\\\\n\\hline\n\t 915223 & 49300000 & 56650000\\\\\n\t 369119 & 46240000 & 43380000\\\\\n\t 263821 & 48140000 & 44980000\\\\\n\t 635423 & 51860000 & 52450000\\\\\n\t 892579 & 52750000 & 51990000\\\\\n\t 933601 & 48690000 & 51160000\\\\\n\t 344857 & 44040000 & 44680000\\\\\n\t 865409 & 42540000 & 41220000\\\\\n\t 285287 & 49840000 & 49810000\\\\\n\t 829537 & 45990000 & 43880000\\\\\n\t 907663 & 50340000 & 51060000\\\\\n\t 581729 & 49170000 & 52440000\\\\\n\t 130021 & 47150000 & 47540000\\\\\n\t 327517 & 53630000 & 51730000\\\\\n\t 512167 & 44640000 & 46590000\\\\\n\t 524509 & 48870000 & 50610000\\\\\n\t 394619 & 43190000 & 41270000\\\\\n\t 746209 & 46810000 & 41370000\\\\\n\t 587051 & 46360000 & 42570000\\\\\n\t 302227 & 51210000 & 50980000\\\\\n\t 476351 & 41920000 & 41450000\\\\\n\t 524507 & 50640000 & 53860000\\\\\n\t 712739 & 49660000 & 46340000\\\\\n\t 152767 & 55340000 & 51290000\\\\\n\t 955127 & 49050000 & 53700000\\\\\n\t 133213 & 43420000 & 42220000\\\\\n\t 505097 & 50870000 & 50240000\\\\\n\t 185063 & 46720000 & 46830000\\\\\n\t 519989 & 50070000 & 48500000\\\\\n\t 647161 & 49280000 & 48020000\\\\\n\t 118373 & 48260000 & 53710000\\\\\n\t 687163 & 52000000 & 53260000\\\\\n\t 683899 & 45620000 & 44050000\\\\\n\t 895309 & 48290000 & 49620000\\\\\n\t 186671 & 46080000 & 46020000\\\\\n\t 712427 & 46100000 & 55390000\\\\\n\t 346601 & 44350000 & 49400000\\\\\n\t 357593 & 51830000 & 46760000\\\\\n\t 364027 & 43740000 & 45140000\\\\\n\t 480569 & 42020000 & 49070000\\\\\n\t 713467 & 50210000 & 48550000\\\\\n\t 204563 & 45810000 & 49720000\\\\\n\t 301669 & 54720000 & 50700000\\\\\n\t 615151 & 36650000 & 39080000\\\\\n\t 844523 & 46960000 & 45230000\\\\\n\t 936769 & 45820000 & 50640000\\\\\n\t 579587 & 47610000 & 48610000\\\\\n\t 182473 & 46680000 & 46500000\\\\\n\t 681727 & 47220000 & 51020000\\\\\n\t 400927 & 52460000 & 49770000\\\\\n\\end{tabular}\n",
            "text/plain": [
              "   semilla ganancia1 ganancia2\n",
              "1  915223  49300000  56650000 \n",
              "2  369119  46240000  43380000 \n",
              "3  263821  48140000  44980000 \n",
              "4  635423  51860000  52450000 \n",
              "5  892579  52750000  51990000 \n",
              "6  933601  48690000  51160000 \n",
              "7  344857  44040000  44680000 \n",
              "8  865409  42540000  41220000 \n",
              "9  285287  49840000  49810000 \n",
              "10 829537  45990000  43880000 \n",
              "11 907663  50340000  51060000 \n",
              "12 581729  49170000  52440000 \n",
              "13 130021  47150000  47540000 \n",
              "14 327517  53630000  51730000 \n",
              "15 512167  44640000  46590000 \n",
              "16 524509  48870000  50610000 \n",
              "17 394619  43190000  41270000 \n",
              "18 746209  46810000  41370000 \n",
              "19 587051  46360000  42570000 \n",
              "20 302227  51210000  50980000 \n",
              "21 476351  41920000  41450000 \n",
              "22 524507  50640000  53860000 \n",
              "23 712739  49660000  46340000 \n",
              "24 152767  55340000  51290000 \n",
              "25 955127  49050000  53700000 \n",
              "26 133213  43420000  42220000 \n",
              "27 505097  50870000  50240000 \n",
              "28 185063  46720000  46830000 \n",
              "29 519989  50070000  48500000 \n",
              "30 647161  49280000  48020000 \n",
              "31 118373  48260000  53710000 \n",
              "32 687163  52000000  53260000 \n",
              "33 683899  45620000  44050000 \n",
              "34 895309  48290000  49620000 \n",
              "35 186671  46080000  46020000 \n",
              "36 712427  46100000  55390000 \n",
              "37 346601  44350000  49400000 \n",
              "38 357593  51830000  46760000 \n",
              "39 364027  43740000  45140000 \n",
              "40 480569  42020000  49070000 \n",
              "41 713467  50210000  48550000 \n",
              "42 204563  45810000  49720000 \n",
              "43 301669  54720000  50700000 \n",
              "44 615151  36650000  39080000 \n",
              "45 844523  46960000  45230000 \n",
              "46 936769  45820000  50640000 \n",
              "47 579587  47610000  48610000 \n",
              "48 182473  46680000  46500000 \n",
              "49 681727  47220000  51020000 \n",
              "50 400927  52460000  49770000 "
            ]
          },
          "metadata": {}
        }
      ]
    },
    {
      "cell_type": "code",
      "source": [
        "grafico <- ggplot( tb_salida, aes(x=ganancia1)) + geom_density(alpha=0.25, fill=\"green\", color=\"green\")  +\n",
        "             geom_density(data=tb_salida, aes(x=ganancia2), fill=\"purple\", color=\"purple\",  alpha=0.10)\n",
        "\n",
        "print(grafico)"
      ],
      "metadata": {
        "id": "6vf28ujAdsE6",
        "outputId": "b6790476-8813-4e40-8cb0-89045c99eb75",
        "colab": {
          "base_uri": "https://localhost:8080/",
          "height": 437
        }
      },
      "execution_count": 74,
      "outputs": [
        {
          "output_type": "display_data",
          "data": {
            "text/plain": [
              "plot without title"
            ],
            "image/png": "[encoded data removed]"
          },
          "metadata": {
            "image/png": {
              "width": 420,
              "height": 420
            }
          }
        }
      ]
    },
    {
      "cell_type": "code",
      "source": [
        "# imprimo en un .pdf  que va a la carpeta del experimento\n",
        "pdf(\"densidad_dosbuenos.pdf\")\n",
        "print(grafico)\n",
        "dev.off()"
      ],
      "metadata": {
        "id": "TA9lLa6-dsE6",
        "outputId": "d885b0e6-e42f-4dd7-c740-a63ec63ce3dc",
        "colab": {
          "base_uri": "https://localhost:8080/",
          "height": 34
        }
      },
      "execution_count": 79,
      "outputs": [
        {
          "output_type": "display_data",
          "data": {
            "text/html": [
              "<strong>agg_record_1500536605:</strong> 2"
            ],
            "text/markdown": "**agg_record_1500536605:** 2",
            "text/latex": "\\textbf{agg\\textbackslash{}\\_record\\textbackslash{}\\_1500536605:} 2",
            "text/plain": [
              "agg_record_1500536605 \n",
              "                    2 "
            ]
          },
          "metadata": {}
        }
      ]
    },
    {
      "cell_type": "code",
      "source": [
        "# medias de las ganancias\n",
        "print( tb_salida[ , list( \"arbol1\" = mean( ganancia1),  \"arbol2\" = mean(ganancia2) ) ] )\n"
      ],
      "metadata": {
        "id": "xAOpyZTqdsE7",
        "outputId": "78a325f9-ee06-473c-918e-a40a5060b792",
        "colab": {
          "base_uri": "https://localhost:8080/"
        }
      },
      "execution_count": 76,
      "outputs": [
        {
          "output_type": "stream",
          "name": "stdout",
          "text": [
            "     arbol1   arbol2\n",
            "      <num>    <num>\n",
            "1: 47803200 48221000\n"
          ]
        }
      ]
    },
    {
      "cell_type": "code",
      "source": [
        "# probabilidad que m1 sea mayor a m2\n",
        "print( tb_salida[ , list( \"prob( m1 > m2)\" = sum(ganancia1 > ganancia2 )/ .N ) ]  )"
      ],
      "metadata": {
        "id": "8rdPIcfzgob7",
        "outputId": "e505d913-3503-47ef-bd95-102ce354c13c",
        "colab": {
          "base_uri": "https://localhost:8080/"
        }
      },
      "execution_count": 77,
      "outputs": [
        {
          "output_type": "stream",
          "name": "stdout",
          "text": [
            "   prob( m1 > m2)\n",
            "            <num>\n",
            "1:           0.52\n"
          ]
        }
      ]
    },
    {
      "cell_type": "markdown",
      "source": [
        "### Acciones a realizar\n",
        "* Reportar la  los resultados en la planilla colaborativa hoja  **C2-dosBuenos**\n"
      ],
      "metadata": {
        "id": "nNNJWYRadsE7"
      }
    },
    {
      "cell_type": "markdown",
      "source": [
        "\n",
        "\n",
        "---\n",
        "\n"
      ],
      "metadata": {
        "id": "LTBEq6SEdsE8"
      }
    },
    {
      "cell_type": "markdown",
      "source": [],
      "metadata": {
        "id": "ebcTZX7Sg1Le"
      }
    },
    {
      "cell_type": "markdown",
      "source": [
        "# 8 Test de Wilcoxon\n",
        "## Clase 02  Experimento 8"
      ],
      "metadata": {
        "id": "RAtn4x6Bg1u1"
      }
    },
    {
      "cell_type": "markdown",
      "source": [],
      "metadata": {
        "id": "RWxjnSsVg_ol"
      }
    },
    {
      "cell_type": "markdown",
      "source": [
        "## 8.1  Objetivos\n",
        "\n",
        "¿Como calcular la cantidad mínima de semillas que hacen falta para tener cierta certeza que un modelo es superior a otro?"
      ],
      "metadata": {
        "id": "Gf0LF3ywhAEU"
      }
    },
    {
      "cell_type": "markdown",
      "source": [
        "## 8.2  Introduccion\n",
        "\n",
        "| Hiperparámetro | Arbol 1 | Arbol 2 |\n",
        "| --- | --: |  ---: |\n",
        "| cp | -1 | -1 |\n",
        "|minsplit | 170 | 250 |\n",
        "|minbucket | 70 | 125 |\n",
        "|maxdepth | 7 | 20 |\n",
        "\n",
        "<br>\n",
        "<br>\n",
        "\n",
        "\n",
        "| ordinal | semilla | ganancia1 | ganancia2 | p-value |\n",
        "| --- | --- |  --- |  --- |  --- |\n",
        "| 1 |378821 | 41,470,000 | 37,790,000 | 1.000 |\n",
        "| 2 | 964333  | 48,480,000  | 43,660,000 | 0.500 |\n",
        "| 3 | 187049 | 50,610,000 | 47,840,000 | 0.250 |\n",
        "| 4 | 205151 | 45,580,000 | 44,490,000 | 0.125 |\n",
        "| 5 | 813697 | 52,780,000 | 46,750,000 |  0.063 |\n",
        "| 6 | 344719 | 49,970,000 | 44,300,000 | 0.031 |\n",
        "|7 |127217  |52,810,000 | 42,840,000 |0.016 |\n",
        "| 8 | 464371 | 43,060,000 | 37,300,000 | 0.008 |\n",
        "| 9 | 645137 | 49,660,000 |43,730,000 | 0.004|\n",
        "\n",
        "\n"
      ],
      "metadata": {
        "id": "k4PJGTDViZne"
      }
    },
    {
      "cell_type": "markdown",
      "source": [
        "## 8.3 Codigo Test de Wilcoxon"
      ],
      "metadata": {
        "id": "gAeSRdWRhg61"
      }
    },
    {
      "cell_type": "code",
      "source": [
        "# 1 sola ganancia\n",
        "wilcox.test(\n",
        "  c(41470000),\n",
        "  c(37790000),\n",
        "  paired = TRUE\n",
        ")\n"
      ],
      "metadata": {
        "id": "6r5M0J0HdsE8",
        "outputId": "b9c0038c-365e-440d-b51f-c478f3d14756",
        "colab": {
          "base_uri": "https://localhost:8080/",
          "height": 121
        }
      },
      "execution_count": 80,
      "outputs": [
        {
          "output_type": "display_data",
          "data": {
            "text/plain": [
              "\n",
              "\tWilcoxon signed rank exact test\n",
              "\n",
              "data:  c(41470000) and c(37790000)\n",
              "V = 1, p-value = 1\n",
              "alternative hypothesis: true location shift is not equal to 0\n"
            ]
          },
          "metadata": {}
        }
      ]
    },
    {
      "cell_type": "code",
      "source": [
        "# 2 ganancias\n",
        "wilcox.test(\n",
        "  c(41470000, 48480000),\n",
        "  c(37790000, 43660000),\n",
        "  paired = TRUE\n",
        ")\n"
      ],
      "metadata": {
        "id": "1pscqL9vLzYE",
        "outputId": "4f4628b1-1dad-4903-9d0a-7cf0962f5482",
        "colab": {
          "base_uri": "https://localhost:8080/",
          "height": 121
        }
      },
      "execution_count": 81,
      "outputs": [
        {
          "output_type": "display_data",
          "data": {
            "text/plain": [
              "\n",
              "\tWilcoxon signed rank exact test\n",
              "\n",
              "data:  c(41470000, 48480000) and c(37790000, 43660000)\n",
              "V = 3, p-value = 0.5\n",
              "alternative hypothesis: true location shift is not equal to 0\n"
            ]
          },
          "metadata": {}
        }
      ]
    },
    {
      "cell_type": "code",
      "source": [
        "# 3 ganancias\n",
        "wilcox.test(\n",
        "  c(41470000, 48480000, 50610000),\n",
        "  c(37790000, 43660000, 47840000),\n",
        "  paired = TRUE\n",
        ")"
      ],
      "metadata": {
        "id": "p3f_mtKwhSHA",
        "outputId": "cccc6673-4ab7-426a-dcd9-37cf7877cb99",
        "colab": {
          "base_uri": "https://localhost:8080/",
          "height": 121
        }
      },
      "execution_count": 82,
      "outputs": [
        {
          "output_type": "display_data",
          "data": {
            "text/plain": [
              "\n",
              "\tWilcoxon signed rank exact test\n",
              "\n",
              "data:  c(41470000, 48480000, 50610000) and c(37790000, 43660000, 47840000)\n",
              "V = 6, p-value = 0.25\n",
              "alternative hypothesis: true location shift is not equal to 0\n"
            ]
          },
          "metadata": {}
        }
      ]
    },
    {
      "cell_type": "code",
      "source": [
        "# 4 ganancias\n",
        "wilcox.test(\n",
        "  c(41470000, 48480000, 50610000, 45580000),\n",
        "  c(37790000, 43660000, 47840000, 44490000),\n",
        "  paired = TRUE\n",
        ")\n"
      ],
      "metadata": {
        "id": "-ijX69r9hT6Z",
        "outputId": "287856ed-5701-4a22-f2ec-b5799da743d2",
        "colab": {
          "base_uri": "https://localhost:8080/",
          "height": 121
        }
      },
      "execution_count": 83,
      "outputs": [
        {
          "output_type": "display_data",
          "data": {
            "text/plain": [
              "\n",
              "\tWilcoxon signed rank exact test\n",
              "\n",
              "data:  c(41470000, 48480000, 50610000, 45580000) and c(37790000, 43660000, 47840000, 44490000)\n",
              "V = 10, p-value = 0.125\n",
              "alternative hypothesis: true location shift is not equal to 0\n"
            ]
          },
          "metadata": {}
        }
      ]
    },
    {
      "cell_type": "code",
      "source": [
        "# 5 ganancias\n",
        "wilcox.test(\n",
        "  c(41470000, 48480000, 50610000, 45580000, 52780000),\n",
        "  c(37790000, 43660000, 47840000, 44490000, 46750000),\n",
        "  paired = TRUE\n",
        ")"
      ],
      "metadata": {
        "id": "X9J_CHGehVfr",
        "outputId": "4826b403-bc7b-4859-90c2-2c41993d7757",
        "colab": {
          "base_uri": "https://localhost:8080/",
          "height": 121
        }
      },
      "execution_count": 84,
      "outputs": [
        {
          "output_type": "display_data",
          "data": {
            "text/plain": [
              "\n",
              "\tWilcoxon signed rank exact test\n",
              "\n",
              "data:  c(41470000, 48480000, 50610000, 45580000, 52780000) and c(37790000, 43660000, 47840000, 44490000, 46750000)\n",
              "V = 15, p-value = 0.0625\n",
              "alternative hypothesis: true location shift is not equal to 0\n"
            ]
          },
          "metadata": {}
        }
      ]
    },
    {
      "cell_type": "code",
      "source": [
        "# 6 ganancias\n",
        "wilcox.test(\n",
        "  c(41470000, 48480000, 50610000, 45580000, 52780000, 49970000),\n",
        "  c(37790000, 43660000, 47840000, 44490000, 46750000, 44300000),\n",
        "  paired = TRUE\n",
        ")"
      ],
      "metadata": {
        "id": "H3CNNonOhXp0",
        "outputId": "191800ce-41d2-4104-c5de-543c0abca8ec",
        "colab": {
          "base_uri": "https://localhost:8080/",
          "height": 121
        }
      },
      "execution_count": 85,
      "outputs": [
        {
          "output_type": "display_data",
          "data": {
            "text/plain": [
              "\n",
              "\tWilcoxon signed rank exact test\n",
              "\n",
              "data:  c(41470000, 48480000, 50610000, 45580000, 52780000, 49970000) and c(37790000, 43660000, 47840000, 44490000, 46750000, 44300000)\n",
              "V = 21, p-value = 0.03125\n",
              "alternative hypothesis: true location shift is not equal to 0\n"
            ]
          },
          "metadata": {}
        }
      ]
    },
    {
      "cell_type": "code",
      "source": [
        "# Finalmente el p-value es  0.03125  < 0.05\n",
        "# hicieron falta  SEIS semillas, seis ganancias, para\n",
        "#   afirmar que el modelo 1 es superior al modelo 2\n",
        "\n",
        "# 7 ganancias\n",
        "wilcox.test(\n",
        "  c(41470000, 48480000, 50610000, 45580000, 52780000, 49970000, 52810000),\n",
        "  c(37790000, 43660000, 47840000, 44490000, 46750000, 44300000, 42840000),\n",
        "  paired = TRUE\n",
        ")\n"
      ],
      "metadata": {
        "id": "NTW8kwY8hamz",
        "outputId": "d726baaf-b0b0-4d2d-aa54-8fcb1573a644",
        "colab": {
          "base_uri": "https://localhost:8080/",
          "height": 121
        }
      },
      "execution_count": 86,
      "outputs": [
        {
          "output_type": "display_data",
          "data": {
            "text/plain": [
              "\n",
              "\tWilcoxon signed rank exact test\n",
              "\n",
              "data:  c(41470000, 48480000, 50610000, 45580000, 52780000, 49970000, 52810000) and c(37790000, 43660000, 47840000, 44490000, 46750000, 44300000, 42840000)\n",
              "V = 28, p-value = 0.01563\n",
              "alternative hypothesis: true location shift is not equal to 0\n"
            ]
          },
          "metadata": {}
        }
      ]
    },
    {
      "cell_type": "code",
      "source": [
        "# 8 ganancias\n",
        "wilcox.test(\n",
        "  c(41470000, 48480000, 50610000, 45580000, 52780000, 49970000, 52810000, 43060000),\n",
        "  c(37790000, 43660000, 47840000, 44490000, 46750000, 44300000, 42840000, 37300000),\n",
        "  paired = TRUE\n",
        ")\n"
      ],
      "metadata": {
        "id": "Xks918w8hcgC",
        "outputId": "d3e46c07-e2aa-4d54-d7d2-aaa657d977cb",
        "colab": {
          "base_uri": "https://localhost:8080/",
          "height": 121
        }
      },
      "execution_count": 87,
      "outputs": [
        {
          "output_type": "display_data",
          "data": {
            "text/plain": [
              "\n",
              "\tWilcoxon signed rank exact test\n",
              "\n",
              "data:  c(41470000, 48480000, 50610000, 45580000, 52780000, 49970000, 52810000, 43060000) and c(37790000, 43660000, 47840000, 44490000, 46750000, 44300000, 42840000, 37300000)\n",
              "V = 36, p-value = 0.007813\n",
              "alternative hypothesis: true location shift is not equal to 0\n"
            ]
          },
          "metadata": {}
        }
      ]
    },
    {
      "cell_type": "code",
      "source": [
        "# 9 ganancias\n",
        "wilcox.test(\n",
        "  c(41470000, 48480000, 50610000, 45580000, 52780000, 49970000, 52810000, 43060000, 49660000),\n",
        "  c(37790000, 43660000, 47840000, 44490000, 46750000, 44300000, 42840000, 37300000, 43730000),\n",
        "  paired = TRUE\n",
        ")"
      ],
      "metadata": {
        "id": "5x8L1PMGhdJR",
        "outputId": "14bb3647-6505-4f01-c2a1-654d7aed1c01",
        "colab": {
          "base_uri": "https://localhost:8080/",
          "height": 121
        }
      },
      "execution_count": 88,
      "outputs": [
        {
          "output_type": "display_data",
          "data": {
            "text/plain": [
              "\n",
              "\tWilcoxon signed rank exact test\n",
              "\n",
              "data:  c(41470000, 48480000, 50610000, 45580000, 52780000, 49970000, 52810000, 43060000, 49660000) and c(37790000, 43660000, 47840000, 44490000, 46750000, 44300000, 42840000, 37300000, 43730000)\n",
              "V = 45, p-value = 0.003906\n",
              "alternative hypothesis: true location shift is not equal to 0\n"
            ]
          },
          "metadata": {}
        }
      ]
    },
    {
      "cell_type": "markdown",
      "source": [
        "\n",
        "\n",
        "---\n",
        "\n"
      ],
      "metadata": {
        "id": "Qjay2WBIkhNm"
      }
    },
    {
      "cell_type": "markdown",
      "source": [
        "# 9 Comparando automaticamente modelos con test de Wilcoxon\n",
        "## Clase 02  Experimento 9"
      ],
      "metadata": {
        "id": "g2aqxlCIk3fk"
      }
    },
    {
      "cell_type": "markdown",
      "source": [],
      "metadata": {
        "id": "FhCY4sH8k3fw"
      }
    },
    {
      "cell_type": "markdown",
      "source": [
        "## 9.1  Objetivos\n",
        "\n",
        "Proveer un script que permita comparar dos arboles de decisión con la librería rpart utilizando la menor cantidad de cómputo que permita el Test de Wilxcoxon"
      ],
      "metadata": {
        "id": "a_ZVBKBHk3fx"
      }
    },
    {
      "cell_type": "markdown",
      "source": [
        "## 9.2  Introduccion\n",
        "\n",
        "| Hiperparámetro | Arbol 1 | Arbol 2 |\n",
        "| --- | --- |  --- |\n",
        "| cp | -1 | -1 |\n",
        "|minsplit | 1050 | 650 |\n",
        "|minbucket | 550 | 300 |\n",
        "|maxdepth |67 | 6 |\n",
        "\n",
        "\n"
      ],
      "metadata": {
        "id": "qCd56L0Ik3fx"
      }
    },
    {
      "cell_type": "markdown",
      "source": [
        "## 9.3 Codigo comparacion automatica Wilcoxon"
      ],
      "metadata": {
        "id": "NBtQsG3vk3fx"
      }
    },
    {
      "cell_type": "markdown",
      "source": [
        "Esta parte se debe correr con el runtime en lenguaje **R** Ir al menu, Runtime -> Change Runtime Tipe -> Runtime type -> R"
      ],
      "metadata": {
        "id": "-ARzDPORlpG6"
      }
    },
    {
      "cell_type": "markdown",
      "source": [
        "limpio el ambiente de R"
      ],
      "metadata": {
        "id": "-Sy-sLMXlpHI"
      }
    },
    {
      "cell_type": "code",
      "source": [
        "# limpio la memoria\n",
        "rm(list=ls(all.names=TRUE)) # remove all objects\n",
        "gc(full=TRUE, verbose=FALSE) # garbage collection"
      ],
      "metadata": {
        "id": "ZpST7lcHlpHI",
        "outputId": "134a9bac-ee1d-432e-bd3f-8e9ca6a4967c",
        "colab": {
          "base_uri": "https://localhost:8080/",
          "height": 129
        }
      },
      "execution_count": 89,
      "outputs": [
        {
          "output_type": "display_data",
          "data": {
            "text/html": [
              "<table class=\"dataframe\">\n",
              "<caption>A matrix: 2 × 6 of type dbl</caption>\n",
              "<thead>\n",
              "\t<tr><th></th><th scope=col>used</th><th scope=col>(Mb)</th><th scope=col>gc trigger</th><th scope=col>(Mb)</th><th scope=col>max used</th><th scope=col>(Mb)</th></tr>\n",
              "</thead>\n",
              "<tbody>\n",
              "\t<tr><th scope=row>Ncells</th><td>1467031</td><td>78.4</td><td> 2537208</td><td>135.6</td><td>  2537208</td><td>135.6</td></tr>\n",
              "\t<tr><th scope=row>Vcells</th><td>2673408</td><td>20.4</td><td>50130091</td><td>382.5</td><td>104059392</td><td>794.0</td></tr>\n",
              "</tbody>\n",
              "</table>\n"
            ],
            "text/markdown": "\nA matrix: 2 × 6 of type dbl\n\n| <!--/--> | used | (Mb) | gc trigger | (Mb) | max used | (Mb) |\n|---|---|---|---|---|---|---|\n| Ncells | 1467031 | 78.4 |  2537208 | 135.6 |   2537208 | 135.6 |\n| Vcells | 2673408 | 20.4 | 50130091 | 382.5 | 104059392 | 794.0 |\n\n",
            "text/latex": "A matrix: 2 × 6 of type dbl\n\\begin{tabular}{r|llllll}\n  & used & (Mb) & gc trigger & (Mb) & max used & (Mb)\\\\\n\\hline\n\tNcells & 1467031 & 78.4 &  2537208 & 135.6 &   2537208 & 135.6\\\\\n\tVcells & 2673408 & 20.4 & 50130091 & 382.5 & 104059392 & 794.0\\\\\n\\end{tabular}\n",
            "text/plain": [
              "       used    (Mb) gc trigger (Mb)  max used  (Mb) \n",
              "Ncells 1467031 78.4  2537208   135.6   2537208 135.6\n",
              "Vcells 2673408 20.4 50130091   382.5 104059392 794.0"
            ]
          },
          "metadata": {}
        }
      ]
    },
    {
      "cell_type": "markdown",
      "source": [
        "* Instalacion de la libreria  rpart.plot  para dibujar el arbol\n",
        "* invocacion de las librerias  **data.table** y  **rpart**"
      ],
      "metadata": {
        "id": "jHhAx3cvlpHJ"
      }
    },
    {
      "cell_type": "code",
      "source": [
        "# cargo las librerias que necesito\n",
        "require(\"data.table\")\n",
        "require(\"rpart\")\n",
        "require(\"parallel\")\n",
        "\n",
        "if (!require(\"primes\")) install.packages(\"primes\")\n",
        "require(\"primes\")\n",
        "\n",
        "require(\"ggplot2\")"
      ],
      "metadata": {
        "id": "cbPnXeeqlpHJ"
      },
      "execution_count": 90,
      "outputs": []
    },
    {
      "cell_type": "markdown",
      "source": [
        "###  Accion a Realizar\n",
        "PARAM$semilla_primigenia  debe reemplazarse por SU primer semilla"
      ],
      "metadata": {
        "id": "_GQk_NEUlpHK"
      }
    },
    {
      "cell_type": "code",
      "source": [
        "PARAM <- list()\n",
        "PARAM$semilla_primigenia <- 120539\n",
        "PARAM$qsemillas_tope <- 50\n",
        "PARAM$training_pct <- 70L     # entre 1 y 100\n"
      ],
      "metadata": {
        "id": "Do801PIHlpHK"
      },
      "execution_count": 91,
      "outputs": []
    },
    {
      "cell_type": "code",
      "source": [
        "# los dos arboles\n",
        "PARAM$rpart1 <- list (\n",
        "  \"cp\" = -1,\n",
        "  \"minsplit\" = 800,\n",
        "  \"minbucket\" = 400,\n",
        "  \"maxdepth\" = 7\n",
        ")\n",
        "\n",
        "\n",
        "PARAM$rpart2 <- list (\n",
        "  \"cp\" = -1,\n",
        "  \"minsplit\" = 650,\n",
        "  \"minbucket\" = 300,\n",
        "  \"maxdepth\" = 6\n",
        ")\n"
      ],
      "metadata": {
        "id": "KlC7gTc7lpHK"
      },
      "execution_count": 92,
      "outputs": []
    },
    {
      "cell_type": "code",
      "source": [
        "# particionar agrega una columna llamada fold a un dataset\n",
        "#  que consiste en una particion estratificada segun agrupa\n",
        "\n",
        "# particionar( data=dataset, division=c(70,30),\n",
        "#  agrupa=clase_ternaria, seed=semilla)   crea una particion 70, 30\n",
        "\n",
        "particionar <- function(\n",
        "    data, division, agrupa = \"\",\n",
        "    campo = \"fold\", start = 1, seed = NA) {\n",
        "  if (!is.na(seed)) set.seed(seed)\n",
        "\n",
        "  bloque <- unlist(mapply(function(x, y) {\n",
        "    rep(y, x)\n",
        "  }, division, seq(from = start, length.out = length(division))))\n",
        "\n",
        "  data[, (campo) := sample(rep(bloque, ceiling(.N / length(bloque))))[1:.N],\n",
        "    by = agrupa\n",
        "  ]\n",
        "}\n"
      ],
      "metadata": {
        "id": "I7hOkZrxlpHL"
      },
      "execution_count": 93,
      "outputs": []
    },
    {
      "cell_type": "code",
      "source": [
        "DosArbolesEstimarGanancia <- function(semilla, training_pct, param_rpart1, param_rpart2) {\n",
        "  # particiono estratificadamente el dataset\n",
        "  particionar(dataset,\n",
        "    division = c(training_pct, 100L -training_pct),\n",
        "    agrupa = \"clase_ternaria\",\n",
        "    seed = semilla # aqui se usa SU semilla\n",
        "  )\n",
        "\n",
        "  # genero el modelo\n",
        "  # predecir clase_ternaria a partir del resto\n",
        "  modelo1 <- rpart(\"clase_ternaria ~ .\",\n",
        "    data = dataset[fold == 1], # fold==1  es training,  el 70% de los datos\n",
        "    xval = 0,\n",
        "    control = param_rpart1\n",
        "  ) # aqui van los parametros del arbol\n",
        "\n",
        "  # aplico el modelo a los datos de testing\n",
        "  prediccion1 <- predict(modelo1, # el modelo que genere recien\n",
        "    dataset[fold == 2], # fold==2  es testing, el 30% de los datos\n",
        "    type = \"prob\"\n",
        "  ) # type= \"prob\"  es que devuelva la probabilidad\n",
        "\n",
        "\n",
        "  # calculo la ganancia en testing  qu es fold==2\n",
        "  ganancia_test1 <- dataset[\n",
        "    fold == 2,\n",
        "    sum(ifelse(prediccion1[, \"BAJA+2\"] > 0.025,\n",
        "      ifelse(clase_ternaria == \"BAJA+2\", 117000, -3000),\n",
        "      0\n",
        "    ))\n",
        "  ]\n",
        "\n",
        "  # escalo la ganancia como si fuera todo el dataset\n",
        "  ganancia_test_normalizada1 <- ganancia_test1 / (( 100 - training_pct ) / 100 )\n",
        "\n",
        "  modelo2 <- rpart(\"clase_ternaria ~ .\",\n",
        "    data = dataset[fold == 1], # fold==1  es training,  el 70% de los datos\n",
        "    xval = 0,\n",
        "    control = param_rpart2\n",
        "  ) # aqui van los parametros del arbol\n",
        "\n",
        "  # aplico el modelo a los datos de testing\n",
        "  prediccion2 <- predict(modelo2, # el modelo que genere recien\n",
        "    dataset[fold == 2], # fold==2  es testing, el 30% de los datos\n",
        "    type = \"prob\"\n",
        "  ) # type= \"prob\"  es que devuelva la probabilidad\n",
        "\n",
        "\n",
        "  # calculo la ganancia en testing  qu es fold==2\n",
        "  ganancia_test2 <- dataset[\n",
        "    fold == 2,\n",
        "    sum(ifelse(prediccion2[, \"BAJA+2\"] > 0.025,\n",
        "      ifelse(clase_ternaria == \"BAJA+2\", 117000, -3000),\n",
        "      0\n",
        "    ))\n",
        "  ]\n",
        "\n",
        "  # escalo la ganancia como si fuera todo el dataset\n",
        "  ganancia_test_normalizada2 <- ganancia_test2 / (( 100 - training_pct ) / 100 )\n",
        "\n",
        "  return(list(\n",
        "    \"semilla\" = semilla,\n",
        "    \"ganancia1\" = ganancia_test_normalizada1,\n",
        "    \"ganancia2\" = ganancia_test_normalizada2\n",
        "  ))\n",
        "}"
      ],
      "metadata": {
        "id": "vFpBSFBYlpHL"
      },
      "execution_count": 94,
      "outputs": []
    },
    {
      "cell_type": "code",
      "source": [
        "# 1  ->  el modelo 1 es mejor\n",
        "# 2  ->  el modelo 2 es mejor\n",
        "# 0  ->  No se pudo determinar con el tope de qsemillas_tope\n",
        "\n",
        "\n",
        "MejorArbol <- function( qsemillas_tope, training_pct, param_rpart1, param_rpart2) {\n",
        "\n",
        "  # genero numeros primos\n",
        "  primos <- generate_primes(min = 100000, max = 1000000)\n",
        "  set.seed(PARAM$semilla_primigenia) # inicializo\n",
        "  # me quedo con PARAM$qsemillas   semillas\n",
        "  semillas <- sample(primos, qsemillas_tope )\n",
        "\n",
        "  pvalue <- 1.0\n",
        "  isem <- 1\n",
        "  vgan1 <- c() # almaceno ganancias del modelo1\n",
        "  vgan2 <- c() # almaceno ganancias del modelo2\n",
        "\n",
        "  while( (isem <= qsemillas_tope)  & (pvalue > 0.05) ) {\n",
        "\n",
        "    res <- DosArbolesEstimarGanancia(\n",
        "       semillas[ isem ],\n",
        "       training_pct,\n",
        "       param_rpart1,\n",
        "       param_rpart2\n",
        "    )\n",
        "\n",
        "    vgan1 <- c( vgan1, res$ganancia1 )\n",
        "    vgan2 <- c( vgan2, res$ganancia2 )\n",
        "\n",
        "    wt <- wilcox.test( vgan1, vgan2, paired=TRUE )\n",
        "    pvalue <- wt$p.value\n",
        "\n",
        "    cat( isem, res$ganancia1, res$ganancia2, pvalue, \"\\n\" )\n",
        "    flush.console()\n",
        "    isem <- isem + 1\n",
        "  }\n",
        "\n",
        "  out <- 0\n",
        "\n",
        "  if( pvalue < 0.05 & mean(vgan1) > mean(vgan2)  )  out <- 1\n",
        "  if( pvalue < 0.05 & mean(vgan1) < mean(vgan2)  )  out <- 2\n",
        "\n",
        "\n",
        "  return( list( \"out\" = out,\n",
        "    \"qsemillas\" = length(vgan1),\n",
        "    \"m1\" = mean( vgan1 ),\n",
        "    \"m2\" = mean( vgan2 )\n",
        "   ) )\n",
        "}\n"
      ],
      "metadata": {
        "id": "Cp8RnA_NmE8g"
      },
      "execution_count": 95,
      "outputs": []
    },
    {
      "cell_type": "code",
      "source": [
        "# carpeta de trabajo\n",
        "setwd(\"/content/buckets/b1/exp\")\n",
        "experimento <- \"exp209\"\n",
        "dir.create(experimento, showWarnings=FALSE)\n",
        "setwd( paste0(\"/content/buckets/b1/exp/\", experimento ))"
      ],
      "metadata": {
        "id": "r1motpfOlpHM"
      },
      "execution_count": 96,
      "outputs": []
    },
    {
      "cell_type": "code",
      "source": [
        "# lectura del dataset\n",
        "dataset <- fread(\"/content/datasets/dataset_pequeno.csv\")\n",
        "\n",
        "# trabajo solo con los datos con clase, es decir 202107\n",
        "dataset <- dataset[clase_ternaria != \"\"]"
      ],
      "metadata": {
        "id": "hT0LaKWumTSu"
      },
      "execution_count": 97,
      "outputs": []
    },
    {
      "cell_type": "code",
      "source": [
        "Sys.time()\n",
        "\n",
        "comparacion <- MejorArbol(\n",
        "   PARAM$qsemillas_tope,\n",
        "   PARAM$training_pct,\n",
        "   PARAM$rpart1,\n",
        "   PARAM$rpart2\n",
        " )\n",
        "\n",
        "\n",
        "print( comparacion )\n",
        "\n",
        "Sys.time()"
      ],
      "metadata": {
        "id": "wsk0F77ambVW",
        "outputId": "aa08430e-b260-4b92-cde7-b72c945cfd6d",
        "colab": {
          "base_uri": "https://localhost:8080/",
          "height": 434
        }
      },
      "execution_count": 98,
      "outputs": [
        {
          "output_type": "display_data",
          "data": {
            "text/plain": [
              "[1] \"2025-10-25 20:57:22 UTC\""
            ]
          },
          "metadata": {}
        },
        {
          "output_type": "stream",
          "name": "stdout",
          "text": [
            "1 55960000 54550000 1 \n",
            "2 48200000 51150000 1 \n",
            "3 47460000 49030000 0.5 \n",
            "4 53570000 53480000 0.625 \n",
            "5 50220000 56610000 0.3125 \n",
            "6 48200000 51260000 0.15625 \n",
            "7 45110000 51760000 0.078125 \n",
            "8 48530000 49430000 0.0546875 \n",
            "9 49360000 49420000 0.0546875 \n",
            "10 45960000 48190000 0.02734375 \n",
            "$out\n",
            "[1] 2\n",
            "\n",
            "$qsemillas\n",
            "[1] 10\n",
            "\n",
            "$m1\n",
            "[1] 49257000\n",
            "\n",
            "$m2\n",
            "[1] 51488000\n",
            "\n"
          ]
        },
        {
          "output_type": "display_data",
          "data": {
            "text/plain": [
              "[1] \"2025-10-25 21:16:32 UTC\""
            ]
          },
          "metadata": {}
        }
      ]
    },
    {
      "cell_type": "markdown",
      "source": [
        "### Acciones a realizar\n",
        "* Reportar la  los resultados en la planilla colaborativa hoja  **C2-Wilcox**\n"
      ],
      "metadata": {
        "id": "d2br1bgJlpHQ"
      }
    },
    {
      "cell_type": "markdown",
      "source": [
        "\n",
        "\n",
        "---\n",
        "\n"
      ],
      "metadata": {
        "id": "x7SebtV2lpHQ"
      }
    }
  ]
}